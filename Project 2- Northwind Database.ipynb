{
 "cells": [
  {
   "cell_type": "markdown",
   "metadata": {},
   "source": [
    "# Project 2 - Nortwind Dataset "
   ]
  },
  {
   "cell_type": "markdown",
   "metadata": {},
   "source": [
    "The goal of this project is to do statistical analysis and hypothesis testing to generate valuable analytical insights for the company. I will be working on Nortwind Dataset.\n",
    "\n",
    "# Methodology\n",
    "\n",
    "I followed scientific method for hypothesis testing. I also used  Exploratory Data Analysis (EDA) approach to do the  statistical analysis  within the hypothesis testing process. \n",
    "\n"
   ]
  },
  {
   "cell_type": "markdown",
   "metadata": {},
   "source": [
    "\n",
    "\n",
    " <img src='new_the-scientific-method.png' width=\"500\" height=\"700\">\n",
    "\n",
    "\n",
    "The general structure of an experiment is as follows:\n",
    "\n",
    "\n",
    "#### 1. Make an Observation and Come up with the Question\n",
    "The first step of the scientific method is to observe something that you want to test. During this step, you must observe phenomena to help refine the question that you want to answer. \n",
    "#### 2. Examine the Data \n",
    "In statistics, exploratory data analysis (EDA) is an approach to analyzing data sets to summarize their main characteristics, often with visual methods. A statistical model can be used or not, but primarily EDA is for seeing what the data can tell us beyond the formal modeling or hypothesis testing task. The main pillars of EDA are data cleaning, data preparation, data exploration, and data visualization. \n",
    "\n",
    "The particular graphical techniques employed in EDA are often quite simple, consisting of various techniques of:\n",
    "\n",
    "* Plotting the raw data (such as data traces, histograms, bihistograms, probability plots, lag plots, block plots, and Youden plots.\n",
    "\n",
    "* Plotting simple statistics such as mean plots, standard deviation plots, box plots, and main effects plots of the raw data.\n",
    "\n",
    "* Positioning such plots so as to maximize our natural pattern-recognition abilities, such as using multiple plots per page.\n",
    "\n",
    "#### 3. Form a Hypothesis\n",
    "During this stage, you'll formulate 2 hypotheses to test--your educated guess about the outcome is called the Alternative Hypothesis, while the opposite of it is called the Null Hypothesis. \n",
    "\n",
    "#### 4. Run the Test\n",
    "This step is the part of the scientific method that will be the focus of this section. You can only test a hypothesis by gathering data from a well-structured experiment.You must pick the right test for you case. Moreover, each staistical test has a set of assumptions to be considered accurate. Make sure those assumptions are met and run the test. \n",
    "\n",
    "#### 5. Analyze Experimental Results\n",
    "During this step, you will tease out relationships, filter out noise, and try to determine if something that happened is statistically significant or not. Depend on the test result, you will compare t, f,z, mostly p value with the alpha value to come up with conclusions. \n",
    "\n",
    "#### 6. Draw Conclusions\n",
    "This step is the logical endpoint for an experiment. You've asked a question, looked at experimental results from others that could be related to your question, made an educated guess, designed an experiment, collected data and analyzed the results. \n",
    "The reality of this step is that you use your analysis of the data to do one of two things: either reject the null hypothesis or fail to reject the null hypothesis. \n",
    "\n",
    "\n"
   ]
  },
  {
   "cell_type": "markdown",
   "metadata": {},
   "source": [
    "### Northwind Dataset Schema "
   ]
  },
  {
   "cell_type": "markdown",
   "metadata": {},
   "source": [
    "# <img src='Northwind_ERD.png'>\n"
   ]
  },
  {
   "cell_type": "markdown",
   "metadata": {},
   "source": [
    "## The Order of Hyphotesis Testing:\n",
    "* Question\n",
    "* Get the Data\n",
    "* EDA \n",
    "* Write null Hypothesis and alternative Hypothesis\n",
    "* Decide the test and Alpha level\n",
    "* Compute the test statistics\n",
    "* Analyze the result\n",
    "\n",
    "\n"
   ]
  },
  {
   "cell_type": "code",
   "execution_count": 100,
   "metadata": {},
   "outputs": [],
   "source": [
    "import sqlalchemy\n",
    "import pandas as pd\n",
    "import numpy as np\n",
    "from scipy import stats\n",
    "from sqlalchemy import create_engine\n",
    "from sqlalchemy import inspect\n",
    "\n",
    "import matplotlib.pyplot as plt\n",
    "import seaborn as sns\n",
    "plt.style.use('seaborn')\n",
    "\n",
    "from scipy import stats # significance levels, normality\n",
    "import itertools # for combinations\n",
    "import statsmodels.api as sm # anova\n",
    "from statsmodels.formula.api import ols\n"
   ]
  },
  {
   "cell_type": "code",
   "execution_count": 101,
   "metadata": {},
   "outputs": [
    {
     "name": "stdout",
     "output_type": "stream",
     "text": [
      "['Category', 'Customer', 'CustomerCustomerDemo', 'CustomerDemographic', 'Employee', 'EmployeeTerritory', 'Order', 'OrderDetail', 'Product', 'Region', 'Shipper', 'Supplier', 'Territory']\n"
     ]
    }
   ],
   "source": [
    "# connecting to the Database using SQLAlchemy\n",
    "engine = create_engine(\"sqlite:///Northwind_small.sqlite\")\n",
    "\n",
    "# create an inspector object\n",
    "inspector = inspect(engine)\n",
    "\n",
    "# get names of tables in database\n",
    "print(inspector.get_table_names())"
   ]
  },
  {
   "cell_type": "code",
   "execution_count": 102,
   "metadata": {},
   "outputs": [],
   "source": [
    "# write a quick function that prints the columns of a table and each column's type\n",
    "\n",
    "def get_columns_info(table_name):    \n",
    "    \"\"\" Function takes in table name and prints columns' names\n",
    "    and datatypes \"\"\"\n",
    "    \n",
    "    cols_list = inspector.get_columns(table_name)    \n",
    "    print(f\"Table Name: {table_name}\\n\")\n",
    "    for col in cols_list:\n",
    "        print(f\"Name: {col['name']} \\t Type: {col['type']}\")"
   ]
  },
  {
   "cell_type": "code",
   "execution_count": 103,
   "metadata": {},
   "outputs": [
    {
     "name": "stdout",
     "output_type": "stream",
     "text": [
      "Table Name: OrderDetail\n",
      "\n",
      "Name: Id \t Type: VARCHAR(8000)\n",
      "Name: OrderId \t Type: INTEGER\n",
      "Name: ProductId \t Type: INTEGER\n",
      "Name: UnitPrice \t Type: DECIMAL\n",
      "Name: Quantity \t Type: INTEGER\n",
      "Name: Discount \t Type: FLOAT\n"
     ]
    }
   ],
   "source": [
    "# calling the function to test it\n",
    "get_columns_info('OrderDetail')"
   ]
  },
  {
   "cell_type": "code",
   "execution_count": 104,
   "metadata": {},
   "outputs": [
    {
     "name": "stdout",
     "output_type": "stream",
     "text": [
      "Table Name: Product\n",
      "\n",
      "Name: Id \t Type: INTEGER\n",
      "Name: ProductName \t Type: VARCHAR(8000)\n",
      "Name: SupplierId \t Type: INTEGER\n",
      "Name: CategoryId \t Type: INTEGER\n",
      "Name: QuantityPerUnit \t Type: VARCHAR(8000)\n",
      "Name: UnitPrice \t Type: DECIMAL\n",
      "Name: UnitsInStock \t Type: INTEGER\n",
      "Name: UnitsOnOrder \t Type: INTEGER\n",
      "Name: ReorderLevel \t Type: INTEGER\n",
      "Name: Discontinued \t Type: INTEGER\n"
     ]
    }
   ],
   "source": [
    "get_columns_info('Product')"
   ]
  },
  {
   "cell_type": "code",
   "execution_count": 105,
   "metadata": {},
   "outputs": [
    {
     "data": {
      "text/html": [
       "<div>\n",
       "<style scoped>\n",
       "    .dataframe tbody tr th:only-of-type {\n",
       "        vertical-align: middle;\n",
       "    }\n",
       "\n",
       "    .dataframe tbody tr th {\n",
       "        vertical-align: top;\n",
       "    }\n",
       "\n",
       "    .dataframe thead th {\n",
       "        text-align: right;\n",
       "    }\n",
       "</style>\n",
       "<table border=\"1\" class=\"dataframe\">\n",
       "  <thead>\n",
       "    <tr style=\"text-align: right;\">\n",
       "      <th></th>\n",
       "      <th>Id</th>\n",
       "      <th>OrderId</th>\n",
       "      <th>ProductId</th>\n",
       "      <th>UnitPrice</th>\n",
       "      <th>Quantity</th>\n",
       "      <th>Discount</th>\n",
       "    </tr>\n",
       "  </thead>\n",
       "  <tbody>\n",
       "    <tr>\n",
       "      <th>0</th>\n",
       "      <td>10248/11</td>\n",
       "      <td>10248</td>\n",
       "      <td>11</td>\n",
       "      <td>14.0</td>\n",
       "      <td>12</td>\n",
       "      <td>0.0</td>\n",
       "    </tr>\n",
       "    <tr>\n",
       "      <th>1</th>\n",
       "      <td>10248/42</td>\n",
       "      <td>10248</td>\n",
       "      <td>42</td>\n",
       "      <td>9.8</td>\n",
       "      <td>10</td>\n",
       "      <td>0.0</td>\n",
       "    </tr>\n",
       "    <tr>\n",
       "      <th>2</th>\n",
       "      <td>10248/72</td>\n",
       "      <td>10248</td>\n",
       "      <td>72</td>\n",
       "      <td>34.8</td>\n",
       "      <td>5</td>\n",
       "      <td>0.0</td>\n",
       "    </tr>\n",
       "    <tr>\n",
       "      <th>3</th>\n",
       "      <td>10249/14</td>\n",
       "      <td>10249</td>\n",
       "      <td>14</td>\n",
       "      <td>18.6</td>\n",
       "      <td>9</td>\n",
       "      <td>0.0</td>\n",
       "    </tr>\n",
       "    <tr>\n",
       "      <th>4</th>\n",
       "      <td>10249/51</td>\n",
       "      <td>10249</td>\n",
       "      <td>51</td>\n",
       "      <td>42.4</td>\n",
       "      <td>40</td>\n",
       "      <td>0.0</td>\n",
       "    </tr>\n",
       "  </tbody>\n",
       "</table>\n",
       "</div>"
      ],
      "text/plain": [
       "         Id  OrderId  ProductId  UnitPrice  Quantity  Discount\n",
       "0  10248/11    10248         11       14.0        12       0.0\n",
       "1  10248/42    10248         42        9.8        10       0.0\n",
       "2  10248/72    10248         72       34.8         5       0.0\n",
       "3  10249/14    10249         14       18.6         9       0.0\n",
       "4  10249/51    10249         51       42.4        40       0.0"
      ]
     },
     "execution_count": 105,
     "metadata": {},
     "output_type": "execute_result"
    }
   ],
   "source": [
    "OrderDetails = pd.read_sql_query('''SELECT *\n",
    "                            FROM OrderDetail\n",
    "                            LIMIT 5\n",
    "                            ;''', engine)\n",
    "OrderDetails"
   ]
  },
  {
   "cell_type": "code",
   "execution_count": 106,
   "metadata": {},
   "outputs": [
    {
     "data": {
      "text/html": [
       "<div>\n",
       "<style scoped>\n",
       "    .dataframe tbody tr th:only-of-type {\n",
       "        vertical-align: middle;\n",
       "    }\n",
       "\n",
       "    .dataframe tbody tr th {\n",
       "        vertical-align: top;\n",
       "    }\n",
       "\n",
       "    .dataframe thead th {\n",
       "        text-align: right;\n",
       "    }\n",
       "</style>\n",
       "<table border=\"1\" class=\"dataframe\">\n",
       "  <thead>\n",
       "    <tr style=\"text-align: right;\">\n",
       "      <th></th>\n",
       "      <th>Id</th>\n",
       "      <th>CategoryName</th>\n",
       "      <th>Description</th>\n",
       "    </tr>\n",
       "  </thead>\n",
       "  <tbody>\n",
       "    <tr>\n",
       "      <th>0</th>\n",
       "      <td>1</td>\n",
       "      <td>Beverages</td>\n",
       "      <td>Soft drinks, coffees, teas, beers, and ales</td>\n",
       "    </tr>\n",
       "    <tr>\n",
       "      <th>1</th>\n",
       "      <td>2</td>\n",
       "      <td>Condiments</td>\n",
       "      <td>Sweet and savory sauces, relishes, spreads, an...</td>\n",
       "    </tr>\n",
       "    <tr>\n",
       "      <th>2</th>\n",
       "      <td>3</td>\n",
       "      <td>Confections</td>\n",
       "      <td>Desserts, candies, and sweet breads</td>\n",
       "    </tr>\n",
       "    <tr>\n",
       "      <th>3</th>\n",
       "      <td>4</td>\n",
       "      <td>Dairy Products</td>\n",
       "      <td>Cheeses</td>\n",
       "    </tr>\n",
       "    <tr>\n",
       "      <th>4</th>\n",
       "      <td>5</td>\n",
       "      <td>Grains/Cereals</td>\n",
       "      <td>Breads, crackers, pasta, and cereal</td>\n",
       "    </tr>\n",
       "    <tr>\n",
       "      <th>5</th>\n",
       "      <td>6</td>\n",
       "      <td>Meat/Poultry</td>\n",
       "      <td>Prepared meats</td>\n",
       "    </tr>\n",
       "    <tr>\n",
       "      <th>6</th>\n",
       "      <td>7</td>\n",
       "      <td>Produce</td>\n",
       "      <td>Dried fruit and bean curd</td>\n",
       "    </tr>\n",
       "    <tr>\n",
       "      <th>7</th>\n",
       "      <td>8</td>\n",
       "      <td>Seafood</td>\n",
       "      <td>Seaweed and fish</td>\n",
       "    </tr>\n",
       "  </tbody>\n",
       "</table>\n",
       "</div>"
      ],
      "text/plain": [
       "   Id    CategoryName                                        Description\n",
       "0   1       Beverages        Soft drinks, coffees, teas, beers, and ales\n",
       "1   2      Condiments  Sweet and savory sauces, relishes, spreads, an...\n",
       "2   3     Confections                Desserts, candies, and sweet breads\n",
       "3   4  Dairy Products                                            Cheeses\n",
       "4   5  Grains/Cereals                Breads, crackers, pasta, and cereal\n",
       "5   6    Meat/Poultry                                     Prepared meats\n",
       "6   7         Produce                          Dried fruit and bean curd\n",
       "7   8         Seafood                                   Seaweed and fish"
      ]
     },
     "execution_count": 106,
     "metadata": {},
     "output_type": "execute_result"
    }
   ],
   "source": [
    "category = pd.read_sql_query('''SELECT *\n",
    "                            FROM category\n",
    "                \n",
    "                            ;''', engine)\n",
    "category"
   ]
  },
  {
   "cell_type": "code",
   "execution_count": 107,
   "metadata": {},
   "outputs": [
    {
     "name": "stdout",
     "output_type": "stream",
     "text": [
      "Table Name: Order\n",
      "\n",
      "Name: Id \t Type: INTEGER\n",
      "Name: CustomerId \t Type: VARCHAR(8000)\n",
      "Name: EmployeeId \t Type: INTEGER\n",
      "Name: OrderDate \t Type: VARCHAR(8000)\n",
      "Name: RequiredDate \t Type: VARCHAR(8000)\n",
      "Name: ShippedDate \t Type: VARCHAR(8000)\n",
      "Name: ShipVia \t Type: INTEGER\n",
      "Name: Freight \t Type: DECIMAL\n",
      "Name: ShipName \t Type: VARCHAR(8000)\n",
      "Name: ShipAddress \t Type: VARCHAR(8000)\n",
      "Name: ShipCity \t Type: VARCHAR(8000)\n",
      "Name: ShipRegion \t Type: VARCHAR(8000)\n",
      "Name: ShipPostalCode \t Type: VARCHAR(8000)\n",
      "Name: ShipCountry \t Type: VARCHAR(8000)\n"
     ]
    }
   ],
   "source": [
    "get_columns_info('Order')"
   ]
  },
  {
   "cell_type": "markdown",
   "metadata": {},
   "source": [
    "First I need the data from the orderdetail table. Just to see the data on those table I will query the top 5 rows. "
   ]
  },
  {
   "cell_type": "code",
   "execution_count": 108,
   "metadata": {},
   "outputs": [],
   "source": [
    "def Cohen_d(group1, group2):\n",
    "\n",
    "    # Compute Cohen's d.\n",
    "\n",
    "    # group1: Series or NumPy array\n",
    "    # group2: Series or NumPy array\n",
    "\n",
    "    # returns a floating point number \n",
    "\n",
    "    diff = group1.mean() - group2.mean()\n",
    "\n",
    "    n1, n2 = len(group1), len(group2)\n",
    "    var1 = group1.var()\n",
    "    var2 = group2.var()\n",
    "\n",
    "    # Calculate the pooled threshold as shown earlier\n",
    "    pooled_var = (n1 * var1 + n2 * var2) / (n1 + n2)\n",
    "    \n",
    "    # Calculate Cohen's d statistic\n",
    "    d = diff / np.sqrt(pooled_var)\n",
    "    \n",
    "    return d\n"
   ]
  },
  {
   "cell_type": "markdown",
   "metadata": {},
   "source": [
    "### I will only query the data parts that I will use as a good practice of reducing the load for the processor. Since SQL is a lot faster than Pyhton in data processing, I will also do filtering and extracting data in SQL query as much as I can. "
   ]
  },
  {
   "cell_type": "markdown",
   "metadata": {},
   "source": [
    "# Question 1\n",
    "### 1.1 - Does discount amount have a statistically significant effect on the quantity of a product in an order? If so, at what level(s) of discount?\n"
   ]
  },
  {
   "cell_type": "markdown",
   "metadata": {},
   "source": [
    "### 1.2 - Retrieve the data and perform EDA\n",
    "\n",
    "Out of all the columns, I will only need Quantity and Discount columns from Orderdetails table.  "
   ]
  },
  {
   "cell_type": "code",
   "execution_count": 109,
   "metadata": {},
   "outputs": [
    {
     "data": {
      "text/html": [
       "<div>\n",
       "<style scoped>\n",
       "    .dataframe tbody tr th:only-of-type {\n",
       "        vertical-align: middle;\n",
       "    }\n",
       "\n",
       "    .dataframe tbody tr th {\n",
       "        vertical-align: top;\n",
       "    }\n",
       "\n",
       "    .dataframe thead th {\n",
       "        text-align: right;\n",
       "    }\n",
       "</style>\n",
       "<table border=\"1\" class=\"dataframe\">\n",
       "  <thead>\n",
       "    <tr style=\"text-align: right;\">\n",
       "      <th></th>\n",
       "      <th>Discount</th>\n",
       "      <th>Quantity</th>\n",
       "    </tr>\n",
       "  </thead>\n",
       "  <tbody>\n",
       "    <tr>\n",
       "      <th>0</th>\n",
       "      <td>0.0</td>\n",
       "      <td>12</td>\n",
       "    </tr>\n",
       "    <tr>\n",
       "      <th>1</th>\n",
       "      <td>0.0</td>\n",
       "      <td>10</td>\n",
       "    </tr>\n",
       "    <tr>\n",
       "      <th>2</th>\n",
       "      <td>0.0</td>\n",
       "      <td>5</td>\n",
       "    </tr>\n",
       "    <tr>\n",
       "      <th>3</th>\n",
       "      <td>0.0</td>\n",
       "      <td>9</td>\n",
       "    </tr>\n",
       "    <tr>\n",
       "      <th>4</th>\n",
       "      <td>0.0</td>\n",
       "      <td>40</td>\n",
       "    </tr>\n",
       "  </tbody>\n",
       "</table>\n",
       "</div>"
      ],
      "text/plain": [
       "   Discount  Quantity\n",
       "0       0.0        12\n",
       "1       0.0        10\n",
       "2       0.0         5\n",
       "3       0.0         9\n",
       "4       0.0        40"
      ]
     },
     "execution_count": 109,
     "metadata": {},
     "output_type": "execute_result"
    }
   ],
   "source": [
    "data = pd.read_sql_query('''SELECT Discount, Quantity\n",
    "                            FROM OrderDetail\n",
    "                            \n",
    "                            ;''', engine)\n",
    "data.head()"
   ]
  },
  {
   "cell_type": "markdown",
   "metadata": {},
   "source": [
    "I want those columns to be grouped by and ordered by Discount levels. "
   ]
  },
  {
   "cell_type": "code",
   "execution_count": 110,
   "metadata": {},
   "outputs": [
    {
     "data": {
      "text/html": [
       "<div>\n",
       "<style scoped>\n",
       "    .dataframe tbody tr th:only-of-type {\n",
       "        vertical-align: middle;\n",
       "    }\n",
       "\n",
       "    .dataframe tbody tr th {\n",
       "        vertical-align: top;\n",
       "    }\n",
       "\n",
       "    .dataframe thead th {\n",
       "        text-align: right;\n",
       "    }\n",
       "</style>\n",
       "<table border=\"1\" class=\"dataframe\">\n",
       "  <thead>\n",
       "    <tr style=\"text-align: right;\">\n",
       "      <th></th>\n",
       "      <th>Discount</th>\n",
       "      <th>Quantity</th>\n",
       "    </tr>\n",
       "  </thead>\n",
       "  <tbody>\n",
       "    <tr>\n",
       "      <th>0</th>\n",
       "      <td>0.00</td>\n",
       "      <td>28599</td>\n",
       "    </tr>\n",
       "    <tr>\n",
       "      <th>1</th>\n",
       "      <td>0.01</td>\n",
       "      <td>2</td>\n",
       "    </tr>\n",
       "    <tr>\n",
       "      <th>2</th>\n",
       "      <td>0.02</td>\n",
       "      <td>4</td>\n",
       "    </tr>\n",
       "    <tr>\n",
       "      <th>3</th>\n",
       "      <td>0.03</td>\n",
       "      <td>5</td>\n",
       "    </tr>\n",
       "    <tr>\n",
       "      <th>4</th>\n",
       "      <td>0.04</td>\n",
       "      <td>1</td>\n",
       "    </tr>\n",
       "    <tr>\n",
       "      <th>5</th>\n",
       "      <td>0.05</td>\n",
       "      <td>5182</td>\n",
       "    </tr>\n",
       "    <tr>\n",
       "      <th>6</th>\n",
       "      <td>0.06</td>\n",
       "      <td>2</td>\n",
       "    </tr>\n",
       "    <tr>\n",
       "      <th>7</th>\n",
       "      <td>0.10</td>\n",
       "      <td>4366</td>\n",
       "    </tr>\n",
       "    <tr>\n",
       "      <th>8</th>\n",
       "      <td>0.15</td>\n",
       "      <td>4456</td>\n",
       "    </tr>\n",
       "    <tr>\n",
       "      <th>9</th>\n",
       "      <td>0.20</td>\n",
       "      <td>4351</td>\n",
       "    </tr>\n",
       "    <tr>\n",
       "      <th>10</th>\n",
       "      <td>0.25</td>\n",
       "      <td>4349</td>\n",
       "    </tr>\n",
       "  </tbody>\n",
       "</table>\n",
       "</div>"
      ],
      "text/plain": [
       "    Discount  Quantity\n",
       "0       0.00     28599\n",
       "1       0.01         2\n",
       "2       0.02         4\n",
       "3       0.03         5\n",
       "4       0.04         1\n",
       "5       0.05      5182\n",
       "6       0.06         2\n",
       "7       0.10      4366\n",
       "8       0.15      4456\n",
       "9       0.20      4351\n",
       "10      0.25      4349"
      ]
     },
     "execution_count": 110,
     "metadata": {},
     "output_type": "execute_result"
    }
   ],
   "source": [
    "discount_levels = pd.read_sql_query('''SELECT Discount, sum(Quantity) as Quantity\n",
    "                            FROM OrderDetail\n",
    "                            GROUP BY Discount\n",
    "                            ORDER BY Discount\n",
    "        \n",
    "                            ;''', engine)\n",
    "discount_levels\n",
    "            \n",
    "         "
   ]
  },
  {
   "cell_type": "markdown",
   "metadata": {},
   "source": [
    "Most orders do not have discount. Discount levels are mainly 5%, 10%, 15%, 20%, 25%. There are a few rare cases though. \n",
    "\n",
    "To see how the data distributed, I will create bar graph. "
   ]
  },
  {
   "cell_type": "code",
   "execution_count": 111,
   "metadata": {
    "scrolled": true
   },
   "outputs": [
    {
     "data": {
      "image/png": "[encoded data removed]",
      "text/plain": [
       "<Figure size 720x432 with 1 Axes>"
      ]
     },
     "metadata": {},
     "output_type": "display_data"
    }
   ],
   "source": [
    "plt.figure(figsize=(10,6))\n",
    "plt.bar(discount_levels.Discount,discount_levels.Quantity, width=0.01) \n",
    "plt.title('Quantity by Discount Amount', size=15)\n",
    "plt.xlabel(\"Discount Amount\")\n",
    "plt.ylabel(\"Quantity\")\n",
    "plt.show()\n"
   ]
  },
  {
   "cell_type": "markdown",
   "metadata": {},
   "source": [
    "\n",
    "Rare discounts are ignored in the chart, I will also ignore them in the test. \n",
    "I will split this data in to two samples as discount and non-discount orders. I will not include the extreme rare discount levels this time. "
   ]
  },
  {
   "cell_type": "code",
   "execution_count": 112,
   "metadata": {},
   "outputs": [],
   "source": [
    "non_disc = pd.read_sql_query('''SELECT Discount, Quantity\n",
    "                            FROM OrderDetail\n",
    "                            WHERE Discount=0\n",
    "                            \n",
    "                            ;''', engine)\n",
    "\n",
    "\n",
    "disc = pd.read_sql_query('''SELECT Discount, Quantity\n",
    "                                            FROM OrderDetail\n",
    "                                            WHERE Discount >= 0.1 OR Discount = 0.05 \n",
    "                            \n",
    "                            ;''', engine)"
   ]
  },
  {
   "cell_type": "code",
   "execution_count": 113,
   "metadata": {},
   "outputs": [
    {
     "data": {
      "text/html": [
       "<div>\n",
       "<style scoped>\n",
       "    .dataframe tbody tr th:only-of-type {\n",
       "        vertical-align: middle;\n",
       "    }\n",
       "\n",
       "    .dataframe tbody tr th {\n",
       "        vertical-align: top;\n",
       "    }\n",
       "\n",
       "    .dataframe thead th {\n",
       "        text-align: right;\n",
       "    }\n",
       "</style>\n",
       "<table border=\"1\" class=\"dataframe\">\n",
       "  <thead>\n",
       "    <tr style=\"text-align: right;\">\n",
       "      <th></th>\n",
       "      <th>Discount</th>\n",
       "      <th>Quantity</th>\n",
       "    </tr>\n",
       "  </thead>\n",
       "  <tbody>\n",
       "    <tr>\n",
       "      <th>count</th>\n",
       "      <td>1317.0</td>\n",
       "      <td>1317.000000</td>\n",
       "    </tr>\n",
       "    <tr>\n",
       "      <th>mean</th>\n",
       "      <td>0.0</td>\n",
       "      <td>21.715262</td>\n",
       "    </tr>\n",
       "    <tr>\n",
       "      <th>std</th>\n",
       "      <td>0.0</td>\n",
       "      <td>17.507493</td>\n",
       "    </tr>\n",
       "    <tr>\n",
       "      <th>min</th>\n",
       "      <td>0.0</td>\n",
       "      <td>1.000000</td>\n",
       "    </tr>\n",
       "    <tr>\n",
       "      <th>25%</th>\n",
       "      <td>0.0</td>\n",
       "      <td>10.000000</td>\n",
       "    </tr>\n",
       "    <tr>\n",
       "      <th>50%</th>\n",
       "      <td>0.0</td>\n",
       "      <td>18.000000</td>\n",
       "    </tr>\n",
       "    <tr>\n",
       "      <th>75%</th>\n",
       "      <td>0.0</td>\n",
       "      <td>30.000000</td>\n",
       "    </tr>\n",
       "    <tr>\n",
       "      <th>max</th>\n",
       "      <td>0.0</td>\n",
       "      <td>130.000000</td>\n",
       "    </tr>\n",
       "  </tbody>\n",
       "</table>\n",
       "</div>"
      ],
      "text/plain": [
       "       Discount     Quantity\n",
       "count    1317.0  1317.000000\n",
       "mean        0.0    21.715262\n",
       "std         0.0    17.507493\n",
       "min         0.0     1.000000\n",
       "25%         0.0    10.000000\n",
       "50%         0.0    18.000000\n",
       "75%         0.0    30.000000\n",
       "max         0.0   130.000000"
      ]
     },
     "execution_count": 113,
     "metadata": {},
     "output_type": "execute_result"
    }
   ],
   "source": [
    "non_disc.describe()"
   ]
  },
  {
   "cell_type": "code",
   "execution_count": 114,
   "metadata": {},
   "outputs": [
    {
     "data": {
      "text/html": [
       "<div>\n",
       "<style scoped>\n",
       "    .dataframe tbody tr th:only-of-type {\n",
       "        vertical-align: middle;\n",
       "    }\n",
       "\n",
       "    .dataframe tbody tr th {\n",
       "        vertical-align: top;\n",
       "    }\n",
       "\n",
       "    .dataframe thead th {\n",
       "        text-align: right;\n",
       "    }\n",
       "</style>\n",
       "<table border=\"1\" class=\"dataframe\">\n",
       "  <thead>\n",
       "    <tr style=\"text-align: right;\">\n",
       "      <th></th>\n",
       "      <th>Discount</th>\n",
       "      <th>Quantity</th>\n",
       "    </tr>\n",
       "  </thead>\n",
       "  <tbody>\n",
       "    <tr>\n",
       "      <th>count</th>\n",
       "      <td>830.000000</td>\n",
       "      <td>830.000000</td>\n",
       "    </tr>\n",
       "    <tr>\n",
       "      <th>mean</th>\n",
       "      <td>0.145542</td>\n",
       "      <td>27.354217</td>\n",
       "    </tr>\n",
       "    <tr>\n",
       "      <th>std</th>\n",
       "      <td>0.071250</td>\n",
       "      <td>20.720667</td>\n",
       "    </tr>\n",
       "    <tr>\n",
       "      <th>min</th>\n",
       "      <td>0.050000</td>\n",
       "      <td>1.000000</td>\n",
       "    </tr>\n",
       "    <tr>\n",
       "      <th>25%</th>\n",
       "      <td>0.100000</td>\n",
       "      <td>12.250000</td>\n",
       "    </tr>\n",
       "    <tr>\n",
       "      <th>50%</th>\n",
       "      <td>0.150000</td>\n",
       "      <td>20.000000</td>\n",
       "    </tr>\n",
       "    <tr>\n",
       "      <th>75%</th>\n",
       "      <td>0.200000</td>\n",
       "      <td>36.000000</td>\n",
       "    </tr>\n",
       "    <tr>\n",
       "      <th>max</th>\n",
       "      <td>0.250000</td>\n",
       "      <td>130.000000</td>\n",
       "    </tr>\n",
       "  </tbody>\n",
       "</table>\n",
       "</div>"
      ],
      "text/plain": [
       "         Discount    Quantity\n",
       "count  830.000000  830.000000\n",
       "mean     0.145542   27.354217\n",
       "std      0.071250   20.720667\n",
       "min      0.050000    1.000000\n",
       "25%      0.100000   12.250000\n",
       "50%      0.150000   20.000000\n",
       "75%      0.200000   36.000000\n",
       "max      0.250000  130.000000"
      ]
     },
     "execution_count": 114,
     "metadata": {},
     "output_type": "execute_result"
    }
   ],
   "source": [
    "disc.describe()"
   ]
  },
  {
   "cell_type": "markdown",
   "metadata": {},
   "source": [
    "It is always a good idea to draw the probability distributions for samples to visually inspect the differences present between mean and standard deviation.I will plot both samples' distributions and inspect the overlap using seaborn to get an idea how different the samples might be from one another."
   ]
  },
  {
   "cell_type": "code",
   "execution_count": 115,
   "metadata": {},
   "outputs": [
    {
     "name": "stderr",
     "output_type": "stream",
     "text": [
      "/Users/kaan/anaconda3/lib/python3.7/site-packages/scipy/stats/stats.py:1713: FutureWarning: Using a non-tuple sequence for multidimensional indexing is deprecated; use `arr[tuple(seq)]` instead of `arr[seq]`. In the future this will be interpreted as an array index, `arr[np.array(seq)]`, which will result either in an error or a different result.\n",
      "  return np.add.reduce(sorted[indexer] * weights, axis=axis) / sumval\n"
     ]
    },
    {
     "data": {
      "image/png": "[encoded data removed]",
      "text/plain": [
       "<Figure size 576x432 with 1 Axes>"
      ]
     },
     "metadata": {},
     "output_type": "display_data"
    }
   ],
   "source": [
    "def dist_charts(sample1,sample2):\n",
    "    \n",
    "    sns.set(color_codes=True)\n",
    "    sns.set(rc={'figure.figsize':(8,6)})\n",
    "    sns.distplot(sample1,  kde_kws={\"label\": \"Sample1\"})\n",
    "    sns.distplot(sample2, kde_kws={\"label\": \"Sample2\"}) \n",
    "    \n",
    "dist_charts(non_disc.Quantity,disc.Quantity)"
   ]
  },
  {
   "cell_type": "markdown",
   "metadata": {},
   "source": [
    "**This question needs two steps.** First I need to verify if there is a statisticaly significant difference between the orders have discount and the orders have not discount. Only if there is a significant difference, I would determine the effect of different levels of discounts. \n",
    "\n",
    "Let's do the first part. \n",
    "\n",
    "\n",
    "### 1.3 Hypothesis\n",
    "\n",
    "\n",
    "$H_0$: Offering discount does not affect the average number of product in an order.\n",
    "\n",
    " $H_0: \\mu_1 = \\mu_2$     \n",
    "\n",
    "$H_1$: Offering discount affects the average number of product in an order.\n",
    "\n",
    " $H_0: \\mu_i \\neq \\mu_j$\n",
    "\n",
    "##### I set my significance level (Alpha): 0.05\n",
    "\n",
    " **$\\alpha$ = 0.05**"
   ]
  },
  {
   "cell_type": "markdown",
   "metadata": {},
   "source": [
    "### 1.4 Statistical Analysis\n",
    "\n",
    "Welch’s t-test is a nonparametric univariate test that tests for a significant difference between the mean of two unrelated groups. It is an alternative to the independent t-test when there is a violation in the assumption of equality of variances. In our case we have slighly different variences so I will use Welch's t-test. With this close standart deviation, probably, Student's t-test would also be ok but let's go by Welch's t-test beacuse, it is also best for the categorical indipendant variables. "
   ]
  },
  {
   "cell_type": "markdown",
   "metadata": {},
   "source": [
    "#### Welch’s t-test Assumptions\n",
    "Like every test, this inferential statistic test has assumptions. The assumptions that the data must meet in order for the test results to be valid are:\n",
    "\n",
    "* The independent variable (IV) is categorical with at least two levels (groups) \n",
    "  **Check**   Discount column has categorical data. \n",
    "* The dependent variable (DV) is continuous which is measured on an interval or ratio scale;  **Check**  Quantity column has continues data. \n",
    "* The distribution of the two groups should follow the normal distribution; We can check the normality of a distribution with a few different method such KS Test or Shapiro Test. The first thing we need to do is import scipy.stats as stats and then test our assumptions. We can test the assumption of normality using the stats.shapiro(). The first value in the tuple is the W test statistic, and the second value is the p-value.\n",
    "\n"
   ]
  },
  {
   "cell_type": "markdown",
   "metadata": {},
   "source": [
    "#### Normality Check"
   ]
  },
  {
   "cell_type": "code",
   "execution_count": 116,
   "metadata": {},
   "outputs": [
    {
     "data": {
      "text/plain": [
       "(0.8673426508903503, 6.471277454941499e-26)"
      ]
     },
     "execution_count": 116,
     "metadata": {},
     "output_type": "execute_result"
    }
   ],
   "source": [
    "stats.shapiro(disc.Quantity)"
   ]
  },
  {
   "cell_type": "code",
   "execution_count": 117,
   "metadata": {},
   "outputs": [
    {
     "data": {
      "text/plain": [
       "(0.8434571027755737, 3.803856556577728e-34)"
      ]
     },
     "execution_count": 117,
     "metadata": {},
     "output_type": "execute_result"
    }
   ],
   "source": [
    "stats.shapiro(non_disc.Quantity)"
   ]
  },
  {
   "cell_type": "code",
   "execution_count": 118,
   "metadata": {},
   "outputs": [
    {
     "data": {
      "text/plain": [
       "KstestResult(statistic=0.9187836569660197, pvalue=0.0)"
      ]
     },
     "execution_count": 118,
     "metadata": {},
     "output_type": "execute_result"
    }
   ],
   "source": [
    "#KS Test for normality\n",
    "stats.kstest(non_disc.Quantity, 'norm', args=(0,2))\n"
   ]
  },
  {
   "cell_type": "markdown",
   "metadata": {},
   "source": [
    "p_value is very small for both tests, so we can not say that the distribution is normal however when the sample size is sufficiently large, Welch's t-test can still perform well."
   ]
  },
  {
   "cell_type": "markdown",
   "metadata": {},
   "source": [
    "#### Performing Welch's t-test"
   ]
  },
  {
   "cell_type": "code",
   "execution_count": 119,
   "metadata": {},
   "outputs": [
    {
     "data": {
      "text/plain": [
       "Ttest_indResult(statistic=6.7627297036707565, pvalue=1.7401995278127614e-11)"
      ]
     },
     "execution_count": 119,
     "metadata": {},
     "output_type": "execute_result"
    }
   ],
   "source": [
    "from scipy import stats\n",
    "\n",
    "stats.ttest_ind(disc.Quantity, non_disc.Quantity, equal_var=True)\n"
   ]
  },
  {
   "cell_type": "markdown",
   "metadata": {},
   "source": [
    "P _value is very small (1.7401995278127614e-11), it is safe to **reject the null hypothesis suggesting the alternative**. We can say that the discount has a **statistically significant** effect on the quantity average of the product in an order. But we do not know how much of a difference it makes. To figure that out, let's check the **effect size**. \n"
   ]
  },
  {
   "cell_type": "markdown",
   "metadata": {},
   "source": [
    "#### Effect Size"
   ]
  },
  {
   "cell_type": "code",
   "execution_count": 120,
   "metadata": {},
   "outputs": [
    {
     "data": {
      "text/plain": [
       "0.2997078720940889"
      ]
     },
     "execution_count": 120,
     "metadata": {},
     "output_type": "execute_result"
    }
   ],
   "source": [
    "Cohen_d(disc.Quantity,non_disc.Quantity)"
   ]
  },
  {
   "cell_type": "markdown",
   "metadata": {},
   "source": [
    "Cohen suggested that d=0.2 be considered a 'small' effect size, 0.5 represents a 'medium' effect size and 0.8 a 'large' effect size. Eventhough we did the two tailed test (equla or not equal check), we can say that the impact is pozitive by looking at the effect size. Since it is positive, discounts resulted increased quantity in orders. \n",
    "\n",
    "Having 0.28 means that if two groups' means differ by 0.28 standard deviations the **effect is small** but, still statistically signficant."
   ]
  },
  {
   "cell_type": "markdown",
   "metadata": {},
   "source": [
    "#### The second part of  question is in what level the discount make significant difference in the order quantity"
   ]
  },
  {
   "cell_type": "markdown",
   "metadata": {},
   "source": [
    "I will check the effect sizes for all different discount values in a simple loop."
   ]
  },
  {
   "cell_type": "code",
   "execution_count": 121,
   "metadata": {},
   "outputs": [
    {
     "name": "stdout",
     "output_type": "stream",
     "text": [
      "Effect Size for 0.05 Discount : 0.347\n",
      "Effect Size for 0.1 Discount : 0.196\n",
      "Effect Size for 0.15 Discount : 0.372\n",
      "Effect Size for 0.2 Discount : 0.301\n",
      "Effect Size for 0.25 Discount : 0.367\n"
     ]
    }
   ],
   "source": [
    "\n",
    "discount_levels=[0.05,0.1,0.15,0.20,0.25]\n",
    "effect_sizes_on_quantity= []\n",
    "#effect_sizes['Discount']= discount_levels\n",
    "for i in discount_levels:\n",
    "    sample=disc.loc[disc['Discount']==i]['Quantity']\n",
    "    effect_sizes_on_quantity.append(round ( Cohen_d(sample, non_disc.Quantity),3))\n",
    "    print('Effect Size for',i, 'Discount :', round ( Cohen_d(sample, non_disc.Quantity),3))\n",
    "\n"
   ]
  },
  {
   "cell_type": "code",
   "execution_count": 122,
   "metadata": {},
   "outputs": [
    {
     "data": {
      "image/png": "[encoded data removed]",
      "text/plain": [
       "<Figure size 576x432 with 1 Axes>"
      ]
     },
     "metadata": {},
     "output_type": "display_data"
    }
   ],
   "source": [
    "#sns.set(style=\"whitegrid\")\n",
    "\n",
    "ax = sns.barplot(x=discount_levels, y=effect_sizes_on_quantity, palette=\"Blues_d\", )\n",
    "ax.set(xlabel='Discount Level', ylabel='Effect Size on Quality', title= \"Discount ~ Quantity\")\n",
    "\n",
    "plt.show()"
   ]
  },
  {
   "cell_type": "markdown",
   "metadata": {},
   "source": [
    "Results show that, 15% of discount has the most impact on the quantity of a product in an order. The least impact is belong to 10%."
   ]
  },
  {
   "cell_type": "markdown",
   "metadata": {},
   "source": [
    "### 1.5 - Conclusion\n",
    "\n",
    "* Offering discount increases the quantity of a product in an order.\n",
    "* Although the difference between discount and non-discount order quantities is statistically significant, the effect size is still small.It is 0.299 where between 2-5 is considered small.   So it does not make tremendous increase of the total number.\n",
    "* There are 5 main discount level the company offers such as 5%,10%,15%,20%,25%. Among them **the most impactfull one us 15% discount**. On the other hand, 10% has the smallest impact. \n",
    "\n",
    "### 1.6 - Further Research\n",
    "\n",
    "* The reason for getting less impact while offering more discounts (10%, 20%) needs to be investigated\n",
    "* The effect size is small on the number of the orders however, we did not test how it effects the overall profit. So another round of tests could be run for the profit difference. \n",
    "\n",
    "\n"
   ]
  },
  {
   "cell_type": "markdown",
   "metadata": {},
   "source": [
    "# Question 2\n",
    "### 2.1 - Does discount increase the profit? If so in what level it allows best profit? \n",
    "### 2.2 - Retrieve the data and perform EDA"
   ]
  },
  {
   "cell_type": "markdown",
   "metadata": {},
   "source": [
    "\n",
    "I need the profit amount for each product to test.  Lets check if there is such information in product and orderdetail tables. \n"
   ]
  },
  {
   "cell_type": "code",
   "execution_count": 123,
   "metadata": {},
   "outputs": [
    {
     "data": {
      "text/html": [
       "<div>\n",
       "<style scoped>\n",
       "    .dataframe tbody tr th:only-of-type {\n",
       "        vertical-align: middle;\n",
       "    }\n",
       "\n",
       "    .dataframe tbody tr th {\n",
       "        vertical-align: top;\n",
       "    }\n",
       "\n",
       "    .dataframe thead th {\n",
       "        text-align: right;\n",
       "    }\n",
       "</style>\n",
       "<table border=\"1\" class=\"dataframe\">\n",
       "  <thead>\n",
       "    <tr style=\"text-align: right;\">\n",
       "      <th></th>\n",
       "      <th>Id</th>\n",
       "      <th>ProductName</th>\n",
       "      <th>SupplierId</th>\n",
       "      <th>CategoryId</th>\n",
       "      <th>QuantityPerUnit</th>\n",
       "      <th>UnitPrice</th>\n",
       "      <th>UnitsInStock</th>\n",
       "      <th>UnitsOnOrder</th>\n",
       "      <th>ReorderLevel</th>\n",
       "      <th>Discontinued</th>\n",
       "    </tr>\n",
       "  </thead>\n",
       "  <tbody>\n",
       "    <tr>\n",
       "      <th>0</th>\n",
       "      <td>1</td>\n",
       "      <td>Chai</td>\n",
       "      <td>1</td>\n",
       "      <td>1</td>\n",
       "      <td>10 boxes x 20 bags</td>\n",
       "      <td>18.00</td>\n",
       "      <td>39</td>\n",
       "      <td>0</td>\n",
       "      <td>10</td>\n",
       "      <td>0</td>\n",
       "    </tr>\n",
       "    <tr>\n",
       "      <th>1</th>\n",
       "      <td>2</td>\n",
       "      <td>Chang</td>\n",
       "      <td>1</td>\n",
       "      <td>1</td>\n",
       "      <td>24 - 12 oz bottles</td>\n",
       "      <td>19.00</td>\n",
       "      <td>17</td>\n",
       "      <td>40</td>\n",
       "      <td>25</td>\n",
       "      <td>0</td>\n",
       "    </tr>\n",
       "    <tr>\n",
       "      <th>2</th>\n",
       "      <td>3</td>\n",
       "      <td>Aniseed Syrup</td>\n",
       "      <td>1</td>\n",
       "      <td>2</td>\n",
       "      <td>12 - 550 ml bottles</td>\n",
       "      <td>10.00</td>\n",
       "      <td>13</td>\n",
       "      <td>70</td>\n",
       "      <td>25</td>\n",
       "      <td>0</td>\n",
       "    </tr>\n",
       "    <tr>\n",
       "      <th>3</th>\n",
       "      <td>4</td>\n",
       "      <td>Chef Anton's Cajun Seasoning</td>\n",
       "      <td>2</td>\n",
       "      <td>2</td>\n",
       "      <td>48 - 6 oz jars</td>\n",
       "      <td>22.00</td>\n",
       "      <td>53</td>\n",
       "      <td>0</td>\n",
       "      <td>0</td>\n",
       "      <td>0</td>\n",
       "    </tr>\n",
       "    <tr>\n",
       "      <th>4</th>\n",
       "      <td>5</td>\n",
       "      <td>Chef Anton's Gumbo Mix</td>\n",
       "      <td>2</td>\n",
       "      <td>2</td>\n",
       "      <td>36 boxes</td>\n",
       "      <td>21.35</td>\n",
       "      <td>0</td>\n",
       "      <td>0</td>\n",
       "      <td>0</td>\n",
       "      <td>1</td>\n",
       "    </tr>\n",
       "  </tbody>\n",
       "</table>\n",
       "</div>"
      ],
      "text/plain": [
       "   Id                   ProductName  SupplierId  CategoryId  \\\n",
       "0   1                          Chai           1           1   \n",
       "1   2                         Chang           1           1   \n",
       "2   3                 Aniseed Syrup           1           2   \n",
       "3   4  Chef Anton's Cajun Seasoning           2           2   \n",
       "4   5        Chef Anton's Gumbo Mix           2           2   \n",
       "\n",
       "       QuantityPerUnit  UnitPrice  UnitsInStock  UnitsOnOrder  ReorderLevel  \\\n",
       "0   10 boxes x 20 bags      18.00            39             0            10   \n",
       "1   24 - 12 oz bottles      19.00            17            40            25   \n",
       "2  12 - 550 ml bottles      10.00            13            70            25   \n",
       "3       48 - 6 oz jars      22.00            53             0             0   \n",
       "4             36 boxes      21.35             0             0             0   \n",
       "\n",
       "   Discontinued  \n",
       "0             0  \n",
       "1             0  \n",
       "2             0  \n",
       "3             0  \n",
       "4             1  "
      ]
     },
     "execution_count": 123,
     "metadata": {},
     "output_type": "execute_result"
    }
   ],
   "source": [
    "product = pd.read_sql_query('''SELECT *\n",
    "                            FROM Product\n",
    "                            LIMIT 5\n",
    "                            ;''', engine)\n",
    "product"
   ]
  },
  {
   "cell_type": "code",
   "execution_count": 124,
   "metadata": {},
   "outputs": [
    {
     "data": {
      "text/html": [
       "<div>\n",
       "<style scoped>\n",
       "    .dataframe tbody tr th:only-of-type {\n",
       "        vertical-align: middle;\n",
       "    }\n",
       "\n",
       "    .dataframe tbody tr th {\n",
       "        vertical-align: top;\n",
       "    }\n",
       "\n",
       "    .dataframe thead th {\n",
       "        text-align: right;\n",
       "    }\n",
       "</style>\n",
       "<table border=\"1\" class=\"dataframe\">\n",
       "  <thead>\n",
       "    <tr style=\"text-align: right;\">\n",
       "      <th></th>\n",
       "      <th>Id</th>\n",
       "      <th>OrderId</th>\n",
       "      <th>ProductId</th>\n",
       "      <th>UnitPrice</th>\n",
       "      <th>Quantity</th>\n",
       "      <th>Discount</th>\n",
       "    </tr>\n",
       "  </thead>\n",
       "  <tbody>\n",
       "    <tr>\n",
       "      <th>0</th>\n",
       "      <td>10248/11</td>\n",
       "      <td>10248</td>\n",
       "      <td>11</td>\n",
       "      <td>14.0</td>\n",
       "      <td>12</td>\n",
       "      <td>0.0</td>\n",
       "    </tr>\n",
       "    <tr>\n",
       "      <th>1</th>\n",
       "      <td>10248/42</td>\n",
       "      <td>10248</td>\n",
       "      <td>42</td>\n",
       "      <td>9.8</td>\n",
       "      <td>10</td>\n",
       "      <td>0.0</td>\n",
       "    </tr>\n",
       "    <tr>\n",
       "      <th>2</th>\n",
       "      <td>10248/72</td>\n",
       "      <td>10248</td>\n",
       "      <td>72</td>\n",
       "      <td>34.8</td>\n",
       "      <td>5</td>\n",
       "      <td>0.0</td>\n",
       "    </tr>\n",
       "    <tr>\n",
       "      <th>3</th>\n",
       "      <td>10249/14</td>\n",
       "      <td>10249</td>\n",
       "      <td>14</td>\n",
       "      <td>18.6</td>\n",
       "      <td>9</td>\n",
       "      <td>0.0</td>\n",
       "    </tr>\n",
       "  </tbody>\n",
       "</table>\n",
       "</div>"
      ],
      "text/plain": [
       "         Id  OrderId  ProductId  UnitPrice  Quantity  Discount\n",
       "0  10248/11    10248         11       14.0        12       0.0\n",
       "1  10248/42    10248         42        9.8        10       0.0\n",
       "2  10248/72    10248         72       34.8         5       0.0\n",
       "3  10249/14    10249         14       18.6         9       0.0"
      ]
     },
     "execution_count": 124,
     "metadata": {},
     "output_type": "execute_result"
    }
   ],
   "source": [
    "product = pd.read_sql_query('''SELECT *\n",
    "                            FROM OrderDetail\n",
    "                            LIMIT 4\n",
    "                            ;''', engine)\n",
    "product"
   ]
  },
  {
   "cell_type": "markdown",
   "metadata": {},
   "source": [
    "**To be able to calculate the profit, I need to know the buy and the sale prices of each product**. In the entire dataset,  there is no mention to buy or sell price distinction. However, there are two UnitPrice value available in both OrderDetail and Product tables. But they are not the same number. In fact in the product table, most of the unit prices are more expensive then ones in the OrderDetail table. Another insight is, QuantityPerUnit is in Product table is for bulk amounts such as 10 boxes of 20 bags or 50 bags x 30 sausgs. Most probably the unit price for these bulk amounts are the price that company pays to suppliers. And the unit price in the OrderDetail is the company's sale price for one unit in that bulk. So in that case,  10 boxes x 20 bags of Chai are bought for 18.00 dolars from the supplier and 1 box of 20 bags of Chai is sold for 14.00 dolars to the end customer. That makes perfect sense. \n",
    "\n",
    "So, to be able calculate the profit, I need to do a little feature engineering and math here. First I need to **extract the Quantity of units from the Quantityperunit column which is a string value. I checked the entire column, it seems consistent that the number of units are the first number in the string until the space. So I will use .split() method to get that number and convert to integer and store in another column.** Let's get started."
   ]
  },
  {
   "cell_type": "code",
   "execution_count": 125,
   "metadata": {},
   "outputs": [
    {
     "data": {
      "text/html": [
       "<div>\n",
       "<style scoped>\n",
       "    .dataframe tbody tr th:only-of-type {\n",
       "        vertical-align: middle;\n",
       "    }\n",
       "\n",
       "    .dataframe tbody tr th {\n",
       "        vertical-align: top;\n",
       "    }\n",
       "\n",
       "    .dataframe thead th {\n",
       "        text-align: right;\n",
       "    }\n",
       "</style>\n",
       "<table border=\"1\" class=\"dataframe\">\n",
       "  <thead>\n",
       "    <tr style=\"text-align: right;\">\n",
       "      <th></th>\n",
       "      <th>Id</th>\n",
       "      <th>ProductName</th>\n",
       "      <th>QuantityPerUnit</th>\n",
       "      <th>BulkPrice</th>\n",
       "      <th>UnitSalePrice</th>\n",
       "      <th>QuantityInOrder</th>\n",
       "      <th>Discount</th>\n",
       "    </tr>\n",
       "  </thead>\n",
       "  <tbody>\n",
       "    <tr>\n",
       "      <th>0</th>\n",
       "      <td>1</td>\n",
       "      <td>Chai</td>\n",
       "      <td>10 boxes x 20 bags</td>\n",
       "      <td>18.00</td>\n",
       "      <td>14.0</td>\n",
       "      <td>12</td>\n",
       "      <td>0.0</td>\n",
       "    </tr>\n",
       "    <tr>\n",
       "      <th>1</th>\n",
       "      <td>2</td>\n",
       "      <td>Chang</td>\n",
       "      <td>24 - 12 oz bottles</td>\n",
       "      <td>19.00</td>\n",
       "      <td>14.0</td>\n",
       "      <td>12</td>\n",
       "      <td>0.0</td>\n",
       "    </tr>\n",
       "    <tr>\n",
       "      <th>2</th>\n",
       "      <td>3</td>\n",
       "      <td>Aniseed Syrup</td>\n",
       "      <td>12 - 550 ml bottles</td>\n",
       "      <td>10.00</td>\n",
       "      <td>14.0</td>\n",
       "      <td>12</td>\n",
       "      <td>0.0</td>\n",
       "    </tr>\n",
       "    <tr>\n",
       "      <th>3</th>\n",
       "      <td>4</td>\n",
       "      <td>Chef Anton's Cajun Seasoning</td>\n",
       "      <td>48 - 6 oz jars</td>\n",
       "      <td>22.00</td>\n",
       "      <td>14.0</td>\n",
       "      <td>12</td>\n",
       "      <td>0.0</td>\n",
       "    </tr>\n",
       "    <tr>\n",
       "      <th>4</th>\n",
       "      <td>5</td>\n",
       "      <td>Chef Anton's Gumbo Mix</td>\n",
       "      <td>36 boxes</td>\n",
       "      <td>21.35</td>\n",
       "      <td>14.0</td>\n",
       "      <td>12</td>\n",
       "      <td>0.0</td>\n",
       "    </tr>\n",
       "  </tbody>\n",
       "</table>\n",
       "</div>"
      ],
      "text/plain": [
       "   Id                   ProductName      QuantityPerUnit  BulkPrice  \\\n",
       "0   1                          Chai   10 boxes x 20 bags      18.00   \n",
       "1   2                         Chang   24 - 12 oz bottles      19.00   \n",
       "2   3                 Aniseed Syrup  12 - 550 ml bottles      10.00   \n",
       "3   4  Chef Anton's Cajun Seasoning       48 - 6 oz jars      22.00   \n",
       "4   5        Chef Anton's Gumbo Mix             36 boxes      21.35   \n",
       "\n",
       "   UnitSalePrice  QuantityInOrder  Discount  \n",
       "0           14.0               12       0.0  \n",
       "1           14.0               12       0.0  \n",
       "2           14.0               12       0.0  \n",
       "3           14.0               12       0.0  \n",
       "4           14.0               12       0.0  "
      ]
     },
     "execution_count": 125,
     "metadata": {},
     "output_type": "execute_result"
    }
   ],
   "source": [
    "product_order = pd.read_sql_query('''\n",
    "                                SELECT  p.Id,p.ProductName, p.QuantityPerUnit, p.UnitPrice as BulkPrice, \n",
    "                                        o.Unitprice as UnitSalePrice, o.Quantity QuantityInOrder, o.Discount\n",
    "\n",
    "                                FROM Product p\n",
    "                                JOIN OrderDetail o ON ProductId\n",
    "                               \n",
    "                        \n",
    "                                ;''', engine)\n",
    "product_order.head()\n"
   ]
  },
  {
   "cell_type": "code",
   "execution_count": 126,
   "metadata": {},
   "outputs": [
    {
     "data": {
      "text/plain": [
       "10"
      ]
     },
     "execution_count": 126,
     "metadata": {},
     "output_type": "execute_result"
    }
   ],
   "source": [
    "\n",
    "int(product_order.QuantityPerUnit[0].split()[0])"
   ]
  },
  {
   "cell_type": "markdown",
   "metadata": {},
   "source": [
    "#### Extracting the number of units in a bulk\n",
    "\n",
    "The number of units are the first number in the string until the space however, there was one exception that caused error. I spotted that and add an if statement to catch it an convert it to a number manually."
   ]
  },
  {
   "cell_type": "code",
   "execution_count": 127,
   "metadata": {},
   "outputs": [],
   "source": [
    "quantityinbulk=[]\n",
    "for i in range(len(product_order.QuantityPerUnit)):\n",
    "        n=product_order.QuantityPerUnit[i].split()[0]\n",
    "        if n =='1k':\n",
    "            n=1000\n",
    "        quantityinbulk.append(int(n))\n",
    "   "
   ]
  },
  {
   "cell_type": "code",
   "execution_count": 128,
   "metadata": {},
   "outputs": [],
   "source": [
    "     \n",
    "product_order['QuantityInBulk']= quantityinbulk"
   ]
  },
  {
   "cell_type": "code",
   "execution_count": 129,
   "metadata": {},
   "outputs": [
    {
     "data": {
      "text/plain": [
       "0    10\n",
       "1    24\n",
       "2    12\n",
       "3    48\n",
       "4    36\n",
       "Name: QuantityInBulk, dtype: int64"
      ]
     },
     "execution_count": 129,
     "metadata": {},
     "output_type": "execute_result"
    }
   ],
   "source": [
    "product_order['QuantityInBulk'].head()"
   ]
  },
  {
   "cell_type": "code",
   "execution_count": 130,
   "metadata": {},
   "outputs": [
    {
     "data": {
      "text/html": [
       "<div>\n",
       "<style scoped>\n",
       "    .dataframe tbody tr th:only-of-type {\n",
       "        vertical-align: middle;\n",
       "    }\n",
       "\n",
       "    .dataframe tbody tr th {\n",
       "        vertical-align: top;\n",
       "    }\n",
       "\n",
       "    .dataframe thead th {\n",
       "        text-align: right;\n",
       "    }\n",
       "</style>\n",
       "<table border=\"1\" class=\"dataframe\">\n",
       "  <thead>\n",
       "    <tr style=\"text-align: right;\">\n",
       "      <th></th>\n",
       "      <th>Id</th>\n",
       "      <th>ProductName</th>\n",
       "      <th>QuantityPerUnit</th>\n",
       "      <th>BulkPrice</th>\n",
       "      <th>UnitSalePrice</th>\n",
       "      <th>QuantityInOrder</th>\n",
       "      <th>Discount</th>\n",
       "      <th>QuantityInBulk</th>\n",
       "    </tr>\n",
       "  </thead>\n",
       "  <tbody>\n",
       "    <tr>\n",
       "      <th>0</th>\n",
       "      <td>1</td>\n",
       "      <td>Chai</td>\n",
       "      <td>10 boxes x 20 bags</td>\n",
       "      <td>18.00</td>\n",
       "      <td>14.0</td>\n",
       "      <td>12</td>\n",
       "      <td>0.0</td>\n",
       "      <td>10</td>\n",
       "    </tr>\n",
       "    <tr>\n",
       "      <th>1</th>\n",
       "      <td>2</td>\n",
       "      <td>Chang</td>\n",
       "      <td>24 - 12 oz bottles</td>\n",
       "      <td>19.00</td>\n",
       "      <td>14.0</td>\n",
       "      <td>12</td>\n",
       "      <td>0.0</td>\n",
       "      <td>24</td>\n",
       "    </tr>\n",
       "    <tr>\n",
       "      <th>2</th>\n",
       "      <td>3</td>\n",
       "      <td>Aniseed Syrup</td>\n",
       "      <td>12 - 550 ml bottles</td>\n",
       "      <td>10.00</td>\n",
       "      <td>14.0</td>\n",
       "      <td>12</td>\n",
       "      <td>0.0</td>\n",
       "      <td>12</td>\n",
       "    </tr>\n",
       "    <tr>\n",
       "      <th>3</th>\n",
       "      <td>4</td>\n",
       "      <td>Chef Anton's Cajun Seasoning</td>\n",
       "      <td>48 - 6 oz jars</td>\n",
       "      <td>22.00</td>\n",
       "      <td>14.0</td>\n",
       "      <td>12</td>\n",
       "      <td>0.0</td>\n",
       "      <td>48</td>\n",
       "    </tr>\n",
       "    <tr>\n",
       "      <th>4</th>\n",
       "      <td>5</td>\n",
       "      <td>Chef Anton's Gumbo Mix</td>\n",
       "      <td>36 boxes</td>\n",
       "      <td>21.35</td>\n",
       "      <td>14.0</td>\n",
       "      <td>12</td>\n",
       "      <td>0.0</td>\n",
       "      <td>36</td>\n",
       "    </tr>\n",
       "  </tbody>\n",
       "</table>\n",
       "</div>"
      ],
      "text/plain": [
       "   Id                   ProductName      QuantityPerUnit  BulkPrice  \\\n",
       "0   1                          Chai   10 boxes x 20 bags      18.00   \n",
       "1   2                         Chang   24 - 12 oz bottles      19.00   \n",
       "2   3                 Aniseed Syrup  12 - 550 ml bottles      10.00   \n",
       "3   4  Chef Anton's Cajun Seasoning       48 - 6 oz jars      22.00   \n",
       "4   5        Chef Anton's Gumbo Mix             36 boxes      21.35   \n",
       "\n",
       "   UnitSalePrice  QuantityInOrder  Discount  QuantityInBulk  \n",
       "0           14.0               12       0.0              10  \n",
       "1           14.0               12       0.0              24  \n",
       "2           14.0               12       0.0              12  \n",
       "3           14.0               12       0.0              48  \n",
       "4           14.0               12       0.0              36  "
      ]
     },
     "execution_count": 130,
     "metadata": {},
     "output_type": "execute_result"
    }
   ],
   "source": [
    "product_order.head()\n"
   ]
  },
  {
   "cell_type": "markdown",
   "metadata": {},
   "source": [
    "Now I will calculate the price per unit in the bulk and the sale price per unit including discount. Create two extra column for total revenue and the total profit in an order"
   ]
  },
  {
   "cell_type": "code",
   "execution_count": 131,
   "metadata": {},
   "outputs": [],
   "source": [
    "product_order['UnitCost']=round(( product_order.BulkPrice / product_order.QuantityInBulk),1)"
   ]
  },
  {
   "cell_type": "code",
   "execution_count": 132,
   "metadata": {},
   "outputs": [],
   "source": [
    "product_order['Revenue']= round ((product_order.UnitSalePrice *product_order.QuantityInOrder),1)"
   ]
  },
  {
   "cell_type": "code",
   "execution_count": 133,
   "metadata": {},
   "outputs": [],
   "source": [
    "product_order['Profit']= round((product_order.UnitSalePrice-product_order['UnitCost'])* product_order.QuantityInOrder*(1- product_order.Discount),1)"
   ]
  },
  {
   "cell_type": "code",
   "execution_count": 134,
   "metadata": {},
   "outputs": [
    {
     "data": {
      "text/html": [
       "<div>\n",
       "<style scoped>\n",
       "    .dataframe tbody tr th:only-of-type {\n",
       "        vertical-align: middle;\n",
       "    }\n",
       "\n",
       "    .dataframe tbody tr th {\n",
       "        vertical-align: top;\n",
       "    }\n",
       "\n",
       "    .dataframe thead th {\n",
       "        text-align: right;\n",
       "    }\n",
       "</style>\n",
       "<table border=\"1\" class=\"dataframe\">\n",
       "  <thead>\n",
       "    <tr style=\"text-align: right;\">\n",
       "      <th></th>\n",
       "      <th>Id</th>\n",
       "      <th>ProductName</th>\n",
       "      <th>QuantityPerUnit</th>\n",
       "      <th>BulkPrice</th>\n",
       "      <th>UnitSalePrice</th>\n",
       "      <th>QuantityInOrder</th>\n",
       "      <th>Discount</th>\n",
       "      <th>QuantityInBulk</th>\n",
       "      <th>UnitCost</th>\n",
       "      <th>Revenue</th>\n",
       "      <th>Profit</th>\n",
       "    </tr>\n",
       "  </thead>\n",
       "  <tbody>\n",
       "    <tr>\n",
       "      <th>0</th>\n",
       "      <td>1</td>\n",
       "      <td>Chai</td>\n",
       "      <td>10 boxes x 20 bags</td>\n",
       "      <td>18.00</td>\n",
       "      <td>14.0</td>\n",
       "      <td>12</td>\n",
       "      <td>0.0</td>\n",
       "      <td>10</td>\n",
       "      <td>1.8</td>\n",
       "      <td>168.0</td>\n",
       "      <td>146.4</td>\n",
       "    </tr>\n",
       "    <tr>\n",
       "      <th>1</th>\n",
       "      <td>2</td>\n",
       "      <td>Chang</td>\n",
       "      <td>24 - 12 oz bottles</td>\n",
       "      <td>19.00</td>\n",
       "      <td>14.0</td>\n",
       "      <td>12</td>\n",
       "      <td>0.0</td>\n",
       "      <td>24</td>\n",
       "      <td>0.8</td>\n",
       "      <td>168.0</td>\n",
       "      <td>158.4</td>\n",
       "    </tr>\n",
       "    <tr>\n",
       "      <th>2</th>\n",
       "      <td>3</td>\n",
       "      <td>Aniseed Syrup</td>\n",
       "      <td>12 - 550 ml bottles</td>\n",
       "      <td>10.00</td>\n",
       "      <td>14.0</td>\n",
       "      <td>12</td>\n",
       "      <td>0.0</td>\n",
       "      <td>12</td>\n",
       "      <td>0.8</td>\n",
       "      <td>168.0</td>\n",
       "      <td>158.4</td>\n",
       "    </tr>\n",
       "    <tr>\n",
       "      <th>3</th>\n",
       "      <td>4</td>\n",
       "      <td>Chef Anton's Cajun Seasoning</td>\n",
       "      <td>48 - 6 oz jars</td>\n",
       "      <td>22.00</td>\n",
       "      <td>14.0</td>\n",
       "      <td>12</td>\n",
       "      <td>0.0</td>\n",
       "      <td>48</td>\n",
       "      <td>0.5</td>\n",
       "      <td>168.0</td>\n",
       "      <td>162.0</td>\n",
       "    </tr>\n",
       "    <tr>\n",
       "      <th>4</th>\n",
       "      <td>5</td>\n",
       "      <td>Chef Anton's Gumbo Mix</td>\n",
       "      <td>36 boxes</td>\n",
       "      <td>21.35</td>\n",
       "      <td>14.0</td>\n",
       "      <td>12</td>\n",
       "      <td>0.0</td>\n",
       "      <td>36</td>\n",
       "      <td>0.6</td>\n",
       "      <td>168.0</td>\n",
       "      <td>160.8</td>\n",
       "    </tr>\n",
       "  </tbody>\n",
       "</table>\n",
       "</div>"
      ],
      "text/plain": [
       "   Id                   ProductName      QuantityPerUnit  BulkPrice  \\\n",
       "0   1                          Chai   10 boxes x 20 bags      18.00   \n",
       "1   2                         Chang   24 - 12 oz bottles      19.00   \n",
       "2   3                 Aniseed Syrup  12 - 550 ml bottles      10.00   \n",
       "3   4  Chef Anton's Cajun Seasoning       48 - 6 oz jars      22.00   \n",
       "4   5        Chef Anton's Gumbo Mix             36 boxes      21.35   \n",
       "\n",
       "   UnitSalePrice  QuantityInOrder  Discount  QuantityInBulk  UnitCost  \\\n",
       "0           14.0               12       0.0              10       1.8   \n",
       "1           14.0               12       0.0              24       0.8   \n",
       "2           14.0               12       0.0              12       0.8   \n",
       "3           14.0               12       0.0              48       0.5   \n",
       "4           14.0               12       0.0              36       0.6   \n",
       "\n",
       "   Revenue  Profit  \n",
       "0    168.0   146.4  \n",
       "1    168.0   158.4  \n",
       "2    168.0   158.4  \n",
       "3    168.0   162.0  \n",
       "4    168.0   160.8  "
      ]
     },
     "execution_count": 134,
     "metadata": {},
     "output_type": "execute_result"
    }
   ],
   "source": [
    "product_order.head()"
   ]
  },
  {
   "cell_type": "code",
   "execution_count": 135,
   "metadata": {},
   "outputs": [
    {
     "data": {
      "text/plain": [
       "90069998.0"
      ]
     },
     "execution_count": 135,
     "metadata": {},
     "output_type": "execute_result"
    }
   ],
   "source": [
    "#Let's see how much the total profit the entire orders. \n",
    "product_order['Profit'].sum()"
   ]
  },
  {
   "cell_type": "markdown",
   "metadata": {},
   "source": [
    "90 million dolars is not that bad. I want to explore this new data a bit, if it looks realistic. "
   ]
  },
  {
   "cell_type": "code",
   "execution_count": 136,
   "metadata": {},
   "outputs": [
    {
     "name": "stderr",
     "output_type": "stream",
     "text": [
      "/Users/kaan/anaconda3/lib/python3.7/site-packages/scipy/stats/stats.py:1713: FutureWarning: Using a non-tuple sequence for multidimensional indexing is deprecated; use `arr[tuple(seq)]` instead of `arr[seq]`. In the future this will be interpreted as an array index, `arr[np.array(seq)]`, which will result either in an error or a different result.\n",
      "  return np.add.reduce(sorted[indexer] * weights, axis=axis) / sumval\n"
     ]
    },
    {
     "data": {
      "text/plain": [
       "<matplotlib.axes._subplots.AxesSubplot at 0x1c1f0af908>"
      ]
     },
     "execution_count": 136,
     "metadata": {},
     "output_type": "execute_result"
    },
    {
     "data": {
      "image/png": "[encoded data removed]",
      "text/plain": [
       "<Figure size 576x432 with 1 Axes>"
      ]
     },
     "metadata": {},
     "output_type": "display_data"
    }
   ],
   "source": [
    "sns.distplot(product_order['Profit'])"
   ]
  },
  {
   "cell_type": "code",
   "execution_count": 137,
   "metadata": {},
   "outputs": [
    {
     "data": {
      "text/plain": [
       "<matplotlib.axes._subplots.AxesSubplot at 0x1c1fa8a400>"
      ]
     },
     "execution_count": 137,
     "metadata": {},
     "output_type": "execute_result"
    },
    {
     "data": {
      "image/png": "[encoded data removed]",
      "text/plain": [
       "<Figure size 576x432 with 1 Axes>"
      ]
     },
     "metadata": {},
     "output_type": "display_data"
    }
   ],
   "source": [
    "sns.boxplot(product_order['Profit'])"
   ]
  },
  {
   "cell_type": "code",
   "execution_count": 138,
   "metadata": {},
   "outputs": [
    {
     "data": {
      "text/plain": [
       "3916852.8"
      ]
     },
     "execution_count": 138,
     "metadata": {},
     "output_type": "execute_result"
    }
   ],
   "source": [
    "#There are quite a bit outliers in this data. I will explore a bit more. \n",
    "\n",
    "product_order[product_order['Profit']>10000]['Profit'].sum()"
   ]
  },
  {
   "cell_type": "code",
   "execution_count": 139,
   "metadata": {},
   "outputs": [
    {
     "data": {
      "text/plain": [
       "86153145.2"
      ]
     },
     "execution_count": 139,
     "metadata": {},
     "output_type": "execute_result"
    }
   ],
   "source": [
    "\n",
    "product_order[product_order['Profit']<=10000]['Profit'].sum()"
   ]
  },
  {
   "cell_type": "code",
   "execution_count": 140,
   "metadata": {},
   "outputs": [
    {
     "data": {
      "text/plain": [
       "count    165935.000000\n",
       "mean        542.802893\n",
       "std         957.622349\n",
       "min       -1925.000000\n",
       "25%         120.000000\n",
       "50%         297.000000\n",
       "75%         608.000000\n",
       "max       15810.000000\n",
       "Name: Profit, dtype: float64"
      ]
     },
     "execution_count": 140,
     "metadata": {},
     "output_type": "execute_result"
    }
   ],
   "source": [
    "product_order['Profit'].describe()"
   ]
  },
  {
   "cell_type": "code",
   "execution_count": 141,
   "metadata": {},
   "outputs": [
    {
     "data": {
      "text/plain": [
       "0.00    2206\n",
       "0.05     317\n",
       "0.20     276\n",
       "0.10     276\n",
       "0.15     266\n",
       "0.25     224\n",
       "0.01       2\n",
       "0.03       2\n",
       "0.02       2\n",
       "Name: Discount, dtype: int64"
      ]
     },
     "execution_count": 141,
     "metadata": {},
     "output_type": "execute_result"
    }
   ],
   "source": [
    "product_order[product_order['Profit']<0]['Discount'].value_counts()"
   ]
  },
  {
   "cell_type": "markdown",
   "metadata": {},
   "source": [
    "Well, there are soo many items are sold with negative profit. But it seems like company still makes a good amunt of money. They probably keep selling those items to keep the customers happy and make profit out of other products that they sell them."
   ]
  },
  {
   "cell_type": "code",
   "execution_count": 142,
   "metadata": {},
   "outputs": [
    {
     "data": {
      "text/html": [
       "<div>\n",
       "<style scoped>\n",
       "    .dataframe tbody tr th:only-of-type {\n",
       "        vertical-align: middle;\n",
       "    }\n",
       "\n",
       "    .dataframe tbody tr th {\n",
       "        vertical-align: top;\n",
       "    }\n",
       "\n",
       "    .dataframe thead th {\n",
       "        text-align: right;\n",
       "    }\n",
       "</style>\n",
       "<table border=\"1\" class=\"dataframe\">\n",
       "  <thead>\n",
       "    <tr style=\"text-align: right;\">\n",
       "      <th></th>\n",
       "      <th>Id</th>\n",
       "      <th>ProductName</th>\n",
       "      <th>QuantityPerUnit</th>\n",
       "      <th>BulkPrice</th>\n",
       "      <th>UnitSalePrice</th>\n",
       "      <th>QuantityInOrder</th>\n",
       "      <th>Discount</th>\n",
       "      <th>QuantityInBulk</th>\n",
       "      <th>UnitCost</th>\n",
       "      <th>Revenue</th>\n",
       "      <th>Profit</th>\n",
       "    </tr>\n",
       "  </thead>\n",
       "  <tbody>\n",
       "    <tr>\n",
       "      <th>462</th>\n",
       "      <td>1</td>\n",
       "      <td>Chai</td>\n",
       "      <td>10 boxes x 20 bags</td>\n",
       "      <td>18.00</td>\n",
       "      <td>42.4</td>\n",
       "      <td>35</td>\n",
       "      <td>0.15</td>\n",
       "      <td>10</td>\n",
       "      <td>1.8</td>\n",
       "      <td>1484.0</td>\n",
       "      <td>1207.8</td>\n",
       "    </tr>\n",
       "    <tr>\n",
       "      <th>463</th>\n",
       "      <td>2</td>\n",
       "      <td>Chang</td>\n",
       "      <td>24 - 12 oz bottles</td>\n",
       "      <td>19.00</td>\n",
       "      <td>42.4</td>\n",
       "      <td>35</td>\n",
       "      <td>0.15</td>\n",
       "      <td>24</td>\n",
       "      <td>0.8</td>\n",
       "      <td>1484.0</td>\n",
       "      <td>1237.6</td>\n",
       "    </tr>\n",
       "    <tr>\n",
       "      <th>464</th>\n",
       "      <td>3</td>\n",
       "      <td>Aniseed Syrup</td>\n",
       "      <td>12 - 550 ml bottles</td>\n",
       "      <td>10.00</td>\n",
       "      <td>42.4</td>\n",
       "      <td>35</td>\n",
       "      <td>0.15</td>\n",
       "      <td>12</td>\n",
       "      <td>0.8</td>\n",
       "      <td>1484.0</td>\n",
       "      <td>1237.6</td>\n",
       "    </tr>\n",
       "    <tr>\n",
       "      <th>465</th>\n",
       "      <td>4</td>\n",
       "      <td>Chef Anton's Cajun Seasoning</td>\n",
       "      <td>48 - 6 oz jars</td>\n",
       "      <td>22.00</td>\n",
       "      <td>42.4</td>\n",
       "      <td>35</td>\n",
       "      <td>0.15</td>\n",
       "      <td>48</td>\n",
       "      <td>0.5</td>\n",
       "      <td>1484.0</td>\n",
       "      <td>1246.5</td>\n",
       "    </tr>\n",
       "    <tr>\n",
       "      <th>466</th>\n",
       "      <td>5</td>\n",
       "      <td>Chef Anton's Gumbo Mix</td>\n",
       "      <td>36 boxes</td>\n",
       "      <td>21.35</td>\n",
       "      <td>42.4</td>\n",
       "      <td>35</td>\n",
       "      <td>0.15</td>\n",
       "      <td>36</td>\n",
       "      <td>0.6</td>\n",
       "      <td>1484.0</td>\n",
       "      <td>1243.6</td>\n",
       "    </tr>\n",
       "  </tbody>\n",
       "</table>\n",
       "</div>"
      ],
      "text/plain": [
       "     Id                   ProductName      QuantityPerUnit  BulkPrice  \\\n",
       "462   1                          Chai   10 boxes x 20 bags      18.00   \n",
       "463   2                         Chang   24 - 12 oz bottles      19.00   \n",
       "464   3                 Aniseed Syrup  12 - 550 ml bottles      10.00   \n",
       "465   4  Chef Anton's Cajun Seasoning       48 - 6 oz jars      22.00   \n",
       "466   5        Chef Anton's Gumbo Mix             36 boxes      21.35   \n",
       "\n",
       "     UnitSalePrice  QuantityInOrder  Discount  QuantityInBulk  UnitCost  \\\n",
       "462           42.4               35      0.15              10       1.8   \n",
       "463           42.4               35      0.15              24       0.8   \n",
       "464           42.4               35      0.15              12       0.8   \n",
       "465           42.4               35      0.15              48       0.5   \n",
       "466           42.4               35      0.15              36       0.6   \n",
       "\n",
       "     Revenue  Profit  \n",
       "462   1484.0  1207.8  \n",
       "463   1484.0  1237.6  \n",
       "464   1484.0  1237.6  \n",
       "465   1484.0  1246.5  \n",
       "466   1484.0  1243.6  "
      ]
     },
     "execution_count": 142,
     "metadata": {},
     "output_type": "execute_result"
    }
   ],
   "source": [
    "non_disc2 = product_order[product_order['Discount'] == 0]\n",
    "disc2 = product_order[(product_order['Discount'] >= 0.1) | (product_order['Discount'] == 0.05 ) ]\n",
    "disc2.head()"
   ]
  },
  {
   "cell_type": "code",
   "execution_count": 143,
   "metadata": {},
   "outputs": [
    {
     "name": "stderr",
     "output_type": "stream",
     "text": [
      "/Users/kaan/anaconda3/lib/python3.7/site-packages/scipy/stats/stats.py:1713: FutureWarning: Using a non-tuple sequence for multidimensional indexing is deprecated; use `arr[tuple(seq)]` instead of `arr[seq]`. In the future this will be interpreted as an array index, `arr[np.array(seq)]`, which will result either in an error or a different result.\n",
      "  return np.add.reduce(sorted[indexer] * weights, axis=axis) / sumval\n"
     ]
    },
    {
     "data": {
      "text/plain": [
       "<matplotlib.axes._subplots.AxesSubplot at 0x1c281618d0>"
      ]
     },
     "execution_count": 143,
     "metadata": {},
     "output_type": "execute_result"
    },
    {
     "data": {
      "image/png": "[encoded data removed]",
      "text/plain": [
       "<Figure size 576x432 with 1 Axes>"
      ]
     },
     "metadata": {},
     "output_type": "display_data"
    }
   ],
   "source": [
    "sns.distplot(disc2['Profit'])\n"
   ]
  },
  {
   "cell_type": "code",
   "execution_count": 144,
   "metadata": {},
   "outputs": [
    {
     "name": "stderr",
     "output_type": "stream",
     "text": [
      "/Users/kaan/anaconda3/lib/python3.7/site-packages/scipy/stats/stats.py:1713: FutureWarning: Using a non-tuple sequence for multidimensional indexing is deprecated; use `arr[tuple(seq)]` instead of `arr[seq]`. In the future this will be interpreted as an array index, `arr[np.array(seq)]`, which will result either in an error or a different result.\n",
      "  return np.add.reduce(sorted[indexer] * weights, axis=axis) / sumval\n"
     ]
    },
    {
     "data": {
      "text/plain": [
       "<matplotlib.axes._subplots.AxesSubplot at 0x1c2841a198>"
      ]
     },
     "execution_count": 144,
     "metadata": {},
     "output_type": "execute_result"
    },
    {
     "data": {
      "image/png": "[encoded data removed]",
      "text/plain": [
       "<Figure size 576x432 with 1 Axes>"
      ]
     },
     "metadata": {},
     "output_type": "display_data"
    }
   ],
   "source": [
    "sns.distplot(non_disc2['Profit'])"
   ]
  },
  {
   "cell_type": "markdown",
   "metadata": {},
   "source": [
    "I have all the data I need. Now it is time built hypothesis.  "
   ]
  },
  {
   "cell_type": "code",
   "execution_count": null,
   "metadata": {},
   "outputs": [],
   "source": []
  },
  {
   "cell_type": "markdown",
   "metadata": {},
   "source": [
    "### 2.3 Hypothesis\n",
    "\n",
    "\n",
    "$H_0$: Offering discount does not affect the average profit in an order.\n",
    "\n",
    " $H_0: \\mu_1 = \\mu_2$     \n",
    "\n",
    "$H_1$: Offering discount affects the average profit in an order.\n",
    "\n",
    " $H_0: \\mu_i \\neq \\mu_j$\n",
    "\n",
    "##### I set my significance level (Alpha): 0.05\n",
    "\n",
    " **$\\alpha$ = 0.05**"
   ]
  },
  {
   "cell_type": "code",
   "execution_count": null,
   "metadata": {},
   "outputs": [],
   "source": []
  },
  {
   "cell_type": "markdown",
   "metadata": {},
   "source": [
    "### 2.4 Statistical Analysis\n",
    "\n",
    "Welch’s t-test is a nonparametric univariate test that tests for a significant difference between the mean of two unrelated groups. It is an alternative to the independent t-test when there is a violation in the assumption of equality of variances. In our case we have slighly different variences so I will use Welch's t-test. With this close standart deviation, probably, Student's t-test would also be ok but let's go by Welch's t-test beacuse, it is also best for the categorical indipendant variables. "
   ]
  },
  {
   "cell_type": "markdown",
   "metadata": {},
   "source": [
    "#### Welch’s t-test Assumptions\n",
    "Like every test, this inferential statistic test has assumptions. The assumptions that the data must meet in order for the test results to be valid are:\n",
    "\n",
    "* The independent variable (IV) is categorical with at least two levels (groups) \n",
    "  **Check**   Discount column has categorical data. \n",
    "* The dependent variable (DV) is continuous which is measured on an interval or ratio scale;  **Check**  Quantity column has continues data. \n",
    "* The distribution of the two groups should follow the normal distribution; We can check the normality of a distribution with a few different method such KS Test or Shapiro Test. The first thing we need to do is import scipy.stats as stats and then test our assumptions. We can test the assumption of normality using the stats.shapiro(). The first value in the tuple is the W test statistic, and the second value is the p-value.\n",
    "\n"
   ]
  },
  {
   "cell_type": "markdown",
   "metadata": {},
   "source": [
    "#### Normality Check"
   ]
  },
  {
   "cell_type": "code",
   "execution_count": 145,
   "metadata": {},
   "outputs": [
    {
     "data": {
      "text/plain": [
       "KstestResult(statistic=0.9748728263110751, pvalue=0.0)"
      ]
     },
     "execution_count": 145,
     "metadata": {},
     "output_type": "execute_result"
    }
   ],
   "source": [
    "#KS Test for normality\n",
    "stats.kstest(disc2.Profit, 'norm', args=(0,2))"
   ]
  },
  {
   "cell_type": "code",
   "execution_count": 146,
   "metadata": {},
   "outputs": [
    {
     "data": {
      "text/plain": [
       "KstestResult(statistic=0.9739966364165978, pvalue=0.0)"
      ]
     },
     "execution_count": 146,
     "metadata": {},
     "output_type": "execute_result"
    }
   ],
   "source": [
    "#KS Test for normality\n",
    "stats.kstest(non_disc2.Profit, 'norm', args=(0,2))\n"
   ]
  },
  {
   "cell_type": "markdown",
   "metadata": {},
   "source": [
    "p_value is very small for both tests, so we can not say that the distribution is normal however when the sample size is sufficiently large, Welch's t-test can still perform well."
   ]
  },
  {
   "cell_type": "markdown",
   "metadata": {},
   "source": [
    "#### Performing Welch's t-test"
   ]
  },
  {
   "cell_type": "code",
   "execution_count": 147,
   "metadata": {},
   "outputs": [
    {
     "data": {
      "text/plain": [
       "Ttest_indResult(statistic=9.68427386675722, pvalue=3.565068297046637e-22)"
      ]
     },
     "execution_count": 147,
     "metadata": {},
     "output_type": "execute_result"
    }
   ],
   "source": [
    "from scipy import stats\n",
    "\n",
    "stats.ttest_ind(disc2.Profit, non_disc2.Profit, equal_var=True)\n"
   ]
  },
  {
   "cell_type": "markdown",
   "metadata": {},
   "source": [
    "P _value is very small (.694551724324254e-16), it is safe to **reject the null hypothesis suggesting the alternative**. We can say that the discount has a **statistically significant** effect on the **average profit** of the product in an order. But we do not know how much of a difference it makes. To figure that out, let's check the **effect size**. \n"
   ]
  },
  {
   "cell_type": "markdown",
   "metadata": {},
   "source": [
    "#### Effect Size"
   ]
  },
  {
   "cell_type": "code",
   "execution_count": 148,
   "metadata": {},
   "outputs": [
    {
     "data": {
      "text/plain": [
       "0.04891091343053319"
      ]
     },
     "execution_count": 148,
     "metadata": {},
     "output_type": "execute_result"
    }
   ],
   "source": [
    "Cohen_d(disc2.Profit, non_disc2.Profit)"
   ]
  },
  {
   "cell_type": "markdown",
   "metadata": {},
   "source": [
    "Cohen suggested that d=0.2 be considered a 'small' effect size. In our case, the effect size is very small. We can still say that the impact is positive and discounts, all togather, resulted increased the average profit in orders. "
   ]
  },
  {
   "cell_type": "markdown",
   "metadata": {},
   "source": [
    "#### The second part of  question is in what level the discount make significant difference in the order quantity"
   ]
  },
  {
   "cell_type": "markdown",
   "metadata": {},
   "source": [
    "I will check the effect sizes for all different discount values in a simple loop."
   ]
  },
  {
   "cell_type": "code",
   "execution_count": 149,
   "metadata": {},
   "outputs": [
    {
     "name": "stdout",
     "output_type": "stream",
     "text": [
      "Effect Size for 0.05 Discount on Profit: 0.214\n",
      "Effect Size for 0.1 Discount on Profit: -0.047\n",
      "Effect Size for 0.15 Discount on Profit: -0.019\n",
      "Effect Size for 0.2 Discount on Profit: -0.017\n",
      "Effect Size for 0.25 Discount on Profit: 0.077\n"
     ]
    }
   ],
   "source": [
    "discount_levels=[0.05,0.1,0.15,0.20,0.25]\n",
    "effect_sizes_on_profit=[]\n",
    "for i in discount_levels:\n",
    "    sample=disc2.loc[disc2['Discount']==i]['Profit']\n",
    "    effect_sizes_on_profit.append(round ( Cohen_d(sample, non_disc2.Profit),3))\n",
    "    print('Effect Size for',i, 'Discount on Profit:', round ( Cohen_d(sample, non_disc2.Profit),3))\n"
   ]
  },
  {
   "cell_type": "markdown",
   "metadata": {},
   "source": [
    "Effect Size for 0.05 Discount : 0.347\n",
    "Effect Size for 0.1 Discount : 0.196\n",
    "Effect Size for 0.15 Discount : 0.372\n",
    "Effect Size for 0.2 Discount : 0.301\n",
    "Effect Size for 0.25 Discount : 0.367"
   ]
  },
  {
   "cell_type": "code",
   "execution_count": 150,
   "metadata": {
    "scrolled": false
   },
   "outputs": [
    {
     "data": {
      "image/png": "[encoded data removed]",
      "text/plain": [
       "<Figure size 576x432 with 1 Axes>"
      ]
     },
     "metadata": {},
     "output_type": "display_data"
    }
   ],
   "source": [
    "ax= sns.barplot(x=discount_levels, y=effect_sizes_on_profit, palette=\"Blues_d\", )\n",
    "ax.set(xlabel='Discount Level', ylabel='Effect Size on Profit', title= \"Discount ~ Profit\")\n",
    "\n",
    "plt.show()"
   ]
  },
  {
   "cell_type": "code",
   "execution_count": 151,
   "metadata": {},
   "outputs": [
    {
     "data": {
      "text/plain": [
       "([<matplotlib.axis.XTick at 0x1c26e28ba8>,\n",
       "  <matplotlib.axis.XTick at 0x1c26e28438>,\n",
       "  <matplotlib.axis.XTick at 0x1c26e28320>,\n",
       "  <matplotlib.axis.XTick at 0x1c2710f400>,\n",
       "  <matplotlib.axis.XTick at 0x1c2710f898>],\n",
       " <a list of 5 Text xticklabel objects>)"
      ]
     },
     "execution_count": 151,
     "metadata": {},
     "output_type": "execute_result"
    },
    {
     "data": {
      "image/png": "[encoded data removed]",
      "text/plain": [
       "<Figure size 576x432 with 1 Axes>"
      ]
     },
     "metadata": {},
     "output_type": "display_data"
    }
   ],
   "source": [
    "# effect size for quantiy and profit in the same bar chart\n",
    "plt.bar(discount_levels, effect_sizes_on_profit, 0.01, alpha=0.7)\n",
    "plt.bar(discount_levels, effect_sizes_on_quantity, 0.01, alpha=0.7)\n",
    "plt.xticks(discount_levels)\n"
   ]
  },
  {
   "cell_type": "code",
   "execution_count": 152,
   "metadata": {},
   "outputs": [
    {
     "data": {
      "text/plain": [
       "526.5478448658434"
      ]
     },
     "execution_count": 152,
     "metadata": {},
     "output_type": "execute_result"
    }
   ],
   "source": [
    "\n",
    "product_order[product_order['Discount']==0]['Profit'].mean()"
   ]
  },
  {
   "cell_type": "code",
   "execution_count": 153,
   "metadata": {},
   "outputs": [
    {
     "data": {
      "text/plain": [
       "568.3493103555223"
      ]
     },
     "execution_count": 153,
     "metadata": {},
     "output_type": "execute_result"
    }
   ],
   "source": [
    "product_order[product_order['Discount']>0]['Profit'].mean()"
   ]
  },
  {
   "cell_type": "code",
   "execution_count": 154,
   "metadata": {},
   "outputs": [
    {
     "name": "stdout",
     "output_type": "stream",
     "text": [
      "Profit with 0.05 discount: 744.6751632151625\n",
      "Profit with 0.1 discount: 483.44072517078433\n",
      "Profit with 0.15 discount: 509.08277773182385\n",
      "Profit with 0.2 discount: 510.65190771960795\n",
      "Profit with 0.25 discount: 600.0697841119863\n"
     ]
    }
   ],
   "source": [
    "discount_levels_0=[0,0.05,0.1,0.15,0.20,0.25]\n",
    "for i in discount_levels:\n",
    "    \n",
    "    print ('Profit with' , i, 'discount:', product_order[product_order['Discount']==i]['Profit'].mean())"
   ]
  },
  {
   "cell_type": "markdown",
   "metadata": {},
   "source": [
    "Results show that, 5% of discount has the most impact on the profir of a product in an order. The least impact is belong to 10%. In fact, 10%, 15% and 20% makes negatif impact on the profit. However, it does not mean that the company loosing money. As long as the effect size is bigger that -1, it still a profit but less then they would make without the discount. There could be many aspects of this strategy. Marketting, stocking, reagon, customer oriented sales, etc.. "
   ]
  },
  {
   "cell_type": "code",
   "execution_count": null,
   "metadata": {},
   "outputs": [],
   "source": []
  },
  {
   "cell_type": "markdown",
   "metadata": {},
   "source": [
    "## 2.5 - Conclusion\n",
    "\n",
    "* Offering discount increases the average profit in an order.\n",
    "* Although the difference between discount and non-discount profit is statistically significant, the effect size is surprising.5% of discount has the most impact on the profit of a product in an order. The least impact belongs to 10%. In fact, 10%, 15% and 20% makes negatif impact on the profit.\n",
    "* Eventhough 15% ,20% could be small negative effect, 10% discount drops the average profit significantly.It increases the average quantity in an order small amount, however, it has medium negative effect on the average profit. Company should consider %10 discount carefully.  \n",
    "* Although some level of disconts causes less profit to the company, overall discounts increases the average profit in an order from 526 Dolars to 560 Dolars. \n",
    "\n",
    "## 2.6 - Further Research\n",
    "\n",
    " * The effect size is small on the number of the orders however, we did not test how it effects the overall profit. So another round of tests could be run for the profit difference. \n",
    " * There care many aspects of the discount strategy. Marketting, stocking, reagon, customer oriented sales, etc.. To improve the effectiveness of discounts, individual products (price, demand and offer by the reagon) and sale patterns can be studied. Clearly more expensive product could be more impactfull even if they are sold in small quantities. \n",
    "\n"
   ]
  },
  {
   "cell_type": "markdown",
   "metadata": {},
   "source": [
    "# Question 3\n",
    "### 3.1 - Does the employee's generation effect the average quantity of products sold? \n",
    "### 3.2 - Retrieve the data and perform EDA"
   ]
  },
  {
   "cell_type": "code",
   "execution_count": 155,
   "metadata": {},
   "outputs": [
    {
     "name": "stdout",
     "output_type": "stream",
     "text": [
      "Table Name: Order\n",
      "\n",
      "Name: Id \t Type: INTEGER\n",
      "Name: CustomerId \t Type: VARCHAR(8000)\n",
      "Name: EmployeeId \t Type: INTEGER\n",
      "Name: OrderDate \t Type: VARCHAR(8000)\n",
      "Name: RequiredDate \t Type: VARCHAR(8000)\n",
      "Name: ShippedDate \t Type: VARCHAR(8000)\n",
      "Name: ShipVia \t Type: INTEGER\n",
      "Name: Freight \t Type: DECIMAL\n",
      "Name: ShipName \t Type: VARCHAR(8000)\n",
      "Name: ShipAddress \t Type: VARCHAR(8000)\n",
      "Name: ShipCity \t Type: VARCHAR(8000)\n",
      "Name: ShipRegion \t Type: VARCHAR(8000)\n",
      "Name: ShipPostalCode \t Type: VARCHAR(8000)\n",
      "Name: ShipCountry \t Type: VARCHAR(8000)\n"
     ]
    }
   ],
   "source": [
    "# calling the function to test it\n",
    "get_columns_info('Order')"
   ]
  },
  {
   "cell_type": "code",
   "execution_count": 156,
   "metadata": {},
   "outputs": [
    {
     "name": "stdout",
     "output_type": "stream",
     "text": [
      "Table Name: OrderDetail\n",
      "\n",
      "Name: Id \t Type: VARCHAR(8000)\n",
      "Name: OrderId \t Type: INTEGER\n",
      "Name: ProductId \t Type: INTEGER\n",
      "Name: UnitPrice \t Type: DECIMAL\n",
      "Name: Quantity \t Type: INTEGER\n",
      "Name: Discount \t Type: FLOAT\n"
     ]
    }
   ],
   "source": [
    "# calling the function to test it\n",
    "get_columns_info('OrderDetail')"
   ]
  },
  {
   "cell_type": "code",
   "execution_count": 157,
   "metadata": {},
   "outputs": [
    {
     "data": {
      "text/html": [
       "<div>\n",
       "<style scoped>\n",
       "    .dataframe tbody tr th:only-of-type {\n",
       "        vertical-align: middle;\n",
       "    }\n",
       "\n",
       "    .dataframe tbody tr th {\n",
       "        vertical-align: top;\n",
       "    }\n",
       "\n",
       "    .dataframe thead th {\n",
       "        text-align: right;\n",
       "    }\n",
       "</style>\n",
       "<table border=\"1\" class=\"dataframe\">\n",
       "  <thead>\n",
       "    <tr style=\"text-align: right;\">\n",
       "      <th></th>\n",
       "      <th>Id</th>\n",
       "      <th>BirthDate</th>\n",
       "      <th>OrderId</th>\n",
       "      <th>Quantity</th>\n",
       "    </tr>\n",
       "  </thead>\n",
       "  <tbody>\n",
       "    <tr>\n",
       "      <th>0</th>\n",
       "      <td>5</td>\n",
       "      <td>1987-03-04</td>\n",
       "      <td>10248</td>\n",
       "      <td>12</td>\n",
       "    </tr>\n",
       "    <tr>\n",
       "      <th>1</th>\n",
       "      <td>5</td>\n",
       "      <td>1987-03-04</td>\n",
       "      <td>10248</td>\n",
       "      <td>10</td>\n",
       "    </tr>\n",
       "    <tr>\n",
       "      <th>2</th>\n",
       "      <td>5</td>\n",
       "      <td>1987-03-04</td>\n",
       "      <td>10248</td>\n",
       "      <td>5</td>\n",
       "    </tr>\n",
       "    <tr>\n",
       "      <th>3</th>\n",
       "      <td>6</td>\n",
       "      <td>1995-07-02</td>\n",
       "      <td>10249</td>\n",
       "      <td>9</td>\n",
       "    </tr>\n",
       "    <tr>\n",
       "      <th>4</th>\n",
       "      <td>6</td>\n",
       "      <td>1995-07-02</td>\n",
       "      <td>10249</td>\n",
       "      <td>40</td>\n",
       "    </tr>\n",
       "  </tbody>\n",
       "</table>\n",
       "</div>"
      ],
      "text/plain": [
       "   Id   BirthDate  OrderId  Quantity\n",
       "0   5  1987-03-04    10248        12\n",
       "1   5  1987-03-04    10248        10\n",
       "2   5  1987-03-04    10248         5\n",
       "3   6  1995-07-02    10249         9\n",
       "4   6  1995-07-02    10249        40"
      ]
     },
     "execution_count": 157,
     "metadata": {},
     "output_type": "execute_result"
    }
   ],
   "source": [
    "birthday= pd.read_sql_query('''SELECT  e.Id, e.BirthDate, o.Id as OrderId, od.Quantity\n",
    "                              FROM Employee e\n",
    "                              JOIN [Order] o ON e.Id = o.EmployeeId\n",
    "                              JOIN Orderdetail od ON  o.Id = od.OrderId\n",
    "                                                 \n",
    "                            ;''', engine)\n",
    "birthday.head()"
   ]
  },
  {
   "cell_type": "code",
   "execution_count": 158,
   "metadata": {},
   "outputs": [
    {
     "data": {
      "text/plain": [
       "array([1969, 1980, 1984, 1987, 1990, 1992, 1995, 1998])"
      ]
     },
     "execution_count": 158,
     "metadata": {},
     "output_type": "execute_result"
    }
   ],
   "source": [
    "# Birth year should be extracted from the BirthDate column. It is a varchar type so I can use split.\n",
    "birth_year=[]\n",
    "for i in range(len(birthday.BirthDate)):\n",
    "        birth_year.append(int(birthday.BirthDate[i].split('-', 1)[0]))\n",
    "        \n",
    "np.unique(birth_year)"
   ]
  },
  {
   "cell_type": "markdown",
   "metadata": {},
   "source": [
    "I can use this list as it is, because it seems just a few unique years. However, I would like to see the impact of generations so I will convert this data into generation groups. "
   ]
  },
  {
   "cell_type": "code",
   "execution_count": 159,
   "metadata": {},
   "outputs": [],
   "source": [
    "#labeling generations\n",
    "\"\"\"\n",
    "The Silent Generation: Born 1928-1945 (73-90 years old)\n",
    "Baby Boomers: Born 1946-1964 (54-72 years old)\n",
    "Generation X: Born 1965-1980 (38-53 years old)\n",
    "Millennials: Born 1981-1996 (22-37 years old)\n",
    "Post-Millennials: Born 1997-Present (0-21 years old)\n",
    "\"\"\"\n",
    "generations=[]\n",
    "for n,i in enumerate (birth_year):\n",
    "    #print (i, n)\n",
    "    if i<=1945:\n",
    "        generations.append('Silent')\n",
    "    elif i>=1946 and i<=1964:\n",
    "        generations.append('Boomer')\n",
    "    elif i>=1965 and i<=1980:\n",
    "        generations.append('Gen_x')\n",
    "    elif i>=1981 and i<=1996:\n",
    "        generations.append('Millennial')\n",
    "    else :\n",
    "        generations.append('Gen_z')\n"
   ]
  },
  {
   "cell_type": "code",
   "execution_count": 160,
   "metadata": {},
   "outputs": [],
   "source": [
    "# Adding the Generation column to the dataframe.\n",
    "birthday['Generation']=generations"
   ]
  },
  {
   "cell_type": "code",
   "execution_count": 161,
   "metadata": {},
   "outputs": [
    {
     "data": {
      "text/plain": [
       "Millennial    1283\n",
       "Gen_x          765\n",
       "Gen_z          107\n",
       "Name: Generation, dtype: int64"
      ]
     },
     "execution_count": 161,
     "metadata": {},
     "output_type": "execute_result"
    }
   ],
   "source": [
    "birthday['Generation'].value_counts()"
   ]
  },
  {
   "cell_type": "code",
   "execution_count": 162,
   "metadata": {},
   "outputs": [
    {
     "data": {
      "text/plain": [
       "count           2155\n",
       "unique             3\n",
       "top       Millennial\n",
       "freq            1283\n",
       "Name: Generation, dtype: object"
      ]
     },
     "execution_count": 162,
     "metadata": {},
     "output_type": "execute_result"
    }
   ],
   "source": [
    "birthday['Generation'].describe()"
   ]
  },
  {
   "cell_type": "code",
   "execution_count": 163,
   "metadata": {},
   "outputs": [
    {
     "name": "stderr",
     "output_type": "stream",
     "text": [
      "/Users/kaan/anaconda3/lib/python3.7/site-packages/scipy/stats/stats.py:1713: FutureWarning: Using a non-tuple sequence for multidimensional indexing is deprecated; use `arr[tuple(seq)]` instead of `arr[seq]`. In the future this will be interpreted as an array index, `arr[np.array(seq)]`, which will result either in an error or a different result.\n",
      "  return np.add.reduce(sorted[indexer] * weights, axis=axis) / sumval\n"
     ]
    },
    {
     "data": {
      "image/png": "[encoded data removed]",
      "text/plain": [
       "<Figure size 576x432 with 1 Axes>"
      ]
     },
     "metadata": {},
     "output_type": "display_data"
    }
   ],
   "source": [
    "birthday.groupby('Generation')['Quantity'].mean()\n",
    "ax= sns.barplot(x=birthday.Generation, y=birthday.Quantity, palette=\"Blues_d\", errwidth=0.3\n",
    "                ,)\n",
    "ax.set(xlabel='Generation', ylabel='Average Quantity Sold', title= \"Generation - Quantity\" )\n",
    "\n",
    "plt.show()\n"
   ]
  },
  {
   "cell_type": "code",
   "execution_count": 164,
   "metadata": {},
   "outputs": [
    {
     "data": {
      "text/html": [
       "<div>\n",
       "<style scoped>\n",
       "    .dataframe tbody tr th:only-of-type {\n",
       "        vertical-align: middle;\n",
       "    }\n",
       "\n",
       "    .dataframe tbody tr th {\n",
       "        vertical-align: top;\n",
       "    }\n",
       "\n",
       "    .dataframe thead th {\n",
       "        text-align: right;\n",
       "    }\n",
       "</style>\n",
       "<table border=\"1\" class=\"dataframe\">\n",
       "  <thead>\n",
       "    <tr style=\"text-align: right;\">\n",
       "      <th></th>\n",
       "      <th>Id</th>\n",
       "      <th>OrderId</th>\n",
       "      <th>Quantity</th>\n",
       "    </tr>\n",
       "    <tr>\n",
       "      <th>Generation</th>\n",
       "      <th></th>\n",
       "      <th></th>\n",
       "      <th></th>\n",
       "    </tr>\n",
       "  </thead>\n",
       "  <tbody>\n",
       "    <tr>\n",
       "      <th>Gen_x</th>\n",
       "      <td>2025</td>\n",
       "      <td>8144378</td>\n",
       "      <td>17610</td>\n",
       "    </tr>\n",
       "    <tr>\n",
       "      <th>Gen_z</th>\n",
       "      <td>963</td>\n",
       "      <td>1145701</td>\n",
       "      <td>2670</td>\n",
       "    </tr>\n",
       "    <tr>\n",
       "      <th>Millennial</th>\n",
       "      <td>6350</td>\n",
       "      <td>13680876</td>\n",
       "      <td>31037</td>\n",
       "    </tr>\n",
       "  </tbody>\n",
       "</table>\n",
       "</div>"
      ],
      "text/plain": [
       "              Id   OrderId  Quantity\n",
       "Generation                          \n",
       "Gen_x       2025   8144378     17610\n",
       "Gen_z        963   1145701      2670\n",
       "Millennial  6350  13680876     31037"
      ]
     },
     "execution_count": 164,
     "metadata": {},
     "output_type": "execute_result"
    }
   ],
   "source": [
    "birthday.groupby('Generation').sum()"
   ]
  },
  {
   "cell_type": "markdown",
   "metadata": {},
   "source": [
    "No Silent!,not surprising. So, we have 3 generation groups that we need for the testing."
   ]
  },
  {
   "cell_type": "markdown",
   "metadata": {},
   "source": [
    "### 3.3 Hypothesis\n",
    "\n",
    "\n",
    "$H_0$: Employee's generation does not have impact on the number of products sold.\n",
    "\n",
    " $H_0: \\mu_1 = \\mu_2 = \\mu_3= \\mu_4...= \\mu_i= \\mu_j$   \n",
    "\n",
    "$H_1$: Employee's generation has impact on the number of products sold.\n",
    "\n",
    " $H_0: \\mu_i \\neq \\mu_j$\n",
    "\n",
    "##### I set my significance level (Alpha): 0.05\n",
    "\n",
    " **$\\alpha$ = 0.05**"
   ]
  },
  {
   "cell_type": "markdown",
   "metadata": {},
   "source": [
    "### 3.4 Statistical Analysis\n",
    "\n",
    "The one-way ANOVA compares the means between the groups you are interested in and determines whether any of those means are statistically significantly different from each other. If, however, the one-way ANOVA returns a statistically significant result, we accept the alternative hypothesis (HA), which is that there are at least two group means that are statistically significantly different from each other. So ANOVA would be good for this situation. "
   ]
  },
  {
   "cell_type": "markdown",
   "metadata": {},
   "source": [
    "#### ANOVA Assumptions\n",
    "\n",
    "* Each group sample is drawn from a normally distributed population\n",
    "* All populations have a common variance\n",
    "* All samples are drawn independently of each other\n",
    "* Within each sample, the observations are sampled randomly and independently of each other\n",
    "* Factor effects are additive\n",
    "\n",
    "The presence of outliers can also cause problems. In addition, we need to make sure that the F statistic is well behaved. In particular, the F statistic is relatively robust to violations of normality provided:\n",
    "\n",
    "* The populations are symmetrical and uni-modal.\n",
    "* The sample sizes for the groups are equal and greater than 10\n",
    "\n",
    "In general, as long as the sample sizes are equal (called a balanced model) and sufficiently large, the normality assumption can be violated provided the samples are symmetrical or at least similar in shape (e.g. all are negatively skewed).\n"
   ]
  },
  {
   "cell_type": "markdown",
   "metadata": {},
   "source": [
    "#### Normality Check"
   ]
  },
  {
   "cell_type": "code",
   "execution_count": 165,
   "metadata": {},
   "outputs": [
    {
     "data": {
      "image/png": "[encoded data removed]",
      "text/plain": [
       "<Figure size 720x360 with 1 Axes>"
      ]
     },
     "metadata": {},
     "output_type": "display_data"
    }
   ],
   "source": [
    "birthday.boxplot('Quantity','Generation', figsize=(10, 5));"
   ]
  },
  {
   "cell_type": "code",
   "execution_count": 166,
   "metadata": {},
   "outputs": [
    {
     "name": "stderr",
     "output_type": "stream",
     "text": [
      "/Users/kaan/anaconda3/lib/python3.7/site-packages/scipy/stats/stats.py:1713: FutureWarning: Using a non-tuple sequence for multidimensional indexing is deprecated; use `arr[tuple(seq)]` instead of `arr[seq]`. In the future this will be interpreted as an array index, `arr[np.array(seq)]`, which will result either in an error or a different result.\n",
      "  return np.add.reduce(sorted[indexer] * weights, axis=axis) / sumval\n"
     ]
    },
    {
     "data": {
      "text/plain": [
       "<matplotlib.axes._subplots.AxesSubplot at 0x1c27f057f0>"
      ]
     },
     "execution_count": 166,
     "metadata": {},
     "output_type": "execute_result"
    },
    {
     "data": {
      "image/png": "[encoded data removed]",
      "text/plain": [
       "<Figure size 576x432 with 1 Axes>"
      ]
     },
     "metadata": {},
     "output_type": "display_data"
    }
   ],
   "source": [
    "sns.distplot(birthday['Quantity'])"
   ]
  },
  {
   "cell_type": "code",
   "execution_count": 167,
   "metadata": {},
   "outputs": [
    {
     "data": {
      "text/plain": [
       "KstestResult(statistic=0.9238855989102894, pvalue=0.0)"
      ]
     },
     "execution_count": 167,
     "metadata": {},
     "output_type": "execute_result"
    }
   ],
   "source": [
    "stats.kstest(birthday['Quantity'], 'norm', args=(0,2))"
   ]
  },
  {
   "cell_type": "markdown",
   "metadata": {},
   "source": [
    "p_value is 0, so we can not say that the distribution is normal however when the sample size is sufficiently large, Anova can still perform well. \n",
    "\n"
   ]
  },
  {
   "cell_type": "code",
   "execution_count": 168,
   "metadata": {},
   "outputs": [],
   "source": [
    "#birthday=birthday[birthday['Quantity']<90]"
   ]
  },
  {
   "cell_type": "markdown",
   "metadata": {},
   "source": [
    "#### Equal Variances Check"
   ]
  },
  {
   "cell_type": "code",
   "execution_count": 169,
   "metadata": {},
   "outputs": [
    {
     "data": {
      "text/plain": [
       "LeveneResult(statistic=0.06774940223865293, pvalue=0.9344966195919657)"
      ]
     },
     "execution_count": 169,
     "metadata": {},
     "output_type": "execute_result"
    }
   ],
   "source": [
    "# using Levene’s test to test for equal variances between groups\n",
    "stats.levene(birthday['Quantity'][birthday['Generation'] == \"Millennial\"],\n",
    "             birthday['Quantity'][birthday['Generation'] == \"Gen_z\"],\n",
    "             birthday['Quantity'][birthday['Generation'] == \"Gen_x\"])"
   ]
  },
  {
   "cell_type": "code",
   "execution_count": null,
   "metadata": {},
   "outputs": [],
   "source": []
  },
  {
   "cell_type": "markdown",
   "metadata": {},
   "source": [
    "Equal variances between groups assumptios is met. "
   ]
  },
  {
   "cell_type": "markdown",
   "metadata": {},
   "source": [
    "#### Performing One-way ANOVA"
   ]
  },
  {
   "cell_type": "code",
   "execution_count": 170,
   "metadata": {},
   "outputs": [
    {
     "name": "stdout",
     "output_type": "stream",
     "text": [
      "                      sum_sq      df         F    PR(>F)\n",
      "C(Generation)     803.948837     2.0  1.111037  0.329406\n",
      "Residual       778595.687358  2152.0       NaN       NaN\n"
     ]
    }
   ],
   "source": [
    "\n",
    "formula = 'Quantity ~ C(Generation)'\n",
    "lm = ols(formula, birthday).fit()\n",
    "table = sm.stats.anova_lm(lm, typ=2)\n",
    "print(table)"
   ]
  },
  {
   "cell_type": "markdown",
   "metadata": {},
   "source": [
    "### 3.5 - Conclusion\n",
    "\n",
    "According to ANOVA test result, we fail to reject the null hypothesis. Employee's generation does not have impact on the number of products sold. So, there is no statistically significant difference between performences of generations. It is a good sign that the company sale practices works well across the ages throughout the company.   \n",
    "\n",
    "\n",
    "### 3.6 - Further Research\n"
   ]
  },
  {
   "cell_type": "code",
   "execution_count": null,
   "metadata": {},
   "outputs": [],
   "source": []
  },
  {
   "cell_type": "markdown",
   "metadata": {},
   "source": [
    "# Question 4\n",
    "### 4.1 - Does the revenue of dairy product (cheese) differs by region and the time of the years? \n",
    "### 4.2 - Retrieve the data and perform EDA"
   ]
  },
  {
   "cell_type": "markdown",
   "metadata": {},
   "source": [
    "I will need from a few tables and do some feature engineering to calculate revenue. "
   ]
  },
  {
   "cell_type": "code",
   "execution_count": 171,
   "metadata": {},
   "outputs": [
    {
     "name": "stdout",
     "output_type": "stream",
     "text": [
      "Table Name: Category\n",
      "\n",
      "Name: Id \t Type: INTEGER\n",
      "Name: CategoryName \t Type: VARCHAR(8000)\n",
      "Name: Description \t Type: VARCHAR(8000)\n"
     ]
    }
   ],
   "source": [
    "get_columns_info('Category')"
   ]
  },
  {
   "cell_type": "code",
   "execution_count": 172,
   "metadata": {},
   "outputs": [
    {
     "data": {
      "text/html": [
       "<div>\n",
       "<style scoped>\n",
       "    .dataframe tbody tr th:only-of-type {\n",
       "        vertical-align: middle;\n",
       "    }\n",
       "\n",
       "    .dataframe tbody tr th {\n",
       "        vertical-align: top;\n",
       "    }\n",
       "\n",
       "    .dataframe thead th {\n",
       "        text-align: right;\n",
       "    }\n",
       "</style>\n",
       "<table border=\"1\" class=\"dataframe\">\n",
       "  <thead>\n",
       "    <tr style=\"text-align: right;\">\n",
       "      <th></th>\n",
       "      <th>Id</th>\n",
       "      <th>CategoryName</th>\n",
       "      <th>Description</th>\n",
       "    </tr>\n",
       "  </thead>\n",
       "  <tbody>\n",
       "    <tr>\n",
       "      <th>0</th>\n",
       "      <td>1</td>\n",
       "      <td>Beverages</td>\n",
       "      <td>Soft drinks, coffees, teas, beers, and ales</td>\n",
       "    </tr>\n",
       "    <tr>\n",
       "      <th>1</th>\n",
       "      <td>2</td>\n",
       "      <td>Condiments</td>\n",
       "      <td>Sweet and savory sauces, relishes, spreads, an...</td>\n",
       "    </tr>\n",
       "    <tr>\n",
       "      <th>2</th>\n",
       "      <td>3</td>\n",
       "      <td>Confections</td>\n",
       "      <td>Desserts, candies, and sweet breads</td>\n",
       "    </tr>\n",
       "    <tr>\n",
       "      <th>3</th>\n",
       "      <td>4</td>\n",
       "      <td>Dairy Products</td>\n",
       "      <td>Cheeses</td>\n",
       "    </tr>\n",
       "    <tr>\n",
       "      <th>4</th>\n",
       "      <td>5</td>\n",
       "      <td>Grains/Cereals</td>\n",
       "      <td>Breads, crackers, pasta, and cereal</td>\n",
       "    </tr>\n",
       "    <tr>\n",
       "      <th>5</th>\n",
       "      <td>6</td>\n",
       "      <td>Meat/Poultry</td>\n",
       "      <td>Prepared meats</td>\n",
       "    </tr>\n",
       "    <tr>\n",
       "      <th>6</th>\n",
       "      <td>7</td>\n",
       "      <td>Produce</td>\n",
       "      <td>Dried fruit and bean curd</td>\n",
       "    </tr>\n",
       "    <tr>\n",
       "      <th>7</th>\n",
       "      <td>8</td>\n",
       "      <td>Seafood</td>\n",
       "      <td>Seaweed and fish</td>\n",
       "    </tr>\n",
       "  </tbody>\n",
       "</table>\n",
       "</div>"
      ],
      "text/plain": [
       "   Id    CategoryName                                        Description\n",
       "0   1       Beverages        Soft drinks, coffees, teas, beers, and ales\n",
       "1   2      Condiments  Sweet and savory sauces, relishes, spreads, an...\n",
       "2   3     Confections                Desserts, candies, and sweet breads\n",
       "3   4  Dairy Products                                            Cheeses\n",
       "4   5  Grains/Cereals                Breads, crackers, pasta, and cereal\n",
       "5   6    Meat/Poultry                                     Prepared meats\n",
       "6   7         Produce                          Dried fruit and bean curd\n",
       "7   8         Seafood                                   Seaweed and fish"
      ]
     },
     "execution_count": 172,
     "metadata": {},
     "output_type": "execute_result"
    }
   ],
   "source": [
    "data1 = pd.read_sql_query('''\n",
    "                            SELECT   *\n",
    "                            FROM Category\n",
    "                            \n",
    "                            ;''', engine)\n",
    "\n",
    "data1"
   ]
  },
  {
   "cell_type": "markdown",
   "metadata": {},
   "source": [
    "I will only select the dairy product for cheeses,  calculate and select the revenue, region and month of the order from data.\n",
    "To be able to get the month information, I need to select the month info as a substring from the orderdate column because it is all VARCHAR format. "
   ]
  },
  {
   "cell_type": "code",
   "execution_count": 173,
   "metadata": {},
   "outputs": [
    {
     "data": {
      "text/html": [
       "<div>\n",
       "<style scoped>\n",
       "    .dataframe tbody tr th:only-of-type {\n",
       "        vertical-align: middle;\n",
       "    }\n",
       "\n",
       "    .dataframe tbody tr th {\n",
       "        vertical-align: top;\n",
       "    }\n",
       "\n",
       "    .dataframe thead th {\n",
       "        text-align: right;\n",
       "    }\n",
       "</style>\n",
       "<table border=\"1\" class=\"dataframe\">\n",
       "  <thead>\n",
       "    <tr style=\"text-align: right;\">\n",
       "      <th></th>\n",
       "      <th>Revenue</th>\n",
       "      <th>Region</th>\n",
       "      <th>Quantity</th>\n",
       "      <th>OrderMonth</th>\n",
       "    </tr>\n",
       "  </thead>\n",
       "  <tbody>\n",
       "    <tr>\n",
       "      <th>0</th>\n",
       "      <td>168.0</td>\n",
       "      <td>Western Europe</td>\n",
       "      <td>12</td>\n",
       "      <td>07</td>\n",
       "    </tr>\n",
       "    <tr>\n",
       "      <th>1</th>\n",
       "      <td>174.0</td>\n",
       "      <td>Western Europe</td>\n",
       "      <td>5</td>\n",
       "      <td>07</td>\n",
       "    </tr>\n",
       "    <tr>\n",
       "      <th>2</th>\n",
       "      <td>47.5</td>\n",
       "      <td>Western Europe</td>\n",
       "      <td>25</td>\n",
       "      <td>07</td>\n",
       "    </tr>\n",
       "    <tr>\n",
       "      <th>3</th>\n",
       "      <td>1088.0</td>\n",
       "      <td>Western Europe</td>\n",
       "      <td>40</td>\n",
       "      <td>07</td>\n",
       "    </tr>\n",
       "    <tr>\n",
       "      <th>4</th>\n",
       "      <td>200.0</td>\n",
       "      <td>South America</td>\n",
       "      <td>20</td>\n",
       "      <td>07</td>\n",
       "    </tr>\n",
       "  </tbody>\n",
       "</table>\n",
       "</div>"
      ],
      "text/plain": [
       "   Revenue          Region  Quantity OrderMonth\n",
       "0    168.0  Western Europe        12         07\n",
       "1    174.0  Western Europe         5         07\n",
       "2     47.5  Western Europe        25         07\n",
       "3   1088.0  Western Europe        40         07\n",
       "4    200.0   South America        20         07"
      ]
     },
     "execution_count": 173,
     "metadata": {},
     "output_type": "execute_result"
    }
   ],
   "source": [
    "data = pd.read_sql_query('''\n",
    "                            SELECT   \n",
    "                                ((od.Quantity * od.UnitPrice)* (1-od.Discount)) as Revenue , c.Region, od.Quantity,\n",
    "                                SUBSTR(o.OrderDate, 6, 2) OrderMonth \n",
    "                            FROM Product p \n",
    "                            JOIN OrderDetail od ON p.Id =od.ProductId\n",
    "                            JOIN [Order] o ON od.OrderId = o.Id\n",
    "                            JOIN Customer c ON o.CustomerId = c.Id\n",
    "\n",
    "                            WHERE p.CategoryId=4\n",
    "                            \n",
    "                          \n",
    "                                    \n",
    "                        ;''', engine)\n",
    "\n",
    "data.head()"
   ]
  },
  {
   "cell_type": "code",
   "execution_count": 174,
   "metadata": {},
   "outputs": [
    {
     "data": {
      "text/html": [
       "<div>\n",
       "<style scoped>\n",
       "    .dataframe tbody tr th:only-of-type {\n",
       "        vertical-align: middle;\n",
       "    }\n",
       "\n",
       "    .dataframe tbody tr th {\n",
       "        vertical-align: top;\n",
       "    }\n",
       "\n",
       "    .dataframe thead th {\n",
       "        text-align: right;\n",
       "    }\n",
       "</style>\n",
       "<table border=\"1\" class=\"dataframe\">\n",
       "  <thead>\n",
       "    <tr style=\"text-align: right;\">\n",
       "      <th></th>\n",
       "      <th>Revenue</th>\n",
       "      <th>Quantity</th>\n",
       "    </tr>\n",
       "    <tr>\n",
       "      <th>Region</th>\n",
       "      <th></th>\n",
       "      <th></th>\n",
       "    </tr>\n",
       "  </thead>\n",
       "  <tbody>\n",
       "    <tr>\n",
       "      <th>British Isles</th>\n",
       "      <td>23168.560</td>\n",
       "      <td>1066</td>\n",
       "    </tr>\n",
       "    <tr>\n",
       "      <th>Central America</th>\n",
       "      <td>2539.200</td>\n",
       "      <td>124</td>\n",
       "    </tr>\n",
       "    <tr>\n",
       "      <th>Eastern Europe</th>\n",
       "      <td>810.000</td>\n",
       "      <td>45</td>\n",
       "    </tr>\n",
       "    <tr>\n",
       "      <th>North America</th>\n",
       "      <td>47459.220</td>\n",
       "      <td>1940</td>\n",
       "    </tr>\n",
       "    <tr>\n",
       "      <th>Northern Europe</th>\n",
       "      <td>9023.250</td>\n",
       "      <td>304</td>\n",
       "    </tr>\n",
       "    <tr>\n",
       "      <th>Scandinavia</th>\n",
       "      <td>6344.110</td>\n",
       "      <td>257</td>\n",
       "    </tr>\n",
       "    <tr>\n",
       "      <th>South America</th>\n",
       "      <td>29797.105</td>\n",
       "      <td>1033</td>\n",
       "    </tr>\n",
       "    <tr>\n",
       "      <th>Southern Europe</th>\n",
       "      <td>5638.940</td>\n",
       "      <td>202</td>\n",
       "    </tr>\n",
       "    <tr>\n",
       "      <th>Western Europe</th>\n",
       "      <td>102554.900</td>\n",
       "      <td>3785</td>\n",
       "    </tr>\n",
       "  </tbody>\n",
       "</table>\n",
       "</div>"
      ],
      "text/plain": [
       "                    Revenue  Quantity\n",
       "Region                               \n",
       "British Isles     23168.560      1066\n",
       "Central America    2539.200       124\n",
       "Eastern Europe      810.000        45\n",
       "North America     47459.220      1940\n",
       "Northern Europe    9023.250       304\n",
       "Scandinavia        6344.110       257\n",
       "South America     29797.105      1033\n",
       "Southern Europe    5638.940       202\n",
       "Western Europe   102554.900      3785"
      ]
     },
     "execution_count": 174,
     "metadata": {},
     "output_type": "execute_result"
    }
   ],
   "source": [
    "byregion=data.groupby(['Region']).sum()\n",
    "byregion"
   ]
  },
  {
   "cell_type": "code",
   "execution_count": 175,
   "metadata": {},
   "outputs": [
    {
     "data": {
      "text/plain": [
       "Index(['British Isles', 'Central America', 'Eastern Europe', 'North America',\n",
       "       'Northern Europe', 'Scandinavia', 'South America', 'Southern Europe',\n",
       "       'Western Europe'],\n",
       "      dtype='object', name='Region')"
      ]
     },
     "execution_count": 175,
     "metadata": {},
     "output_type": "execute_result"
    }
   ],
   "source": [
    "byregion.index"
   ]
  },
  {
   "cell_type": "code",
   "execution_count": 176,
   "metadata": {},
   "outputs": [
    {
     "data": {
      "text/plain": [
       "Region\n",
       "British Isles       23168.560\n",
       "Central America      2539.200\n",
       "Eastern Europe        810.000\n",
       "North America       47459.220\n",
       "Northern Europe      9023.250\n",
       "Scandinavia          6344.110\n",
       "South America       29797.105\n",
       "Southern Europe      5638.940\n",
       "Western Europe     102554.900\n",
       "Name: Revenue, dtype: float64"
      ]
     },
     "execution_count": 176,
     "metadata": {},
     "output_type": "execute_result"
    }
   ],
   "source": [
    "byregion['Revenue']"
   ]
  },
  {
   "cell_type": "code",
   "execution_count": 177,
   "metadata": {},
   "outputs": [
    {
     "data": {
      "image/png": "[encoded data removed]",
      "text/plain": [
       "<Figure size 576x432 with 1 Axes>"
      ]
     },
     "metadata": {},
     "output_type": "display_data"
    },
    {
     "data": {
      "image/png": "[encoded data removed]",
      "text/plain": [
       "<Figure size 576x432 with 1 Axes>"
      ]
     },
     "metadata": {},
     "output_type": "display_data"
    }
   ],
   "source": [
    "ax1 = byregion.plot.barh( y='Revenue', rot=0)\n",
    "ax2 = byregion.plot.barh( y='Quantity', rot=0)"
   ]
  },
  {
   "cell_type": "code",
   "execution_count": 178,
   "metadata": {},
   "outputs": [
    {
     "data": {
      "text/html": [
       "<div>\n",
       "<style scoped>\n",
       "    .dataframe tbody tr th:only-of-type {\n",
       "        vertical-align: middle;\n",
       "    }\n",
       "\n",
       "    .dataframe tbody tr th {\n",
       "        vertical-align: top;\n",
       "    }\n",
       "\n",
       "    .dataframe thead th {\n",
       "        text-align: right;\n",
       "    }\n",
       "</style>\n",
       "<table border=\"1\" class=\"dataframe\">\n",
       "  <thead>\n",
       "    <tr style=\"text-align: right;\">\n",
       "      <th></th>\n",
       "      <th>Revenue</th>\n",
       "      <th>Quantity</th>\n",
       "    </tr>\n",
       "    <tr>\n",
       "      <th>OrderMonth</th>\n",
       "      <th></th>\n",
       "      <th></th>\n",
       "    </tr>\n",
       "  </thead>\n",
       "  <tbody>\n",
       "    <tr>\n",
       "      <th>01</th>\n",
       "      <td>27370.250</td>\n",
       "      <td>1070</td>\n",
       "    </tr>\n",
       "    <tr>\n",
       "      <th>02</th>\n",
       "      <td>15814.340</td>\n",
       "      <td>629</td>\n",
       "    </tr>\n",
       "    <tr>\n",
       "      <th>03</th>\n",
       "      <td>22610.225</td>\n",
       "      <td>857</td>\n",
       "    </tr>\n",
       "    <tr>\n",
       "      <th>04</th>\n",
       "      <td>40455.500</td>\n",
       "      <td>1236</td>\n",
       "    </tr>\n",
       "    <tr>\n",
       "      <th>05</th>\n",
       "      <td>9266.195</td>\n",
       "      <td>462</td>\n",
       "    </tr>\n",
       "    <tr>\n",
       "      <th>06</th>\n",
       "      <td>8455.800</td>\n",
       "      <td>405</td>\n",
       "    </tr>\n",
       "    <tr>\n",
       "      <th>07</th>\n",
       "      <td>19225.690</td>\n",
       "      <td>678</td>\n",
       "    </tr>\n",
       "    <tr>\n",
       "      <th>08</th>\n",
       "      <td>11378.250</td>\n",
       "      <td>496</td>\n",
       "    </tr>\n",
       "    <tr>\n",
       "      <th>09</th>\n",
       "      <td>14746.800</td>\n",
       "      <td>510</td>\n",
       "    </tr>\n",
       "    <tr>\n",
       "      <th>10</th>\n",
       "      <td>20129.430</td>\n",
       "      <td>789</td>\n",
       "    </tr>\n",
       "    <tr>\n",
       "      <th>11</th>\n",
       "      <td>19388.995</td>\n",
       "      <td>677</td>\n",
       "    </tr>\n",
       "    <tr>\n",
       "      <th>12</th>\n",
       "      <td>18493.810</td>\n",
       "      <td>947</td>\n",
       "    </tr>\n",
       "  </tbody>\n",
       "</table>\n",
       "</div>"
      ],
      "text/plain": [
       "              Revenue  Quantity\n",
       "OrderMonth                     \n",
       "01          27370.250      1070\n",
       "02          15814.340       629\n",
       "03          22610.225       857\n",
       "04          40455.500      1236\n",
       "05           9266.195       462\n",
       "06           8455.800       405\n",
       "07          19225.690       678\n",
       "08          11378.250       496\n",
       "09          14746.800       510\n",
       "10          20129.430       789\n",
       "11          19388.995       677\n",
       "12          18493.810       947"
      ]
     },
     "execution_count": 178,
     "metadata": {},
     "output_type": "execute_result"
    }
   ],
   "source": [
    "bymonth=data.groupby(['OrderMonth']).sum()\n",
    "bymonth"
   ]
  },
  {
   "cell_type": "code",
   "execution_count": 179,
   "metadata": {},
   "outputs": [
    {
     "data": {
      "image/png": "[encoded data removed]",
      "text/plain": [
       "<Figure size 576x432 with 1 Axes>"
      ]
     },
     "metadata": {},
     "output_type": "display_data"
    }
   ],
   "source": [
    "ax2 = bymonth.plot.bar( y='Quantity', rot=0 )"
   ]
  },
  {
   "cell_type": "markdown",
   "metadata": {},
   "source": [
    "### 4.3 Hypothesis\n",
    " \n",
    "Main effect of factor A (\"Order Region\"):\n",
    "\n",
    "$H_0$: The average revenue for dairy products are equal for all regions.\n",
    "$H_1$: The average revenue for dairy products are different at least for one region.\n",
    "\n",
    "Main effect of factor B (\"Order Month\"):\n",
    "\n",
    "$H_0$: The average revenue for dairy products are equal for all months of a year.\n",
    "$H_1$: The average revenue for dairy products are different at least for one month of the year.\n",
    "\n",
    "Factor A x factor B interactions:\n",
    "\n",
    "$H_0$: There is no interaction between \"Order Region\" and \"Order Month\".\n",
    "$H_1$: There is an interaction between \"Order Region\" and \"Order Month\".\n",
    "\n",
    "##### I set my significance level (Alpha): 0.05\n",
    "\n",
    " **$\\alpha$ = 0.05**"
   ]
  },
  {
   "cell_type": "markdown",
   "metadata": {},
   "source": [
    "### 4.4 Statistical Analysis\n",
    "\n",
    "The two-way ANOVA examines the effect of two factors (month and region) on a dependent variable – in this case revenue, and also examines whether the two factors affect each other to influence the continuous variable. "
   ]
  },
  {
   "cell_type": "markdown",
   "metadata": {},
   "source": [
    "#### ANOVA Assumptions\n",
    "\n",
    "* Each group sample is drawn from a normally distributed population\n",
    "* All populations have a common variance\n",
    "* All samples are drawn independently of each other\n",
    "* Within each sample, the observations are sampled randomly and independently of each other\n",
    "* Factor effects are additive\n",
    "* Dependent variable should be continuous \n",
    "* Independent variables should be in categorical, independent groups\n",
    "\n",
    "The presence of outliers can also cause problems. In addition, we need to make sure that the F statistic is well behaved. In particular, the F statistic is relatively robust to violations of normality provided:\n",
    "\n",
    "* The populations are symmetrical and uni-modal.\n",
    "* The sample sizes for the groups are equal and greater than 10\n",
    "\n",
    "In general, as long as the sample sizes are equal (called a balanced model) and sufficiently large, the normality assumption can be violated provided the samples are symmetrical or at least similar in shape (e.g. all are negatively skewed).\n",
    "\n"
   ]
  },
  {
   "cell_type": "markdown",
   "metadata": {},
   "source": [
    "#### Normality Check"
   ]
  },
  {
   "cell_type": "code",
   "execution_count": 180,
   "metadata": {},
   "outputs": [
    {
     "name": "stderr",
     "output_type": "stream",
     "text": [
      "/Users/kaan/anaconda3/lib/python3.7/site-packages/scipy/stats/stats.py:1713: FutureWarning: Using a non-tuple sequence for multidimensional indexing is deprecated; use `arr[tuple(seq)]` instead of `arr[seq]`. In the future this will be interpreted as an array index, `arr[np.array(seq)]`, which will result either in an error or a different result.\n",
      "  return np.add.reduce(sorted[indexer] * weights, axis=axis) / sumval\n"
     ]
    },
    {
     "data": {
      "text/plain": [
       "<matplotlib.axes._subplots.AxesSubplot at 0x1c25187b70>"
      ]
     },
     "execution_count": 180,
     "metadata": {},
     "output_type": "execute_result"
    },
    {
     "data": {
      "image/png": "[encoded data removed]",
      "text/plain": [
       "<Figure size 576x432 with 1 Axes>"
      ]
     },
     "metadata": {},
     "output_type": "display_data"
    }
   ],
   "source": [
    "\n",
    "sns.distplot(data.Revenue)"
   ]
  },
  {
   "cell_type": "code",
   "execution_count": 181,
   "metadata": {},
   "outputs": [
    {
     "data": {
      "text/plain": [
       "<matplotlib.axes._subplots.AxesSubplot at 0x1c271ec160>"
      ]
     },
     "execution_count": 181,
     "metadata": {},
     "output_type": "execute_result"
    },
    {
     "data": {
      "image/png": "[encoded data removed]",
      "text/plain": [
       "<Figure size 576x432 with 1 Axes>"
      ]
     },
     "metadata": {},
     "output_type": "display_data"
    }
   ],
   "source": [
    "sns.boxplot(data.Revenue)"
   ]
  },
  {
   "cell_type": "code",
   "execution_count": 182,
   "metadata": {},
   "outputs": [],
   "source": [
    "data=data[data.Revenue<4000]\n",
    "\n",
    "#I removed some of the outliers in the tail. To make sure it does not harm to test accuaracy. "
   ]
  },
  {
   "cell_type": "code",
   "execution_count": 183,
   "metadata": {},
   "outputs": [
    {
     "name": "stderr",
     "output_type": "stream",
     "text": [
      "/Users/kaan/anaconda3/lib/python3.7/site-packages/scipy/stats/stats.py:1713: FutureWarning: Using a non-tuple sequence for multidimensional indexing is deprecated; use `arr[tuple(seq)]` instead of `arr[seq]`. In the future this will be interpreted as an array index, `arr[np.array(seq)]`, which will result either in an error or a different result.\n",
      "  return np.add.reduce(sorted[indexer] * weights, axis=axis) / sumval\n"
     ]
    },
    {
     "data": {
      "text/plain": [
       "<matplotlib.axes._subplots.AxesSubplot at 0x1c2726a278>"
      ]
     },
     "execution_count": 183,
     "metadata": {},
     "output_type": "execute_result"
    },
    {
     "data": {
      "image/png": "[encoded data removed]",
      "text/plain": [
       "<Figure size 576x432 with 1 Axes>"
      ]
     },
     "metadata": {},
     "output_type": "display_data"
    }
   ],
   "source": [
    "sns.distplot(data.Revenue)"
   ]
  },
  {
   "cell_type": "code",
   "execution_count": 184,
   "metadata": {},
   "outputs": [
    {
     "data": {
      "text/plain": [
       "<matplotlib.axes._subplots.AxesSubplot at 0x1c256a9630>"
      ]
     },
     "execution_count": 184,
     "metadata": {},
     "output_type": "execute_result"
    },
    {
     "data": {
      "image/png": "[encoded data removed]",
      "text/plain": [
       "<Figure size 576x432 with 1 Axes>"
      ]
     },
     "metadata": {},
     "output_type": "display_data"
    }
   ],
   "source": [
    "sns.boxplot(data.Revenue)"
   ]
  },
  {
   "cell_type": "code",
   "execution_count": 185,
   "metadata": {
    "scrolled": true
   },
   "outputs": [
    {
     "data": {
      "text/plain": [
       "KstestResult(statistic=0.9999893114742251, pvalue=0.0)"
      ]
     },
     "execution_count": 185,
     "metadata": {},
     "output_type": "execute_result"
    }
   ],
   "source": [
    "#KS-Test for checking normality\n",
    "stats.kstest(data.Revenue, 'norm', args=(0,2))"
   ]
  },
  {
   "cell_type": "markdown",
   "metadata": {},
   "source": [
    "p_value is 0, so we can not say that the distribution is normal however when the sample size is sufficiently large, Anova can still perform well. \n",
    "\n"
   ]
  },
  {
   "cell_type": "code",
   "execution_count": 186,
   "metadata": {
    "scrolled": true
   },
   "outputs": [
    {
     "data": {
      "text/plain": [
       "array(['Western Europe', 'South America', 'Scandinavia', 'North America',\n",
       "       'Southern Europe', 'Northern Europe', 'British Isles',\n",
       "       'Central America', 'Eastern Europe'], dtype=object)"
      ]
     },
     "execution_count": 186,
     "metadata": {},
     "output_type": "execute_result"
    }
   ],
   "source": [
    "data.Region.unique()"
   ]
  },
  {
   "cell_type": "markdown",
   "metadata": {},
   "source": [
    "#### Equal Variances Check"
   ]
  },
  {
   "cell_type": "code",
   "execution_count": 187,
   "metadata": {},
   "outputs": [
    {
     "data": {
      "text/plain": [
       "LeveneResult(statistic=1.7172829986494036, pvalue=0.0932244407555185)"
      ]
     },
     "execution_count": 187,
     "metadata": {},
     "output_type": "execute_result"
    }
   ],
   "source": [
    "\n",
    "stats.levene(data['Revenue'][data['Region'] == \"Western Europe\"],\n",
    "             data['Revenue'][data['Region'] == \"South America\"],\n",
    "             data['Revenue'][data['Region'] == \"Scandinavia\"],\n",
    "             data['Revenue'][data['Region'] == \"North America\"],\n",
    "             data['Revenue'][data['Region'] == \"Southern Europe\"],\n",
    "             data['Revenue'][data['Region'] == \"Northern Europe\"],\n",
    "             data['Revenue'][data['Region'] == \"British Isles\"],\n",
    "             data['Revenue'][data['Region'] == \"Central America\"],\n",
    "             data['Revenue'][data['Region'] == \"Eastern Europe\"]\n",
    "            )"
   ]
  },
  {
   "cell_type": "code",
   "execution_count": 188,
   "metadata": {},
   "outputs": [
    {
     "data": {
      "text/plain": [
       "LeveneResult(statistic=1.6804048575969928, pvalue=0.07632782503794072)"
      ]
     },
     "execution_count": 188,
     "metadata": {},
     "output_type": "execute_result"
    }
   ],
   "source": [
    "stats.levene(data['Revenue'][data['OrderMonth'] == \"01\"],\n",
    "             data['Revenue'][data['OrderMonth'] == \"02\"],\n",
    "             data['Revenue'][data['OrderMonth'] == \"03\"],\n",
    "             data['Revenue'][data['OrderMonth'] == \"04\"],\n",
    "             data['Revenue'][data['OrderMonth'] == \"05\"],\n",
    "             data['Revenue'][data['OrderMonth'] == \"06\"],\n",
    "             data['Revenue'][data['OrderMonth'] == \"07\"],\n",
    "             data['Revenue'][data['OrderMonth'] == \"08\"],\n",
    "             data['Revenue'][data['OrderMonth'] == \"09\"],\n",
    "             data['Revenue'][data['OrderMonth'] == \"10\"],\n",
    "             data['Revenue'][data['OrderMonth'] == \"11\"],\n",
    "             data['Revenue'][data['OrderMonth'] == \"12\"]\n",
    "            )\n"
   ]
  },
  {
   "cell_type": "markdown",
   "metadata": {},
   "source": [
    "#### Performing two-way ANOVA Test"
   ]
  },
  {
   "cell_type": "code",
   "execution_count": 189,
   "metadata": {
    "scrolled": false
   },
   "outputs": [
    {
     "name": "stdout",
     "output_type": "stream",
     "text": [
      "                               sum_sq     df         F    PR(>F)\n",
      "C(Region)                3.899516e+06    8.0  1.223844  0.289722\n",
      "C(OrderMonth)            3.794354e+05   11.0  0.086607  0.999906\n",
      "C(Region):C(OrderMonth)  1.961990e+07   88.0  0.559783  0.997149\n",
      "Residual                 1.059440e+08  266.0       NaN       NaN\n"
     ]
    },
    {
     "name": "stderr",
     "output_type": "stream",
     "text": [
      "/Users/kaan/anaconda3/lib/python3.7/site-packages/statsmodels/base/model.py:1532: ValueWarning: covariance of constraints does not have full rank. The number of constraints is 8, but rank is 7\n",
      "  'rank is %d' % (J, J_), ValueWarning)\n",
      "/Users/kaan/anaconda3/lib/python3.7/site-packages/statsmodels/base/model.py:1532: ValueWarning: covariance of constraints does not have full rank. The number of constraints is 11, but rank is 10\n",
      "  'rank is %d' % (J, J_), ValueWarning)\n",
      "/Users/kaan/anaconda3/lib/python3.7/site-packages/statsmodels/base/model.py:1532: ValueWarning: covariance of constraints does not have full rank. The number of constraints is 88, but rank is 66\n",
      "  'rank is %d' % (J, J_), ValueWarning)\n"
     ]
    }
   ],
   "source": [
    "formula = 'Revenue ~ C(Region)*C(OrderMonth)'\n",
    "lm2 = ols(formula, data).fit()\n",
    "table = sm.stats.anova_lm(lm2, typ=2)\n",
    "print(table)\n"
   ]
  },
  {
   "cell_type": "code",
   "execution_count": 190,
   "metadata": {
    "scrolled": false
   },
   "outputs": [
    {
     "name": "stderr",
     "output_type": "stream",
     "text": [
      "/Users/kaan/anaconda3/lib/python3.7/site-packages/statsmodels/base/model.py:1100: RuntimeWarning: invalid value encountered in true_divide\n",
      "  return self.params / self.bse\n",
      "/Users/kaan/anaconda3/lib/python3.7/site-packages/scipy/stats/_distn_infrastructure.py:879: RuntimeWarning: invalid value encountered in greater\n",
      "  return (self.a < x) & (x < self.b)\n",
      "/Users/kaan/anaconda3/lib/python3.7/site-packages/scipy/stats/_distn_infrastructure.py:879: RuntimeWarning: invalid value encountered in less\n",
      "  return (self.a < x) & (x < self.b)\n",
      "/Users/kaan/anaconda3/lib/python3.7/site-packages/scipy/stats/_distn_infrastructure.py:1821: RuntimeWarning: invalid value encountered in less_equal\n",
      "  cond2 = cond0 & (x <= self.a)\n"
     ]
    },
    {
     "data": {
      "text/html": [
       "<table class=\"simpletable\">\n",
       "<caption>OLS Regression Results</caption>\n",
       "<tr>\n",
       "  <th>Dep. Variable:</th>         <td>Revenue</td>     <th>  R-squared:         </th> <td>   0.186</td>\n",
       "</tr>\n",
       "<tr>\n",
       "  <th>Model:</th>                   <td>OLS</td>       <th>  Adj. R-squared:    </th> <td>  -0.061</td>\n",
       "</tr>\n",
       "<tr>\n",
       "  <th>Method:</th>             <td>Least Squares</td>  <th>  F-statistic:       </th> <td>  0.7520</td>\n",
       "</tr>\n",
       "<tr>\n",
       "  <th>Date:</th>             <td>Mon, 23 Sep 2019</td> <th>  Prob (F-statistic):</th>  <td> 0.935</td> \n",
       "</tr>\n",
       "<tr>\n",
       "  <th>Time:</th>                 <td>08:18:39</td>     <th>  Log-Likelihood:    </th> <td> -2690.8</td>\n",
       "</tr>\n",
       "<tr>\n",
       "  <th>No. Observations:</th>      <td>   348</td>      <th>  AIC:               </th> <td>   5546.</td>\n",
       "</tr>\n",
       "<tr>\n",
       "  <th>Df Residuals:</th>          <td>   266</td>      <th>  BIC:               </th> <td>   5861.</td>\n",
       "</tr>\n",
       "<tr>\n",
       "  <th>Df Model:</th>              <td>    81</td>      <th>                     </th>     <td> </td>   \n",
       "</tr>\n",
       "<tr>\n",
       "  <th>Covariance Type:</th>      <td>nonrobust</td>    <th>                     </th>     <td> </td>   \n",
       "</tr>\n",
       "</table>\n",
       "<table class=\"simpletable\">\n",
       "<tr>\n",
       "                          <td></td>                            <th>coef</th>     <th>std err</th>      <th>t</th>      <th>P>|t|</th>  <th>[0.025</th>    <th>0.975]</th>  \n",
       "</tr>\n",
       "<tr>\n",
       "  <th>Intercept</th>                                        <td>  714.0000</td> <td>  631.099</td> <td>    1.131</td> <td> 0.259</td> <td> -528.584</td> <td> 1956.584</td>\n",
       "</tr>\n",
       "<tr>\n",
       "  <th>C(Region)[T.Central America]</th>                     <td> -399.0000</td> <td>  892.508</td> <td>   -0.447</td> <td> 0.655</td> <td>-2156.280</td> <td> 1358.280</td>\n",
       "</tr>\n",
       "<tr>\n",
       "  <th>C(Region)[T.Eastern Europe]</th>                      <td> -112.1048</td> <td>  341.677</td> <td>   -0.328</td> <td> 0.743</td> <td> -784.841</td> <td>  560.631</td>\n",
       "</tr>\n",
       "<tr>\n",
       "  <th>C(Region)[T.North America]</th>                       <td> -247.6700</td> <td>  661.902</td> <td>   -0.374</td> <td> 0.709</td> <td>-1550.903</td> <td> 1055.563</td>\n",
       "</tr>\n",
       "<tr>\n",
       "  <th>C(Region)[T.Northern Europe]</th>                     <td>  -27.8619</td> <td>  199.483</td> <td>   -0.140</td> <td> 0.889</td> <td> -420.628</td> <td>  364.904</td>\n",
       "</tr>\n",
       "<tr>\n",
       "  <th>C(Region)[T.Scandinavia]</th>                         <td>  -67.8416</td> <td>  201.954</td> <td>   -0.336</td> <td> 0.737</td> <td> -465.473</td> <td>  329.790</td>\n",
       "</tr>\n",
       "<tr>\n",
       "  <th>C(Region)[T.South America]</th>                       <td>  181.2875</td> <td>  669.381</td> <td>    0.271</td> <td> 0.787</td> <td>-1136.672</td> <td> 1499.247</td>\n",
       "</tr>\n",
       "<tr>\n",
       "  <th>C(Region)[T.Southern Europe]</th>                     <td>  -23.0667</td> <td>  728.730</td> <td>   -0.032</td> <td> 0.975</td> <td>-1457.879</td> <td> 1411.746</td>\n",
       "</tr>\n",
       "<tr>\n",
       "  <th>C(Region)[T.Western Europe]</th>                      <td>  243.1423</td> <td>  654.922</td> <td>    0.371</td> <td> 0.711</td> <td>-1046.348</td> <td> 1532.633</td>\n",
       "</tr>\n",
       "<tr>\n",
       "  <th>C(OrderMonth)[T.02]</th>                              <td> -341.3333</td> <td>  728.730</td> <td>   -0.468</td> <td> 0.640</td> <td>-1776.146</td> <td> 1093.479</td>\n",
       "</tr>\n",
       "<tr>\n",
       "  <th>C(OrderMonth)[T.03]</th>                              <td> -255.9750</td> <td>  681.665</td> <td>   -0.376</td> <td> 0.708</td> <td>-1598.119</td> <td> 1086.169</td>\n",
       "</tr>\n",
       "<tr>\n",
       "  <th>C(OrderMonth)[T.04]</th>                              <td>  -62.5000</td> <td>  691.334</td> <td>   -0.090</td> <td> 0.928</td> <td>-1423.683</td> <td> 1298.683</td>\n",
       "</tr>\n",
       "<tr>\n",
       "  <th>C(OrderMonth)[T.05]</th>                              <td> -472.3000</td> <td>  728.730</td> <td>   -0.648</td> <td> 0.517</td> <td>-1907.113</td> <td>  962.513</td>\n",
       "</tr>\n",
       "<tr>\n",
       "  <th>C(OrderMonth)[T.06]</th>                              <td>  466.0000</td> <td>  772.935</td> <td>    0.603</td> <td> 0.547</td> <td>-1055.849</td> <td> 1987.849</td>\n",
       "</tr>\n",
       "<tr>\n",
       "  <th>C(OrderMonth)[T.07]</th>                              <td>  -70.6685</td> <td>  246.306</td> <td>   -0.287</td> <td> 0.774</td> <td> -555.625</td> <td>  414.288</td>\n",
       "</tr>\n",
       "<tr>\n",
       "  <th>C(OrderMonth)[T.08]</th>                              <td> -310.8750</td> <td>  772.935</td> <td>   -0.402</td> <td> 0.688</td> <td>-1832.724</td> <td> 1210.974</td>\n",
       "</tr>\n",
       "<tr>\n",
       "  <th>C(OrderMonth)[T.09]</th>                              <td> -193.2000</td> <td>  772.935</td> <td>   -0.250</td> <td> 0.803</td> <td>-1715.049</td> <td> 1328.649</td>\n",
       "</tr>\n",
       "<tr>\n",
       "  <th>C(OrderMonth)[T.10]</th>                              <td>  -51.0300</td> <td>  705.590</td> <td>   -0.072</td> <td> 0.942</td> <td>-1440.282</td> <td> 1338.222</td>\n",
       "</tr>\n",
       "<tr>\n",
       "  <th>C(OrderMonth)[T.11]</th>                              <td> -110.4000</td> <td>  674.673</td> <td>   -0.164</td> <td> 0.870</td> <td>-1438.779</td> <td> 1217.979</td>\n",
       "</tr>\n",
       "<tr>\n",
       "  <th>C(OrderMonth)[T.12]</th>                              <td> -211.0171</td> <td>  674.673</td> <td>   -0.313</td> <td> 0.755</td> <td>-1539.396</td> <td> 1117.361</td>\n",
       "</tr>\n",
       "<tr>\n",
       "  <th>C(Region)[T.Central America]:C(OrderMonth)[T.02]</th> <td>  101.3333</td> <td> 1152.223</td> <td>    0.088</td> <td> 0.930</td> <td>-2167.305</td> <td> 2369.972</td>\n",
       "</tr>\n",
       "<tr>\n",
       "  <th>C(Region)[T.Eastern Europe]:C(OrderMonth)[T.02]</th>  <td> -1.62e-13</td> <td> 1.54e-11</td> <td>   -0.011</td> <td> 0.992</td> <td>-3.05e-11</td> <td> 3.01e-11</td>\n",
       "</tr>\n",
       "<tr>\n",
       "  <th>C(Region)[T.North America]:C(OrderMonth)[T.02]</th>   <td>  877.0033</td> <td>  838.831</td> <td>    1.046</td> <td> 0.297</td> <td> -774.590</td> <td> 2528.597</td>\n",
       "</tr>\n",
       "<tr>\n",
       "  <th>C(Region)[T.Northern Europe]:C(OrderMonth)[T.02]</th> <td> -244.0048</td> <td>  672.927</td> <td>   -0.363</td> <td> 0.717</td> <td>-1568.945</td> <td> 1080.936</td>\n",
       "</tr>\n",
       "<tr>\n",
       "  <th>C(Region)[T.Scandinavia]:C(OrderMonth)[T.02]</th>     <td>  211.1749</td> <td>  671.909</td> <td>    0.314</td> <td> 0.754</td> <td>-1111.762</td> <td> 1534.112</td>\n",
       "</tr>\n",
       "<tr>\n",
       "  <th>C(Region)[T.South America]:C(OrderMonth)[T.02]</th>   <td> -226.7292</td> <td>  824.866</td> <td>   -0.275</td> <td> 0.784</td> <td>-1850.827</td> <td> 1397.369</td>\n",
       "</tr>\n",
       "<tr>\n",
       "  <th>C(Region)[T.Southern Europe]:C(OrderMonth)[T.02]</th> <td> -268.9600</td> <td> 1030.580</td> <td>   -0.261</td> <td> 0.794</td> <td>-2298.092</td> <td> 1760.172</td>\n",
       "</tr>\n",
       "<tr>\n",
       "  <th>C(Region)[T.Western Europe]:C(OrderMonth)[T.02]</th>  <td>  585.3160</td> <td>  781.966</td> <td>    0.749</td> <td> 0.455</td> <td> -954.314</td> <td> 2124.946</td>\n",
       "</tr>\n",
       "<tr>\n",
       "  <th>C(Region)[T.Central America]:C(OrderMonth)[T.03]</th> <td>  135.9750</td> <td> 1030.580</td> <td>    0.132</td> <td> 0.895</td> <td>-1893.157</td> <td> 2165.107</td>\n",
       "</tr>\n",
       "<tr>\n",
       "  <th>C(Region)[T.Eastern Europe]:C(OrderMonth)[T.03]</th>  <td> 4.568e-13</td> <td> 2.23e-12</td> <td>    0.205</td> <td> 0.838</td> <td>-3.93e-12</td> <td> 4.84e-12</td>\n",
       "</tr>\n",
       "<tr>\n",
       "  <th>C(Region)[T.North America]:C(OrderMonth)[T.03]</th>   <td>  891.3950</td> <td>  764.298</td> <td>    1.166</td> <td> 0.245</td> <td> -613.449</td> <td> 2396.239</td>\n",
       "</tr>\n",
       "<tr>\n",
       "  <th>C(Region)[T.Northern Europe]:C(OrderMonth)[T.03]</th> <td> 2.817e-13</td> <td> 1.26e-12</td> <td>    0.223</td> <td> 0.824</td> <td>-2.21e-12</td> <td> 2.77e-12</td>\n",
       "</tr>\n",
       "<tr>\n",
       "  <th>C(Region)[T.Scandinavia]:C(OrderMonth)[T.03]</th>     <td>  1.17e-12</td> <td> 3.38e-12</td> <td>    0.347</td> <td> 0.729</td> <td>-5.48e-12</td> <td> 7.82e-12</td>\n",
       "</tr>\n",
       "<tr>\n",
       "  <th>C(Region)[T.South America]:C(OrderMonth)[T.03]</th>   <td>  111.2911</td> <td>  755.877</td> <td>    0.147</td> <td> 0.883</td> <td>-1376.972</td> <td> 1599.554</td>\n",
       "</tr>\n",
       "<tr>\n",
       "  <th>C(Region)[T.Southern Europe]:C(OrderMonth)[T.03]</th> <td> -121.0250</td> <td>  854.512</td> <td>   -0.142</td> <td> 0.887</td> <td>-1803.492</td> <td> 1561.442</td>\n",
       "</tr>\n",
       "<tr>\n",
       "  <th>C(Region)[T.Western Europe]:C(OrderMonth)[T.03]</th>  <td> -183.3473</td> <td>  722.396</td> <td>   -0.254</td> <td> 0.800</td> <td>-1605.689</td> <td> 1238.995</td>\n",
       "</tr>\n",
       "<tr>\n",
       "  <th>C(Region)[T.Central America]:C(OrderMonth)[T.04]</th> <td> -116.5000</td> <td> 1128.944</td> <td>   -0.103</td> <td> 0.918</td> <td>-2339.302</td> <td> 2106.302</td>\n",
       "</tr>\n",
       "<tr>\n",
       "  <th>C(Region)[T.Eastern Europe]:C(OrderMonth)[T.04]</th>  <td>-4.435e-13</td> <td> 1.22e-12</td> <td>   -0.363</td> <td> 0.717</td> <td>-2.85e-12</td> <td> 1.96e-12</td>\n",
       "</tr>\n",
       "<tr>\n",
       "  <th>C(Region)[T.North America]:C(OrderMonth)[T.04]</th>   <td>  158.0200</td> <td>  764.298</td> <td>    0.207</td> <td> 0.836</td> <td>-1346.824</td> <td> 1662.864</td>\n",
       "</tr>\n",
       "<tr>\n",
       "  <th>C(Region)[T.Northern Europe]:C(OrderMonth)[T.04]</th> <td>  316.8619</td> <td>  641.503</td> <td>    0.494</td> <td> 0.622</td> <td> -946.209</td> <td> 1579.932</td>\n",
       "</tr>\n",
       "<tr>\n",
       "  <th>C(Region)[T.Scandinavia]:C(OrderMonth)[T.04]</th>     <td>  -33.6584</td> <td>  640.620</td> <td>   -0.053</td> <td> 0.958</td> <td>-1294.990</td> <td> 1227.673</td>\n",
       "</tr>\n",
       "<tr>\n",
       "  <th>C(Region)[T.South America]:C(OrderMonth)[T.04]</th>   <td> -182.3018</td> <td>  764.609</td> <td>   -0.238</td> <td> 0.812</td> <td>-1687.757</td> <td> 1323.153</td>\n",
       "</tr>\n",
       "<tr>\n",
       "  <th>C(Region)[T.Southern Europe]:C(OrderMonth)[T.04]</th> <td> -407.4333</td> <td>  899.915</td> <td>   -0.453</td> <td> 0.651</td> <td>-2179.296</td> <td> 1364.430</td>\n",
       "</tr>\n",
       "<tr>\n",
       "  <th>C(Region)[T.Western Europe]:C(OrderMonth)[T.04]</th>  <td>  -43.1423</td> <td>  726.976</td> <td>   -0.059</td> <td> 0.953</td> <td>-1474.502</td> <td> 1388.217</td>\n",
       "</tr>\n",
       "<tr>\n",
       "  <th>C(Region)[T.Central America]:C(OrderMonth)[T.05]</th> <td>  367.3000</td> <td> 1152.223</td> <td>    0.319</td> <td> 0.750</td> <td>-1901.338</td> <td> 2635.938</td>\n",
       "</tr>\n",
       "<tr>\n",
       "  <th>C(Region)[T.Eastern Europe]:C(OrderMonth)[T.05]</th>  <td> 5.384e-13</td> <td> 7.76e-13</td> <td>    0.694</td> <td> 0.488</td> <td>-9.89e-13</td> <td> 2.07e-12</td>\n",
       "</tr>\n",
       "<tr>\n",
       "  <th>C(Region)[T.North America]:C(OrderMonth)[T.05]</th>   <td>  116.0157</td> <td>  792.322</td> <td>    0.146</td> <td> 0.884</td> <td>-1444.005</td> <td> 1676.036</td>\n",
       "</tr>\n",
       "<tr>\n",
       "  <th>C(Region)[T.Northern Europe]:C(OrderMonth)[T.05]</th> <td>  621.3619</td> <td>  672.927</td> <td>    0.923</td> <td> 0.357</td> <td> -703.579</td> <td> 1946.302</td>\n",
       "</tr>\n",
       "<tr>\n",
       "  <th>C(Region)[T.Scandinavia]:C(OrderMonth)[T.05]</th>     <td>  171.1416</td> <td>  545.397</td> <td>    0.314</td> <td> 0.754</td> <td> -902.704</td> <td> 1244.987</td>\n",
       "</tr>\n",
       "<tr>\n",
       "  <th>C(Region)[T.South America]:C(OrderMonth)[T.05]</th>   <td>  174.0625</td> <td>  844.746</td> <td>    0.206</td> <td> 0.837</td> <td>-1489.176</td> <td> 1837.301</td>\n",
       "</tr>\n",
       "<tr>\n",
       "  <th>C(Region)[T.Southern Europe]:C(OrderMonth)[T.05]</th> <td>-1.156e-12</td> <td> 8.77e-13</td> <td>   -1.319</td> <td> 0.188</td> <td>-2.88e-12</td> <td> 5.69e-13</td>\n",
       "</tr>\n",
       "<tr>\n",
       "  <th>C(Region)[T.Western Europe]:C(OrderMonth)[T.05]</th>  <td>  -60.3998</td> <td>  775.573</td> <td>   -0.078</td> <td> 0.938</td> <td>-1587.443</td> <td> 1466.643</td>\n",
       "</tr>\n",
       "<tr>\n",
       "  <th>C(Region)[T.Central America]:C(OrderMonth)[T.06]</th> <td> -531.0000</td> <td> 1180.678</td> <td>   -0.450</td> <td> 0.653</td> <td>-2855.662</td> <td> 1793.662</td>\n",
       "</tr>\n",
       "<tr>\n",
       "  <th>C(Region)[T.Eastern Europe]:C(OrderMonth)[T.06]</th>  <td> -1.12e-12</td> <td> 9.42e-13</td> <td>   -1.189</td> <td> 0.235</td> <td>-2.97e-12</td> <td> 7.34e-13</td>\n",
       "</tr>\n",
       "<tr>\n",
       "  <th>C(Region)[T.North America]:C(OrderMonth)[T.06]</th>   <td> -743.4550</td> <td>  858.387</td> <td>   -0.866</td> <td> 0.387</td> <td>-2433.552</td> <td>  946.642</td>\n",
       "</tr>\n",
       "<tr>\n",
       "  <th>C(Region)[T.Northern Europe]:C(OrderMonth)[T.06]</th> <td> -590.5381</td> <td>  591.245</td> <td>   -0.999</td> <td> 0.319</td> <td>-1754.654</td> <td>  573.578</td>\n",
       "</tr>\n",
       "<tr>\n",
       "  <th>C(Region)[T.Scandinavia]:C(OrderMonth)[T.06]</th>     <td> -612.3584</td> <td>  590.587</td> <td>   -1.037</td> <td> 0.301</td> <td>-1775.178</td> <td>  550.461</td>\n",
       "</tr>\n",
       "<tr>\n",
       "  <th>C(Region)[T.South America]:C(OrderMonth)[T.06]</th>   <td> 5.541e-13</td> <td> 5.48e-13</td> <td>    1.011</td> <td> 0.313</td> <td>-5.25e-13</td> <td> 1.63e-12</td>\n",
       "</tr>\n",
       "<tr>\n",
       "  <th>C(Region)[T.Southern Europe]:C(OrderMonth)[T.06]</th> <td>-1111.9333</td> <td> 1062.297</td> <td>   -1.047</td> <td> 0.296</td> <td>-3203.514</td> <td>  979.648</td>\n",
       "</tr>\n",
       "<tr>\n",
       "  <th>C(Region)[T.Western Europe]:C(OrderMonth)[T.06]</th>  <td> -692.5173</td> <td>  853.016</td> <td>   -0.812</td> <td> 0.418</td> <td>-2372.041</td> <td>  987.006</td>\n",
       "</tr>\n",
       "<tr>\n",
       "  <th>C(Region)[T.Central America]:C(OrderMonth)[T.07]</th> <td> 2.675e-13</td> <td>  5.9e-13</td> <td>    0.454</td> <td> 0.650</td> <td>-8.93e-13</td> <td> 1.43e-12</td>\n",
       "</tr>\n",
       "<tr>\n",
       "  <th>C(Region)[T.Eastern Europe]:C(OrderMonth)[T.07]</th>  <td>  -21.2267</td> <td>  526.606</td> <td>   -0.040</td> <td> 0.968</td> <td>-1058.073</td> <td> 1015.620</td>\n",
       "</tr>\n",
       "<tr>\n",
       "  <th>C(Region)[T.North America]:C(OrderMonth)[T.07]</th>   <td>  328.8430</td> <td>  330.651</td> <td>    0.995</td> <td> 0.321</td> <td> -322.182</td> <td>  979.868</td>\n",
       "</tr>\n",
       "<tr>\n",
       "  <th>C(Region)[T.Northern Europe]:C(OrderMonth)[T.07]</th> <td> 6.312e-14</td> <td> 3.33e-13</td> <td>    0.189</td> <td> 0.850</td> <td>-5.93e-13</td> <td>  7.2e-13</td>\n",
       "</tr>\n",
       "<tr>\n",
       "  <th>C(Region)[T.Scandinavia]:C(OrderMonth)[T.07]</th>     <td> -228.9299</td> <td>  649.800</td> <td>   -0.352</td> <td> 0.725</td> <td>-1508.335</td> <td> 1050.475</td>\n",
       "</tr>\n",
       "<tr>\n",
       "  <th>C(Region)[T.South America]:C(OrderMonth)[T.07]</th>   <td>  -79.2190</td> <td>  421.304</td> <td>   -0.188</td> <td> 0.851</td> <td> -908.734</td> <td>  750.296</td>\n",
       "</tr>\n",
       "<tr>\n",
       "  <th>C(Region)[T.Southern Europe]:C(OrderMonth)[T.07]</th> <td> 1.241e-13</td> <td>  6.8e-13</td> <td>    0.183</td> <td> 0.855</td> <td>-1.21e-12</td> <td> 1.46e-12</td>\n",
       "</tr>\n",
       "<tr>\n",
       "  <th>C(Region)[T.Western Europe]:C(OrderMonth)[T.07]</th>  <td>  -70.1358</td> <td>  325.215</td> <td>   -0.216</td> <td> 0.829</td> <td> -710.459</td> <td>  570.187</td>\n",
       "</tr>\n",
       "<tr>\n",
       "  <th>C(Region)[T.Central America]:C(OrderMonth)[T.08]</th> <td>  335.8750</td> <td> 1180.678</td> <td>    0.284</td> <td> 0.776</td> <td>-1988.787</td> <td> 2660.537</td>\n",
       "</tr>\n",
       "<tr>\n",
       "  <th>C(Region)[T.Eastern Europe]:C(OrderMonth)[T.08]</th>  <td> 1.381e-13</td> <td> 2.95e-13</td> <td>    0.468</td> <td> 0.640</td> <td>-4.43e-13</td> <td> 7.19e-13</td>\n",
       "</tr>\n",
       "<tr>\n",
       "  <th>C(Region)[T.North America]:C(OrderMonth)[T.08]</th>   <td>  266.1450</td> <td>  858.387</td> <td>    0.310</td> <td> 0.757</td> <td>-1423.952</td> <td> 1956.242</td>\n",
       "</tr>\n",
       "<tr>\n",
       "  <th>C(Region)[T.Northern Europe]:C(OrderMonth)[T.08]</th> <td>  214.7369</td> <td>  545.840</td> <td>    0.393</td> <td> 0.694</td> <td> -859.980</td> <td> 1289.454</td>\n",
       "</tr>\n",
       "<tr>\n",
       "  <th>C(Region)[T.Scandinavia]:C(OrderMonth)[T.08]</th>     <td>-2.233e-13</td> <td> 3.05e-13</td> <td>   -0.732</td> <td> 0.465</td> <td>-8.24e-13</td> <td> 3.77e-13</td>\n",
       "</tr>\n",
       "<tr>\n",
       "  <th>C(Region)[T.South America]:C(OrderMonth)[T.08]</th>   <td>  456.7208</td> <td>  883.162</td> <td>    0.517</td> <td> 0.605</td> <td>-1282.157</td> <td> 2195.599</td>\n",
       "</tr>\n",
       "<tr>\n",
       "  <th>C(Region)[T.Southern Europe]:C(OrderMonth)[T.08]</th> <td> -129.2583</td> <td> 1062.297</td> <td>   -0.122</td> <td> 0.903</td> <td>-2220.839</td> <td> 1962.323</td>\n",
       "</tr>\n",
       "<tr>\n",
       "  <th>C(Region)[T.Western Europe]:C(OrderMonth)[T.08]</th>  <td> -268.3340</td> <td>  819.951</td> <td>   -0.327</td> <td> 0.744</td> <td>-1882.754</td> <td> 1346.086</td>\n",
       "</tr>\n",
       "<tr>\n",
       "  <th>C(Region)[T.Central America]:C(OrderMonth)[T.09]</th> <td>   45.9333</td> <td> 1062.297</td> <td>    0.043</td> <td> 0.966</td> <td>-2045.648</td> <td> 2137.514</td>\n",
       "</tr>\n",
       "<tr>\n",
       "  <th>C(Region)[T.Eastern Europe]:C(OrderMonth)[T.09]</th>  <td> 4.062e-14</td> <td> 1.64e-13</td> <td>    0.248</td> <td> 0.804</td> <td>-2.82e-13</td> <td> 3.63e-13</td>\n",
       "</tr>\n",
       "<tr>\n",
       "  <th>C(Region)[T.North America]:C(OrderMonth)[T.09]</th>   <td>  736.7200</td> <td>  838.831</td> <td>    0.878</td> <td> 0.381</td> <td> -914.874</td> <td> 2388.314</td>\n",
       "</tr>\n",
       "<tr>\n",
       "  <th>C(Region)[T.Northern Europe]:C(OrderMonth)[T.09]</th> <td> -234.9381</td> <td>  710.253</td> <td>   -0.331</td> <td> 0.741</td> <td>-1633.372</td> <td> 1163.496</td>\n",
       "</tr>\n",
       "<tr>\n",
       "  <th>C(Region)[T.Scandinavia]:C(OrderMonth)[T.09]</th>     <td>-8.027e-14</td> <td>  8.1e-14</td> <td>   -0.991</td> <td> 0.323</td> <td> -2.4e-13</td> <td> 7.92e-14</td>\n",
       "</tr>\n",
       "<tr>\n",
       "  <th>C(Region)[T.South America]:C(OrderMonth)[T.09]</th>   <td> -385.2875</td> <td>  919.977</td> <td>   -0.419</td> <td> 0.676</td> <td>-2196.650</td> <td> 1426.075</td>\n",
       "</tr>\n",
       "<tr>\n",
       "  <th>C(Region)[T.Southern Europe]:C(OrderMonth)[T.09]</th> <td> 7.838e-14</td> <td> 8.12e-14</td> <td>    0.966</td> <td> 0.335</td> <td>-8.14e-14</td> <td> 2.38e-13</td>\n",
       "</tr>\n",
       "<tr>\n",
       "  <th>C(Region)[T.Western Europe]:C(OrderMonth)[T.09]</th>  <td>   17.4702</td> <td>  823.317</td> <td>    0.021</td> <td> 0.983</td> <td>-1603.578</td> <td> 1638.518</td>\n",
       "</tr>\n",
       "<tr>\n",
       "  <th>C(Region)[T.Central America]:C(OrderMonth)[T.10]</th> <td> 5.051e-15</td> <td> 9.52e-15</td> <td>    0.531</td> <td> 0.596</td> <td>-1.37e-14</td> <td> 2.38e-14</td>\n",
       "</tr>\n",
       "<tr>\n",
       "  <th>C(Region)[T.Eastern Europe]:C(OrderMonth)[T.10]</th>  <td> 3.717e-14</td> <td> 7.01e-14</td> <td>    0.531</td> <td> 0.596</td> <td>-1.01e-13</td> <td> 1.75e-13</td>\n",
       "</tr>\n",
       "<tr>\n",
       "  <th>C(Region)[T.North America]:C(OrderMonth)[T.10]</th>   <td>  486.9000</td> <td>  785.712</td> <td>    0.620</td> <td> 0.536</td> <td>-1060.105</td> <td> 2033.905</td>\n",
       "</tr>\n",
       "<tr>\n",
       "  <th>C(Region)[T.Northern Europe]:C(OrderMonth)[T.10]</th> <td>  102.2919</td> <td>  441.228</td> <td>    0.232</td> <td> 0.817</td> <td> -766.452</td> <td>  971.036</td>\n",
       "</tr>\n",
       "<tr>\n",
       "  <th>C(Region)[T.Scandinavia]:C(OrderMonth)[T.10]</th>     <td> -166.0617</td> <td>  469.528</td> <td>   -0.354</td> <td> 0.724</td> <td>-1090.526</td> <td>  758.402</td>\n",
       "</tr>\n",
       "<tr>\n",
       "  <th>C(Region)[T.South America]:C(OrderMonth)[T.10]</th>   <td> -548.1075</td> <td>  792.023</td> <td>   -0.692</td> <td> 0.490</td> <td>-2107.538</td> <td> 1011.323</td>\n",
       "</tr>\n",
       "<tr>\n",
       "  <th>C(Region)[T.Southern Europe]:C(OrderMonth)[T.10]</th> <td> -243.9033</td> <td> 1014.349</td> <td>   -0.240</td> <td> 0.810</td> <td>-2241.078</td> <td> 1753.272</td>\n",
       "</tr>\n",
       "<tr>\n",
       "  <th>C(Region)[T.Western Europe]:C(OrderMonth)[T.10]</th>  <td> -144.6679</td> <td>  756.801</td> <td>   -0.191</td> <td> 0.849</td> <td>-1634.751</td> <td> 1345.415</td>\n",
       "</tr>\n",
       "<tr>\n",
       "  <th>C(Region)[T.Central America]:C(OrderMonth)[T.11]</th> <td>  115.4000</td> <td> 1118.818</td> <td>    0.103</td> <td> 0.918</td> <td>-2087.467</td> <td> 2318.267</td>\n",
       "</tr>\n",
       "<tr>\n",
       "  <th>C(Region)[T.Eastern Europe]:C(OrderMonth)[T.11]</th>  <td>         0</td> <td>        0</td> <td>      nan</td> <td>   nan</td> <td>        0</td> <td>        0</td>\n",
       "</tr>\n",
       "<tr>\n",
       "  <th>C(Region)[T.North America]:C(OrderMonth)[T.11]</th>   <td>  613.8200</td> <td>  771.092</td> <td>    0.796</td> <td> 0.427</td> <td> -904.401</td> <td> 2132.041</td>\n",
       "</tr>\n",
       "<tr>\n",
       "  <th>C(Region)[T.Northern Europe]:C(OrderMonth)[T.11]</th> <td>         0</td> <td>        0</td> <td>      nan</td> <td>   nan</td> <td>        0</td> <td>        0</td>\n",
       "</tr>\n",
       "<tr>\n",
       "  <th>C(Region)[T.Scandinavia]:C(OrderMonth)[T.11]</th>     <td>  632.9916</td> <td>  626.733</td> <td>    1.010</td> <td> 0.313</td> <td> -600.997</td> <td> 1866.980</td>\n",
       "</tr>\n",
       "<tr>\n",
       "  <th>C(Region)[T.South America]:C(OrderMonth)[T.11]</th>   <td> -610.8075</td> <td>  950.397</td> <td>   -0.643</td> <td> 0.521</td> <td>-2482.066</td> <td> 1260.451</td>\n",
       "</tr>\n",
       "<tr>\n",
       "  <th>C(Region)[T.Southern Europe]:C(OrderMonth)[T.11]</th> <td>  -58.0333</td> <td>  993.092</td> <td>   -0.058</td> <td> 0.953</td> <td>-2013.354</td> <td> 1897.287</td>\n",
       "</tr>\n",
       "<tr>\n",
       "  <th>C(Region)[T.Western Europe]:C(OrderMonth)[T.11]</th>  <td> -146.7835</td> <td>  718.650</td> <td>   -0.204</td> <td> 0.838</td> <td>-1561.750</td> <td> 1268.183</td>\n",
       "</tr>\n",
       "<tr>\n",
       "  <th>C(Region)[T.Central America]:C(OrderMonth)[T.12]</th> <td>         0</td> <td>        0</td> <td>      nan</td> <td>   nan</td> <td>        0</td> <td>        0</td>\n",
       "</tr>\n",
       "<tr>\n",
       "  <th>C(Region)[T.Eastern Europe]:C(OrderMonth)[T.12]</th>  <td>  -90.8781</td> <td>  499.505</td> <td>   -0.182</td> <td> 0.856</td> <td>-1074.365</td> <td>  892.609</td>\n",
       "</tr>\n",
       "<tr>\n",
       "  <th>C(Region)[T.North America]:C(OrderMonth)[T.12]</th>   <td>  129.4205</td> <td>  792.322</td> <td>    0.163</td> <td> 0.870</td> <td>-1430.600</td> <td> 1689.441</td>\n",
       "</tr>\n",
       "<tr>\n",
       "  <th>C(Region)[T.Northern Europe]:C(OrderMonth)[T.12]</th> <td> -213.6335</td> <td>  401.860</td> <td>   -0.532</td> <td> 0.595</td> <td>-1004.865</td> <td>  577.599</td>\n",
       "</tr>\n",
       "<tr>\n",
       "  <th>C(Region)[T.Scandinavia]:C(OrderMonth)[T.12]</th>     <td>  -42.1413</td> <td>  487.885</td> <td>   -0.086</td> <td> 0.931</td> <td>-1002.749</td> <td>  918.466</td>\n",
       "</tr>\n",
       "<tr>\n",
       "  <th>C(Region)[T.South America]:C(OrderMonth)[T.12]</th>   <td> -337.7537</td> <td>  755.877</td> <td>   -0.447</td> <td> 0.655</td> <td>-1826.017</td> <td> 1150.510</td>\n",
       "</tr>\n",
       "<tr>\n",
       "  <th>C(Region)[T.Southern Europe]:C(OrderMonth)[T.12]</th> <td>  407.4838</td> <td>  993.092</td> <td>    0.410</td> <td> 0.682</td> <td>-1547.836</td> <td> 2362.804</td>\n",
       "</tr>\n",
       "<tr>\n",
       "  <th>C(Region)[T.Western Europe]:C(OrderMonth)[T.12]</th>  <td>  -19.4352</td> <td>  720.424</td> <td>   -0.027</td> <td> 0.978</td> <td>-1437.895</td> <td> 1399.025</td>\n",
       "</tr>\n",
       "</table>\n",
       "<table class=\"simpletable\">\n",
       "<tr>\n",
       "  <th>Omnibus:</th>       <td>95.899</td> <th>  Durbin-Watson:     </th> <td>   2.204</td>\n",
       "</tr>\n",
       "<tr>\n",
       "  <th>Prob(Omnibus):</th> <td> 0.000</td> <th>  Jarque-Bera (JB):  </th> <td> 243.070</td>\n",
       "</tr>\n",
       "<tr>\n",
       "  <th>Skew:</th>          <td> 1.320</td> <th>  Prob(JB):          </th> <td>1.65e-53</td>\n",
       "</tr>\n",
       "<tr>\n",
       "  <th>Kurtosis:</th>      <td> 6.129</td> <th>  Cond. No.          </th> <td>6.82e+16</td>\n",
       "</tr>\n",
       "</table><br/><br/>Warnings:<br/>[1] Standard Errors assume that the covariance matrix of the errors is correctly specified.<br/>[2] The smallest eigenvalue is 9.92e-32. This might indicate that there are<br/>strong multicollinearity problems or that the design matrix is singular."
      ],
      "text/plain": [
       "<class 'statsmodels.iolib.summary.Summary'>\n",
       "\"\"\"\n",
       "                            OLS Regression Results                            \n",
       "==============================================================================\n",
       "Dep. Variable:                Revenue   R-squared:                       0.186\n",
       "Model:                            OLS   Adj. R-squared:                 -0.061\n",
       "Method:                 Least Squares   F-statistic:                    0.7520\n",
       "Date:                Mon, 23 Sep 2019   Prob (F-statistic):              0.935\n",
       "Time:                        08:18:39   Log-Likelihood:                -2690.8\n",
       "No. Observations:                 348   AIC:                             5546.\n",
       "Df Residuals:                     266   BIC:                             5861.\n",
       "Df Model:                          81                                         \n",
       "Covariance Type:            nonrobust                                         \n",
       "====================================================================================================================\n",
       "                                                       coef    std err          t      P>|t|      [0.025      0.975]\n",
       "--------------------------------------------------------------------------------------------------------------------\n",
       "Intercept                                          714.0000    631.099      1.131      0.259    -528.584    1956.584\n",
       "C(Region)[T.Central America]                      -399.0000    892.508     -0.447      0.655   -2156.280    1358.280\n",
       "C(Region)[T.Eastern Europe]                       -112.1048    341.677     -0.328      0.743    -784.841     560.631\n",
       "C(Region)[T.North America]                        -247.6700    661.902     -0.374      0.709   -1550.903    1055.563\n",
       "C(Region)[T.Northern Europe]                       -27.8619    199.483     -0.140      0.889    -420.628     364.904\n",
       "C(Region)[T.Scandinavia]                           -67.8416    201.954     -0.336      0.737    -465.473     329.790\n",
       "C(Region)[T.South America]                         181.2875    669.381      0.271      0.787   -1136.672    1499.247\n",
       "C(Region)[T.Southern Europe]                       -23.0667    728.730     -0.032      0.975   -1457.879    1411.746\n",
       "C(Region)[T.Western Europe]                        243.1423    654.922      0.371      0.711   -1046.348    1532.633\n",
       "C(OrderMonth)[T.02]                               -341.3333    728.730     -0.468      0.640   -1776.146    1093.479\n",
       "C(OrderMonth)[T.03]                               -255.9750    681.665     -0.376      0.708   -1598.119    1086.169\n",
       "C(OrderMonth)[T.04]                                -62.5000    691.334     -0.090      0.928   -1423.683    1298.683\n",
       "C(OrderMonth)[T.05]                               -472.3000    728.730     -0.648      0.517   -1907.113     962.513\n",
       "C(OrderMonth)[T.06]                                466.0000    772.935      0.603      0.547   -1055.849    1987.849\n",
       "C(OrderMonth)[T.07]                                -70.6685    246.306     -0.287      0.774    -555.625     414.288\n",
       "C(OrderMonth)[T.08]                               -310.8750    772.935     -0.402      0.688   -1832.724    1210.974\n",
       "C(OrderMonth)[T.09]                               -193.2000    772.935     -0.250      0.803   -1715.049    1328.649\n",
       "C(OrderMonth)[T.10]                                -51.0300    705.590     -0.072      0.942   -1440.282    1338.222\n",
       "C(OrderMonth)[T.11]                               -110.4000    674.673     -0.164      0.870   -1438.779    1217.979\n",
       "C(OrderMonth)[T.12]                               -211.0171    674.673     -0.313      0.755   -1539.396    1117.361\n",
       "C(Region)[T.Central America]:C(OrderMonth)[T.02]   101.3333   1152.223      0.088      0.930   -2167.305    2369.972\n",
       "C(Region)[T.Eastern Europe]:C(OrderMonth)[T.02]   -1.62e-13   1.54e-11     -0.011      0.992   -3.05e-11    3.01e-11\n",
       "C(Region)[T.North America]:C(OrderMonth)[T.02]     877.0033    838.831      1.046      0.297    -774.590    2528.597\n",
       "C(Region)[T.Northern Europe]:C(OrderMonth)[T.02]  -244.0048    672.927     -0.363      0.717   -1568.945    1080.936\n",
       "C(Region)[T.Scandinavia]:C(OrderMonth)[T.02]       211.1749    671.909      0.314      0.754   -1111.762    1534.112\n",
       "C(Region)[T.South America]:C(OrderMonth)[T.02]    -226.7292    824.866     -0.275      0.784   -1850.827    1397.369\n",
       "C(Region)[T.Southern Europe]:C(OrderMonth)[T.02]  -268.9600   1030.580     -0.261      0.794   -2298.092    1760.172\n",
       "C(Region)[T.Western Europe]:C(OrderMonth)[T.02]    585.3160    781.966      0.749      0.455    -954.314    2124.946\n",
       "C(Region)[T.Central America]:C(OrderMonth)[T.03]   135.9750   1030.580      0.132      0.895   -1893.157    2165.107\n",
       "C(Region)[T.Eastern Europe]:C(OrderMonth)[T.03]   4.568e-13   2.23e-12      0.205      0.838   -3.93e-12    4.84e-12\n",
       "C(Region)[T.North America]:C(OrderMonth)[T.03]     891.3950    764.298      1.166      0.245    -613.449    2396.239\n",
       "C(Region)[T.Northern Europe]:C(OrderMonth)[T.03]  2.817e-13   1.26e-12      0.223      0.824   -2.21e-12    2.77e-12\n",
       "C(Region)[T.Scandinavia]:C(OrderMonth)[T.03]       1.17e-12   3.38e-12      0.347      0.729   -5.48e-12    7.82e-12\n",
       "C(Region)[T.South America]:C(OrderMonth)[T.03]     111.2911    755.877      0.147      0.883   -1376.972    1599.554\n",
       "C(Region)[T.Southern Europe]:C(OrderMonth)[T.03]  -121.0250    854.512     -0.142      0.887   -1803.492    1561.442\n",
       "C(Region)[T.Western Europe]:C(OrderMonth)[T.03]   -183.3473    722.396     -0.254      0.800   -1605.689    1238.995\n",
       "C(Region)[T.Central America]:C(OrderMonth)[T.04]  -116.5000   1128.944     -0.103      0.918   -2339.302    2106.302\n",
       "C(Region)[T.Eastern Europe]:C(OrderMonth)[T.04]  -4.435e-13   1.22e-12     -0.363      0.717   -2.85e-12    1.96e-12\n",
       "C(Region)[T.North America]:C(OrderMonth)[T.04]     158.0200    764.298      0.207      0.836   -1346.824    1662.864\n",
       "C(Region)[T.Northern Europe]:C(OrderMonth)[T.04]   316.8619    641.503      0.494      0.622    -946.209    1579.932\n",
       "C(Region)[T.Scandinavia]:C(OrderMonth)[T.04]       -33.6584    640.620     -0.053      0.958   -1294.990    1227.673\n",
       "C(Region)[T.South America]:C(OrderMonth)[T.04]    -182.3018    764.609     -0.238      0.812   -1687.757    1323.153\n",
       "C(Region)[T.Southern Europe]:C(OrderMonth)[T.04]  -407.4333    899.915     -0.453      0.651   -2179.296    1364.430\n",
       "C(Region)[T.Western Europe]:C(OrderMonth)[T.04]    -43.1423    726.976     -0.059      0.953   -1474.502    1388.217\n",
       "C(Region)[T.Central America]:C(OrderMonth)[T.05]   367.3000   1152.223      0.319      0.750   -1901.338    2635.938\n",
       "C(Region)[T.Eastern Europe]:C(OrderMonth)[T.05]   5.384e-13   7.76e-13      0.694      0.488   -9.89e-13    2.07e-12\n",
       "C(Region)[T.North America]:C(OrderMonth)[T.05]     116.0157    792.322      0.146      0.884   -1444.005    1676.036\n",
       "C(Region)[T.Northern Europe]:C(OrderMonth)[T.05]   621.3619    672.927      0.923      0.357    -703.579    1946.302\n",
       "C(Region)[T.Scandinavia]:C(OrderMonth)[T.05]       171.1416    545.397      0.314      0.754    -902.704    1244.987\n",
       "C(Region)[T.South America]:C(OrderMonth)[T.05]     174.0625    844.746      0.206      0.837   -1489.176    1837.301\n",
       "C(Region)[T.Southern Europe]:C(OrderMonth)[T.05] -1.156e-12   8.77e-13     -1.319      0.188   -2.88e-12    5.69e-13\n",
       "C(Region)[T.Western Europe]:C(OrderMonth)[T.05]    -60.3998    775.573     -0.078      0.938   -1587.443    1466.643\n",
       "C(Region)[T.Central America]:C(OrderMonth)[T.06]  -531.0000   1180.678     -0.450      0.653   -2855.662    1793.662\n",
       "C(Region)[T.Eastern Europe]:C(OrderMonth)[T.06]   -1.12e-12   9.42e-13     -1.189      0.235   -2.97e-12    7.34e-13\n",
       "C(Region)[T.North America]:C(OrderMonth)[T.06]    -743.4550    858.387     -0.866      0.387   -2433.552     946.642\n",
       "C(Region)[T.Northern Europe]:C(OrderMonth)[T.06]  -590.5381    591.245     -0.999      0.319   -1754.654     573.578\n",
       "C(Region)[T.Scandinavia]:C(OrderMonth)[T.06]      -612.3584    590.587     -1.037      0.301   -1775.178     550.461\n",
       "C(Region)[T.South America]:C(OrderMonth)[T.06]    5.541e-13   5.48e-13      1.011      0.313   -5.25e-13    1.63e-12\n",
       "C(Region)[T.Southern Europe]:C(OrderMonth)[T.06] -1111.9333   1062.297     -1.047      0.296   -3203.514     979.648\n",
       "C(Region)[T.Western Europe]:C(OrderMonth)[T.06]   -692.5173    853.016     -0.812      0.418   -2372.041     987.006\n",
       "C(Region)[T.Central America]:C(OrderMonth)[T.07]  2.675e-13    5.9e-13      0.454      0.650   -8.93e-13    1.43e-12\n",
       "C(Region)[T.Eastern Europe]:C(OrderMonth)[T.07]    -21.2267    526.606     -0.040      0.968   -1058.073    1015.620\n",
       "C(Region)[T.North America]:C(OrderMonth)[T.07]     328.8430    330.651      0.995      0.321    -322.182     979.868\n",
       "C(Region)[T.Northern Europe]:C(OrderMonth)[T.07]  6.312e-14   3.33e-13      0.189      0.850   -5.93e-13     7.2e-13\n",
       "C(Region)[T.Scandinavia]:C(OrderMonth)[T.07]      -228.9299    649.800     -0.352      0.725   -1508.335    1050.475\n",
       "C(Region)[T.South America]:C(OrderMonth)[T.07]     -79.2190    421.304     -0.188      0.851    -908.734     750.296\n",
       "C(Region)[T.Southern Europe]:C(OrderMonth)[T.07]  1.241e-13    6.8e-13      0.183      0.855   -1.21e-12    1.46e-12\n",
       "C(Region)[T.Western Europe]:C(OrderMonth)[T.07]    -70.1358    325.215     -0.216      0.829    -710.459     570.187\n",
       "C(Region)[T.Central America]:C(OrderMonth)[T.08]   335.8750   1180.678      0.284      0.776   -1988.787    2660.537\n",
       "C(Region)[T.Eastern Europe]:C(OrderMonth)[T.08]   1.381e-13   2.95e-13      0.468      0.640   -4.43e-13    7.19e-13\n",
       "C(Region)[T.North America]:C(OrderMonth)[T.08]     266.1450    858.387      0.310      0.757   -1423.952    1956.242\n",
       "C(Region)[T.Northern Europe]:C(OrderMonth)[T.08]   214.7369    545.840      0.393      0.694    -859.980    1289.454\n",
       "C(Region)[T.Scandinavia]:C(OrderMonth)[T.08]     -2.233e-13   3.05e-13     -0.732      0.465   -8.24e-13    3.77e-13\n",
       "C(Region)[T.South America]:C(OrderMonth)[T.08]     456.7208    883.162      0.517      0.605   -1282.157    2195.599\n",
       "C(Region)[T.Southern Europe]:C(OrderMonth)[T.08]  -129.2583   1062.297     -0.122      0.903   -2220.839    1962.323\n",
       "C(Region)[T.Western Europe]:C(OrderMonth)[T.08]   -268.3340    819.951     -0.327      0.744   -1882.754    1346.086\n",
       "C(Region)[T.Central America]:C(OrderMonth)[T.09]    45.9333   1062.297      0.043      0.966   -2045.648    2137.514\n",
       "C(Region)[T.Eastern Europe]:C(OrderMonth)[T.09]   4.062e-14   1.64e-13      0.248      0.804   -2.82e-13    3.63e-13\n",
       "C(Region)[T.North America]:C(OrderMonth)[T.09]     736.7200    838.831      0.878      0.381    -914.874    2388.314\n",
       "C(Region)[T.Northern Europe]:C(OrderMonth)[T.09]  -234.9381    710.253     -0.331      0.741   -1633.372    1163.496\n",
       "C(Region)[T.Scandinavia]:C(OrderMonth)[T.09]     -8.027e-14    8.1e-14     -0.991      0.323    -2.4e-13    7.92e-14\n",
       "C(Region)[T.South America]:C(OrderMonth)[T.09]    -385.2875    919.977     -0.419      0.676   -2196.650    1426.075\n",
       "C(Region)[T.Southern Europe]:C(OrderMonth)[T.09]  7.838e-14   8.12e-14      0.966      0.335   -8.14e-14    2.38e-13\n",
       "C(Region)[T.Western Europe]:C(OrderMonth)[T.09]     17.4702    823.317      0.021      0.983   -1603.578    1638.518\n",
       "C(Region)[T.Central America]:C(OrderMonth)[T.10]  5.051e-15   9.52e-15      0.531      0.596   -1.37e-14    2.38e-14\n",
       "C(Region)[T.Eastern Europe]:C(OrderMonth)[T.10]   3.717e-14   7.01e-14      0.531      0.596   -1.01e-13    1.75e-13\n",
       "C(Region)[T.North America]:C(OrderMonth)[T.10]     486.9000    785.712      0.620      0.536   -1060.105    2033.905\n",
       "C(Region)[T.Northern Europe]:C(OrderMonth)[T.10]   102.2919    441.228      0.232      0.817    -766.452     971.036\n",
       "C(Region)[T.Scandinavia]:C(OrderMonth)[T.10]      -166.0617    469.528     -0.354      0.724   -1090.526     758.402\n",
       "C(Region)[T.South America]:C(OrderMonth)[T.10]    -548.1075    792.023     -0.692      0.490   -2107.538    1011.323\n",
       "C(Region)[T.Southern Europe]:C(OrderMonth)[T.10]  -243.9033   1014.349     -0.240      0.810   -2241.078    1753.272\n",
       "C(Region)[T.Western Europe]:C(OrderMonth)[T.10]   -144.6679    756.801     -0.191      0.849   -1634.751    1345.415\n",
       "C(Region)[T.Central America]:C(OrderMonth)[T.11]   115.4000   1118.818      0.103      0.918   -2087.467    2318.267\n",
       "C(Region)[T.Eastern Europe]:C(OrderMonth)[T.11]           0          0        nan        nan           0           0\n",
       "C(Region)[T.North America]:C(OrderMonth)[T.11]     613.8200    771.092      0.796      0.427    -904.401    2132.041\n",
       "C(Region)[T.Northern Europe]:C(OrderMonth)[T.11]          0          0        nan        nan           0           0\n",
       "C(Region)[T.Scandinavia]:C(OrderMonth)[T.11]       632.9916    626.733      1.010      0.313    -600.997    1866.980\n",
       "C(Region)[T.South America]:C(OrderMonth)[T.11]    -610.8075    950.397     -0.643      0.521   -2482.066    1260.451\n",
       "C(Region)[T.Southern Europe]:C(OrderMonth)[T.11]   -58.0333    993.092     -0.058      0.953   -2013.354    1897.287\n",
       "C(Region)[T.Western Europe]:C(OrderMonth)[T.11]   -146.7835    718.650     -0.204      0.838   -1561.750    1268.183\n",
       "C(Region)[T.Central America]:C(OrderMonth)[T.12]          0          0        nan        nan           0           0\n",
       "C(Region)[T.Eastern Europe]:C(OrderMonth)[T.12]    -90.8781    499.505     -0.182      0.856   -1074.365     892.609\n",
       "C(Region)[T.North America]:C(OrderMonth)[T.12]     129.4205    792.322      0.163      0.870   -1430.600    1689.441\n",
       "C(Region)[T.Northern Europe]:C(OrderMonth)[T.12]  -213.6335    401.860     -0.532      0.595   -1004.865     577.599\n",
       "C(Region)[T.Scandinavia]:C(OrderMonth)[T.12]       -42.1413    487.885     -0.086      0.931   -1002.749     918.466\n",
       "C(Region)[T.South America]:C(OrderMonth)[T.12]    -337.7537    755.877     -0.447      0.655   -1826.017    1150.510\n",
       "C(Region)[T.Southern Europe]:C(OrderMonth)[T.12]   407.4838    993.092      0.410      0.682   -1547.836    2362.804\n",
       "C(Region)[T.Western Europe]:C(OrderMonth)[T.12]    -19.4352    720.424     -0.027      0.978   -1437.895    1399.025\n",
       "==============================================================================\n",
       "Omnibus:                       95.899   Durbin-Watson:                   2.204\n",
       "Prob(Omnibus):                  0.000   Jarque-Bera (JB):              243.070\n",
       "Skew:                           1.320   Prob(JB):                     1.65e-53\n",
       "Kurtosis:                       6.129   Cond. No.                     6.82e+16\n",
       "==============================================================================\n",
       "\n",
       "Warnings:\n",
       "[1] Standard Errors assume that the covariance matrix of the errors is correctly specified.\n",
       "[2] The smallest eigenvalue is 9.92e-32. This might indicate that there are\n",
       "strong multicollinearity problems or that the design matrix is singular.\n",
       "\"\"\""
      ]
     },
     "execution_count": 190,
     "metadata": {},
     "output_type": "execute_result"
    }
   ],
   "source": [
    "lm2.summary()"
   ]
  },
  {
   "cell_type": "markdown",
   "metadata": {},
   "source": [
    "By looking at the p value, we fail to reject null hypothesis for factor A ,C and Factor A and B interaction. That mean we can suggest that the average revenue for dairy products are not significantly different at anytime of the year and at any region. However, we can still look at those categories to see the small differences. "
   ]
  },
  {
   "cell_type": "markdown",
   "metadata": {},
   "source": [
    "There are a few different methods of post-hoc testing to find a difference between groups of factors. I will use Tukey’s HSD from 2 different libraries. It basically compares each pair combination available in a group.  "
   ]
  },
  {
   "cell_type": "code",
   "execution_count": 191,
   "metadata": {
    "scrolled": false
   },
   "outputs": [
    {
     "data": {
      "text/html": [
       "<table class=\"simpletable\">\n",
       "<caption>Multiple Comparison of Means - Tukey HSD,FWER=0.05</caption>\n",
       "<tr>\n",
       "  <th>group1</th> <th>group2</th> <th>meandiff</th>    <th>lower</th>     <th>upper</th>  <th>reject</th>\n",
       "</tr>\n",
       "<tr>\n",
       "    <td>01</td>     <td>02</td>   <td>-41.4511</td>   <td>-585.56</td>  <td>502.6578</td>  <td>False</td>\n",
       "</tr>\n",
       "<tr>\n",
       "    <td>01</td>     <td>03</td>   <td>-165.2788</td> <td>-632.914</td>  <td>302.3564</td>  <td>False</td>\n",
       "</tr>\n",
       "<tr>\n",
       "    <td>01</td>     <td>04</td>    <td>-56.087</td>  <td>-510.3031</td>  <td>398.129</td>  <td>False</td>\n",
       "</tr>\n",
       "<tr>\n",
       "    <td>01</td>     <td>05</td>   <td>-417.0923</td> <td>-928.9763</td>  <td>94.7917</td>  <td>False</td>\n",
       "</tr>\n",
       "<tr>\n",
       "    <td>01</td>     <td>06</td>   <td>-231.7972</td> <td>-835.9195</td>  <td>372.325</td>  <td>False</td>\n",
       "</tr>\n",
       "<tr>\n",
       "    <td>01</td>     <td>07</td>   <td>-20.8351</td>  <td>-538.3136</td> <td>496.6434</td>  <td>False</td>\n",
       "</tr>\n",
       "<tr>\n",
       "    <td>01</td>     <td>08</td>   <td>-265.5782</td> <td>-802.2951</td> <td>271.1387</td>  <td>False</td>\n",
       "</tr>\n",
       "<tr>\n",
       "    <td>01</td>     <td>09</td>   <td>-89.9756</td>  <td>-634.0845</td> <td>454.1333</td>  <td>False</td>\n",
       "</tr>\n",
       "<tr>\n",
       "    <td>01</td>     <td>10</td>   <td>-110.9483</td> <td>-603.5997</td> <td>381.7031</td>  <td>False</td>\n",
       "</tr>\n",
       "<tr>\n",
       "    <td>01</td>     <td>11</td>   <td>-67.8206</td>  <td>-574.4544</td> <td>438.8132</td>  <td>False</td>\n",
       "</tr>\n",
       "<tr>\n",
       "    <td>01</td>     <td>12</td>   <td>-246.5678</td> <td>-720.4803</td> <td>227.3447</td>  <td>False</td>\n",
       "</tr>\n",
       "<tr>\n",
       "    <td>02</td>     <td>03</td>   <td>-123.8277</td> <td>-662.478</td>  <td>414.8226</td>  <td>False</td>\n",
       "</tr>\n",
       "<tr>\n",
       "    <td>02</td>     <td>04</td>    <td>-14.636</td>  <td>-541.6783</td> <td>512.4064</td>  <td>False</td>\n",
       "</tr>\n",
       "<tr>\n",
       "    <td>02</td>     <td>05</td>   <td>-375.6412</td> <td>-953.1243</td> <td>201.8418</td>  <td>False</td>\n",
       "</tr>\n",
       "<tr>\n",
       "    <td>02</td>     <td>06</td>   <td>-190.3461</td> <td>-850.9709</td> <td>470.2787</td>  <td>False</td>\n",
       "</tr>\n",
       "<tr>\n",
       "    <td>02</td>     <td>07</td>    <td>20.616</td>   <td>-561.8318</td> <td>603.0638</td>  <td>False</td>\n",
       "</tr>\n",
       "<tr>\n",
       "    <td>02</td>     <td>08</td>   <td>-224.1271</td> <td>-823.7323</td> <td>375.4781</td>  <td>False</td>\n",
       "</tr>\n",
       "<tr>\n",
       "    <td>02</td>     <td>09</td>   <td>-48.5245</td>  <td>-654.7555</td> <td>557.7064</td>  <td>False</td>\n",
       "</tr>\n",
       "<tr>\n",
       "    <td>02</td>     <td>10</td>   <td>-69.4972</td>  <td>-630.0031</td> <td>491.0087</td>  <td>False</td>\n",
       "</tr>\n",
       "<tr>\n",
       "    <td>02</td>     <td>11</td>   <td>-26.3695</td>  <td>-599.2039</td> <td>546.4648</td>  <td>False</td>\n",
       "</tr>\n",
       "<tr>\n",
       "    <td>02</td>     <td>12</td>   <td>-205.1167</td> <td>-749.2256</td> <td>338.9922</td>  <td>False</td>\n",
       "</tr>\n",
       "<tr>\n",
       "    <td>03</td>     <td>04</td>   <td>109.1918</td>  <td>-338.4709</td> <td>556.8544</td>  <td>False</td>\n",
       "</tr>\n",
       "<tr>\n",
       "    <td>03</td>     <td>05</td>   <td>-251.8135</td> <td>-757.8915</td> <td>254.2644</td>  <td>False</td>\n",
       "</tr>\n",
       "<tr>\n",
       "    <td>03</td>     <td>06</td>   <td>-66.5184</td>  <td>-665.729</td>  <td>532.6922</td>  <td>False</td>\n",
       "</tr>\n",
       "<tr>\n",
       "    <td>03</td>     <td>07</td>   <td>144.4437</td>  <td>-367.2923</td> <td>656.1796</td>  <td>False</td>\n",
       "</tr>\n",
       "<tr>\n",
       "    <td>03</td>     <td>08</td>   <td>-100.2994</td> <td>-631.4817</td> <td>430.8829</td>  <td>False</td>\n",
       "</tr>\n",
       "<tr>\n",
       "    <td>03</td>     <td>09</td>    <td>75.3032</td>  <td>-463.3471</td> <td>613.9535</td>  <td>False</td>\n",
       "</tr>\n",
       "<tr>\n",
       "    <td>03</td>     <td>10</td>    <td>54.3305</td>  <td>-432.2854</td> <td>540.9465</td>  <td>False</td>\n",
       "</tr>\n",
       "<tr>\n",
       "    <td>03</td>     <td>11</td>    <td>97.4582</td>  <td>-403.3087</td>  <td>598.225</td>  <td>False</td>\n",
       "</tr>\n",
       "<tr>\n",
       "    <td>03</td>     <td>12</td>    <td>-81.289</td>  <td>-548.9242</td> <td>386.3463</td>  <td>False</td>\n",
       "</tr>\n",
       "<tr>\n",
       "    <td>04</td>     <td>05</td>   <td>-361.0053</td>  <td>-854.71</td>  <td>132.6995</td>  <td>False</td>\n",
       "</tr>\n",
       "<tr>\n",
       "    <td>04</td>     <td>06</td>   <td>-175.7102</td> <td>-764.508</td>  <td>413.0877</td>  <td>False</td>\n",
       "</tr>\n",
       "<tr>\n",
       "    <td>04</td>     <td>07</td>    <td>35.2519</td>  <td>-464.251</td>  <td>534.7549</td>  <td>False</td>\n",
       "</tr>\n",
       "<tr>\n",
       "    <td>04</td>     <td>08</td>   <td>-209.4912</td> <td>-728.8987</td> <td>309.9164</td>  <td>False</td>\n",
       "</tr>\n",
       "<tr>\n",
       "    <td>04</td>     <td>09</td>   <td>-33.8886</td>  <td>-560.9309</td> <td>493.1538</td>  <td>False</td>\n",
       "</tr>\n",
       "<tr>\n",
       "    <td>04</td>     <td>10</td>   <td>-54.8612</td>  <td>-528.5959</td> <td>418.8735</td>  <td>False</td>\n",
       "</tr>\n",
       "<tr>\n",
       "    <td>04</td>     <td>11</td>   <td>-11.7336</td>  <td>-499.9927</td> <td>476.5255</td>  <td>False</td>\n",
       "</tr>\n",
       "<tr>\n",
       "    <td>04</td>     <td>12</td>   <td>-190.4807</td> <td>-644.6968</td> <td>263.7353</td>  <td>False</td>\n",
       "</tr>\n",
       "<tr>\n",
       "    <td>05</td>     <td>06</td>   <td>185.2951</td>  <td>-449.0517</td> <td>819.6419</td>  <td>False</td>\n",
       "</tr>\n",
       "<tr>\n",
       "    <td>05</td>     <td>07</td>   <td>396.2572</td>  <td>-156.2066</td>  <td>948.721</td>  <td>False</td>\n",
       "</tr>\n",
       "<tr>\n",
       "    <td>05</td>     <td>08</td>   <td>151.5141</td>  <td>-419.0095</td> <td>722.0377</td>  <td>False</td>\n",
       "</tr>\n",
       "<tr>\n",
       "    <td>05</td>     <td>09</td>   <td>327.1167</td>  <td>-250.3664</td> <td>904.5997</td>  <td>False</td>\n",
       "</tr>\n",
       "<tr>\n",
       "    <td>05</td>     <td>10</td>    <td>306.144</td>  <td>-223.1362</td> <td>835.4243</td>  <td>False</td>\n",
       "</tr>\n",
       "<tr>\n",
       "    <td>05</td>     <td>11</td>   <td>349.2717</td>  <td>-193.0474</td> <td>891.5908</td>  <td>False</td>\n",
       "</tr>\n",
       "<tr>\n",
       "    <td>05</td>     <td>12</td>   <td>170.5245</td>  <td>-341.3595</td> <td>682.4085</td>  <td>False</td>\n",
       "</tr>\n",
       "<tr>\n",
       "    <td>06</td>     <td>07</td>   <td>210.9621</td>  <td>-427.9077</td>  <td>849.832</td>  <td>False</td>\n",
       "</tr>\n",
       "<tr>\n",
       "    <td>06</td>     <td>08</td>    <td>-33.781</td>  <td>-688.331</td>   <td>620.769</td>  <td>False</td>\n",
       "</tr>\n",
       "<tr>\n",
       "    <td>06</td>     <td>09</td>   <td>141.8216</td>  <td>-518.8032</td> <td>802.4464</td>  <td>False</td>\n",
       "</tr>\n",
       "<tr>\n",
       "    <td>06</td>     <td>10</td>    <td>120.849</td>  <td>-498.0824</td> <td>739.7803</td>  <td>False</td>\n",
       "</tr>\n",
       "<tr>\n",
       "    <td>06</td>     <td>11</td>   <td>163.9766</td>  <td>-466.1412</td> <td>794.0944</td>  <td>False</td>\n",
       "</tr>\n",
       "<tr>\n",
       "    <td>06</td>     <td>12</td>   <td>-14.7706</td>  <td>-618.8928</td> <td>589.3517</td>  <td>False</td>\n",
       "</tr>\n",
       "<tr>\n",
       "    <td>07</td>     <td>08</td>   <td>-244.7431</td> <td>-820.2915</td> <td>330.8053</td>  <td>False</td>\n",
       "</tr>\n",
       "<tr>\n",
       "    <td>07</td>     <td>09</td>   <td>-69.1405</td>  <td>-651.5883</td> <td>513.3073</td>  <td>False</td>\n",
       "</tr>\n",
       "<tr>\n",
       "    <td>07</td>     <td>10</td>   <td>-90.1132</td>  <td>-624.8059</td> <td>444.5796</td>  <td>False</td>\n",
       "</tr>\n",
       "<tr>\n",
       "    <td>07</td>     <td>11</td>   <td>-46.9855</td>  <td>-594.5882</td> <td>500.6172</td>  <td>False</td>\n",
       "</tr>\n",
       "<tr>\n",
       "    <td>07</td>     <td>12</td>   <td>-225.7327</td> <td>-743.2112</td> <td>291.7459</td>  <td>False</td>\n",
       "</tr>\n",
       "<tr>\n",
       "    <td>08</td>     <td>09</td>   <td>175.6026</td>  <td>-424.0027</td> <td>775.2078</td>  <td>False</td>\n",
       "</tr>\n",
       "<tr>\n",
       "    <td>08</td>     <td>10</td>   <td>154.6299</td>  <td>-398.703</td>  <td>707.9629</td>  <td>False</td>\n",
       "</tr>\n",
       "<tr>\n",
       "    <td>08</td>     <td>11</td>   <td>197.7576</td>  <td>-368.0602</td> <td>763.5753</td>  <td>False</td>\n",
       "</tr>\n",
       "<tr>\n",
       "    <td>08</td>     <td>12</td>    <td>19.0104</td>  <td>-517.7065</td> <td>555.7273</td>  <td>False</td>\n",
       "</tr>\n",
       "<tr>\n",
       "    <td>09</td>     <td>10</td>   <td>-20.9726</td>  <td>-581.4785</td> <td>539.5332</td>  <td>False</td>\n",
       "</tr>\n",
       "<tr>\n",
       "    <td>09</td>     <td>11</td>    <td>22.155</td>   <td>-550.6793</td> <td>594.9894</td>  <td>False</td>\n",
       "</tr>\n",
       "<tr>\n",
       "    <td>09</td>     <td>12</td>   <td>-156.5921</td> <td>-700.701</td>  <td>387.5167</td>  <td>False</td>\n",
       "</tr>\n",
       "<tr>\n",
       "    <td>10</td>     <td>11</td>    <td>43.1277</td>  <td>-481.0766</td> <td>567.3319</td>  <td>False</td>\n",
       "</tr>\n",
       "<tr>\n",
       "    <td>10</td>     <td>12</td>   <td>-135.6195</td> <td>-628.2709</td> <td>357.0319</td>  <td>False</td>\n",
       "</tr>\n",
       "<tr>\n",
       "    <td>11</td>     <td>12</td>   <td>-178.7472</td> <td>-685.3809</td> <td>327.8866</td>  <td>False</td>\n",
       "</tr>\n",
       "</table>"
      ],
      "text/plain": [
       "<class 'statsmodels.iolib.table.SimpleTable'>"
      ]
     },
     "execution_count": 191,
     "metadata": {},
     "output_type": "execute_result"
    },
    {
     "data": {
      "image/png": "[encoded data removed]",
      "text/plain": [
       "<Figure size 720x432 with 1 Axes>"
      ]
     },
     "metadata": {},
     "output_type": "display_data"
    }
   ],
   "source": [
    "from statsmodels.stats.multicomp import pairwise_tukeyhsd\n",
    "\n",
    "tukey = pairwise_tukeyhsd(endog=data.Revenue,     # Data\n",
    "                          groups=data.OrderMonth,   # Groups\n",
    "                          alpha=0.05)          # Significance level\n",
    "\n",
    "tukey.plot_simultaneous()    # Plot group confidence intervals\n",
    "#plt.vlines(x=49.57,ymin=-0.5,ymax=4.5, color=\"red\")\n",
    "\n",
    "tukey.summary() "
   ]
  },
  {
   "cell_type": "markdown",
   "metadata": {},
   "source": [
    "As it shows in the reject column, non of those pairs are significantly different from each other in termes of mean revenue. However, you can see the small monthly flactuations from the plot.  \n",
    "\n",
    "Another way of doing this tst is directly through the statsmodels.stats.multicomp library. This time we can see the plots showing the confedence level of each group individually. "
   ]
  },
  {
   "cell_type": "code",
   "execution_count": 192,
   "metadata": {},
   "outputs": [
    {
     "ename": "NameError",
     "evalue": "name 'mc' is not defined",
     "output_type": "error",
     "traceback": [
      "\u001b[0;31m---------------------------------------------------------------------------\u001b[0m",
      "\u001b[0;31mNameError\u001b[0m                                 Traceback (most recent call last)",
      "\u001b[0;32m<ipython-input-192-49d1bfba7f0a>\u001b[0m in \u001b[0;36m<module>\u001b[0;34m()\u001b[0m\n\u001b[1;32m      2\u001b[0m \u001b[0;31m# for comparing the product categories, we use visualizations\u001b[0m\u001b[0;34m\u001b[0m\u001b[0;34m\u001b[0m\u001b[0;34m\u001b[0m\u001b[0m\n\u001b[1;32m      3\u001b[0m \u001b[0mposthoc\u001b[0m \u001b[0;34m=\u001b[0m \u001b[0mstatsmodels\u001b[0m\u001b[0;34m.\u001b[0m\u001b[0mstats\u001b[0m\u001b[0;34m.\u001b[0m\u001b[0mmulticomp\u001b[0m\u001b[0;34m.\u001b[0m\u001b[0mMultiComparison\u001b[0m\u001b[0;34m(\u001b[0m\u001b[0mdata\u001b[0m\u001b[0;34m[\u001b[0m\u001b[0;34m'Revenue'\u001b[0m\u001b[0;34m]\u001b[0m\u001b[0;34m,\u001b[0m \u001b[0mdata\u001b[0m\u001b[0;34m[\u001b[0m\u001b[0;34m'Region'\u001b[0m\u001b[0;34m]\u001b[0m\u001b[0;34m)\u001b[0m\u001b[0;34m\u001b[0m\u001b[0;34m\u001b[0m\u001b[0m\n\u001b[0;32m----> 4\u001b[0;31m \u001b[0mposthoc_results\u001b[0m \u001b[0;34m=\u001b[0m \u001b[0mmc\u001b[0m\u001b[0;34m.\u001b[0m\u001b[0mtukeyhsd\u001b[0m\u001b[0;34m(\u001b[0m\u001b[0;34m)\u001b[0m\u001b[0;34m\u001b[0m\u001b[0;34m\u001b[0m\u001b[0m\n\u001b[0m\u001b[1;32m      5\u001b[0m \u001b[0mprint\u001b[0m\u001b[0;34m(\u001b[0m\u001b[0;34m'\\n'\u001b[0m\u001b[0;34m,\u001b[0m \u001b[0mposthoc_results\u001b[0m\u001b[0;34m)\u001b[0m\u001b[0;34m\u001b[0m\u001b[0;34m\u001b[0m\u001b[0m\n",
      "\u001b[0;31mNameError\u001b[0m: name 'mc' is not defined"
     ]
    }
   ],
   "source": [
    "import statsmodels.stats.multicomp\n",
    "# for comparing the product categories, we use visualizations\n",
    "posthoc = statsmodels.stats.multicomp.MultiComparison(data['Revenue'], data['Region'])\n",
    "posthoc_results = mc.tukeyhsd()\n",
    "print('\\n', posthoc_results)"
   ]
  },
  {
   "cell_type": "code",
   "execution_count": null,
   "metadata": {},
   "outputs": [],
   "source": [
    "regions=data.Region.unique()"
   ]
  },
  {
   "cell_type": "code",
   "execution_count": null,
   "metadata": {
    "scrolled": false
   },
   "outputs": [],
   "source": [
    "for i in regions:\n",
    "    posthoc_results.plot_simultaneous(comparison_name=i, figsize=(6,4));"
   ]
  },
  {
   "cell_type": "code",
   "execution_count": null,
   "metadata": {},
   "outputs": [],
   "source": [
    "#data[data['Region']==\"Eastern Europe\"]"
   ]
  },
  {
   "cell_type": "code",
   "execution_count": null,
   "metadata": {},
   "outputs": [],
   "source": [
    "data12= data.groupby('Region').sum()\n",
    "data12"
   ]
  },
  {
   "cell_type": "code",
   "execution_count": null,
   "metadata": {},
   "outputs": [],
   "source": [
    "data12.Revenue/data12.Quantity"
   ]
  },
  {
   "cell_type": "markdown",
   "metadata": {},
   "source": [
    "### 4.5 - Conclusion\n",
    "\n",
    "According to ANOVA tests result, we fail to reject the null hypothesis. So, neither region nor the time of the year does not effect the average revanue from dairy product significantly. \n",
    "\n",
    "* That would mean Cheese is a timeless product. It can be sold anywhere and anytime. \n",
    "* The company can invest on advertising so that it attracts more customer without worrying about the season and location. \n",
    "* Western Europe region had the most number of orders and the largest revenue.   \n",
    "* Eastern Europe region are lowest on cheese sale.\n",
    "* Averadly the largest volume of cheese sale happens in January \n",
    "\n",
    "### 4.6 - Further Research\n",
    "\n",
    "* The reason for Eastern Europe having low orders should be investigated. \n"
   ]
  },
  {
   "cell_type": "markdown",
   "metadata": {},
   "source": [
    "# Conclusions for all 4 tests\n",
    "\n",
    " * I have run the two sample Welch's t-test to investigate discount effects on quantity and another Welch's t-test on the profit. All discount levels increase the sale amount. However, since the price drops with the discounts, at some levels, discount does not help for overall profit to increase.  For 10%, 15% and 20% discounts, the sale amount increases but the new sale amount does not compromise the decreased price. So the company makes less money then the average profit on those sales with no discount. **Simply put, if no discount would have applied, company would sale less product but make more money on 10%, 15% and 20% discounts. According to this data, I would suggest stick with the 5% and 25% discounts. 5% discount exceptionally works well for making more sale and more profit.** \n",
    " \n",
    "\n",
    " * Three different generations are working together at Northwind Company. Majority of the sale force population are millennials who are  in between 22-37 years old.  There are employees from Gen X and Gen Z as well. According to the result of one-way ANOVA test, there is no significant difference between  performances of different generations in the company.  **Employees from all ages would perform almost equally in terms of sales.** We can confidently say that companies sales policy and trainings are working across the generations in the company. That is good news. **We also observe experienced employees perform slightly better than the less experienced ones.  I would suggest mentorship among the employees to support the young ones to catch up with the others.**\n",
    "\n",
    "* Company sells cheese in 8 regions year round. I have run two-way ANOVA test to see if there is any difference of the cheese sale in between regions.  Also tested the months of the year if there is any significant increase or decrease on the sales. Also tested if there is any best combination of the time of the year and the region. **Test results suggest that no significant difference between any of the region nor time of the year for cheese sales. However, largest volume of the cheese sale happens in the Western Europe and overall cheese sales are highest in the month of  April .  I would advertise and kick-off the sale of the new line of cheese in Januaryin Western Europe region.** \n"
   ]
  },
  {
   "cell_type": "code",
   "execution_count": null,
   "metadata": {},
   "outputs": [],
   "source": []
  },
  {
   "cell_type": "code",
   "execution_count": null,
   "metadata": {},
   "outputs": [],
   "source": []
  },
  {
   "cell_type": "code",
   "execution_count": null,
   "metadata": {},
   "outputs": [],
   "source": []
  }
 ],
 "metadata": {
  "kernelspec": {
   "display_name": "Python 3",
   "language": "python",
   "name": "python3"
  },
  "language_info": {
   "codemirror_mode": {
    "name": "ipython",
    "version": 3
   },
   "file_extension": ".py",
   "mimetype": "text/x-python",
   "name": "python",
   "nbconvert_exporter": "python",
   "pygments_lexer": "ipython3",
   "version": "3.7.1"
  }
 },
 "nbformat": 4,
 "nbformat_minor": 2
}
